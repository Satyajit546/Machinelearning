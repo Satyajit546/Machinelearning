{
  "nbformat": 4,
  "nbformat_minor": 0,
  "metadata": {
    "colab": {
      "provenance": []
    },
    "kernelspec": {
      "name": "python3",
      "display_name": "Python 3"
    },
    "language_info": {
      "name": "python"
    }
  },
  "cells": [
    {
      "cell_type": "markdown",
      "source": [
        "#1.Can we use Bagging for regression problems?"
      ],
      "metadata": {
        "id": "zXl5AeVOHQda"
      }
    },
    {
      "cell_type": "markdown",
      "source": [
        "Why Bagging works for Regression:\n",
        "\n",
        "Reduces Variance: Bagging, or Bootstrap Aggregating, is an ensemble method that aims to reduce the variance of a prediction model. This is achieved by training multiple base learners (like decision trees) on different subsets of the training data and then averaging their predictions. This averaging process helps to smooth out individual model errors and produce a more stable prediction.\n",
        "Improves Stability: By combining predictions from multiple models, Bagging reduces the impact of any single model's instability. This leads to more robust predictions that are less sensitive to fluctuations in the training data.\n",
        "How to use Bagging for Regression:\n",
        "\n",
        "Create Bootstrap Samples: Randomly sample data points from your training data with replacement to create multiple bootstrap samples. Each sample should have the same size as the original training dataset.\n",
        "\n",
        "Train Base Learners: Train a separate regression model (e.g., a decision tree) on each bootstrap sample.\n",
        "\n",
        "Aggregate Predictions: For a new data point, obtain predictions from all the trained base learners. Average these predictions to produce the final prediction."
      ],
      "metadata": {
        "id": "LA62hdonH44a"
      }
    },
    {
      "cell_type": "markdown",
      "source": [
        "    from sklearn.ensemble import BaggingRegressor\n",
        "    from sklearn.tree import DecisionTreeRegressor\n",
        "\n",
        "    # Create a BaggingRegressor with DecisionTreeRegressor as the base learner\n",
        "    bagging_regressor = BaggingRegressor(base_estimator=DecisionTreeRegressor(),\n",
        "                                     n_estimators=10,\n",
        "                                     random_state=42)\n",
        "\n",
        "    # Fit the BaggingRegressor to your training data\n",
        "    bagging_regressor.fit(X_train, y_train)\n",
        "\n",
        "    # Make predictions on new data\n",
        "    y_pred = bagging_regressor.predict(X_test)\n",
        "\n",
        "In this example, BaggingRegressor uses 10 decision trees (n_estimators=10) as base learners. The random_state parameter is set for reproducibility. You would replace X_train, y_train, and X_test with your actual training and testing data.    "
      ],
      "metadata": {
        "id": "1Q2JOZHJH-74"
      }
    },
    {
      "cell_type": "markdown",
      "source": [
        "#3.Explain the concept of feature randomness in Random Forest."
      ],
      "metadata": {
        "id": "VRx1yS5BIbYw"
      }
    },
    {
      "cell_type": "markdown",
      "source": [
        "Feature randomness, also known as feature bagging or the random subspace method, is a crucial technique used in Random Forest to enhance the diversity and performance of the model.\n",
        "\n",
        "#Here's how it works:\n",
        "\n",
        "Subset of Features: When building individual decision trees within a Random Forest, instead of considering all available features for each split, a random subset of features is selected. This subset is typically much smaller than the total number of features in the dataset.\n",
        "\n",
        "Random Selection: The features for the subset are chosen randomly at each node of the decision tree. This random selection introduces variability in the trees and prevents them from becoming too correlated with each other.\n",
        "\n",
        "Improved Diversity: By using different subsets of features for different trees, feature randomness promotes diversity within the Random Forest. This diversity is key to reducing overfitting and improving the generalization ability of the model.\n",
        "\n",
        "Reduced Correlation: Feature randomness also helps to decorrelate the trees in the forest. If all trees were built using the same set of features, they would likely make similar predictions, and the ensemble would not be as effective. By introducing randomness, the trees become more independent, and their combined predictions are more robust.\n",
        "\n",
        "#Benefits of Feature Randomness:\n",
        "\n",
        "Reduced Overfitting: By limiting the features considered at each split, feature randomness helps prevent individual trees from becoming too complex and overfitting the training data.\n",
        "Improved Generalization: The diversity introduced by feature randomness leads to a more robust model that generalizes better to unseen data.\n",
        "Increased Accuracy: By combining predictions from diverse trees, Random Forest often achieves higher accuracy compared to single decision trees or other ensemble methods that don't incorporate feature randomness.\n",
        "In essence, feature randomness is a key ingredient in the success of Random Forest. It helps to create a diverse and robust ensemble of decision trees, leading to improved prediction accuracy and generalization performance."
      ],
      "metadata": {
        "id": "5RsVSXKhJE-2"
      }
    },
    {
      "cell_type": "markdown",
      "source": [
        "#4.What is OOB(Out-of-Bag) Score?"
      ],
      "metadata": {
        "id": "BMywTo3SJK5n"
      }
    },
    {
      "cell_type": "markdown",
      "source": [
        "OOB Score is a method for estimating the prediction error of a Random Forest model without the need for a separate validation dataset. It leverages the way Random Forest builds individual decision trees using bootstrap samples of the training data.\n",
        "\n",
        "Here's how it works:\n",
        "\n",
        "Bootstrap Sampling: When training a Random Forest, each decision tree is built using a bootstrap sample, which is a random sample with replacement from the original training data. This means that some data points are included in the bootstrap sample multiple times, while others are left out.\n",
        "\n",
        "Out-of-Bag Data: The data points that are not included in a particular tree's bootstrap sample are referred to as \"out-of-bag\" (OOB) data for that tree.\n",
        "\n",
        "OOB Prediction: For each data point in the training set, predictions are made by the trees for which that data point was OOB.\n",
        "\n",
        "OOB Score Calculation: The OOB score is then calculated by aggregating the predictions for each data point across all the trees for which it was OOB. This score represents the model's performance on unseen data, similar to a validation set score.\n",
        "\n",
        "#Benefits of OOB Score:\n",
        "\n",
        "No Need for Validation Set: OOB score eliminates the need to split the data into training and validation sets, allowing you to use all your data for training.\n",
        "Efficient Estimation: It provides an efficient way to estimate the model's generalization error without the computational cost of cross-validation.\n",
        "Internal Validation: It serves as an internal validation mechanism during the training process, giving you insights into the model's performance.\n",
        "\n",
        "How to access OOB Score in scikit-learn:\n",
        "\n",
        "\n",
        "    from sklearn.ensemble import RandomForestClassifier\n",
        "\n",
        "    # Create a Random Forest classifier with oob_score enabled\n",
        "    rf_classifier = RandomForestClassifier(oob_score=True, random_state=42)\n",
        "\n",
        "    # Fit the classifier to the training data\n",
        "    rf_classifier.fit(X_train, y_train)\n",
        "\n",
        "    # Access the OOB score\n",
        "    oob_score = rf_classifier.oob_score_\n",
        "\n",
        "    # Print the OOB score\n",
        "    print(\"OOB Score:\", oob_score)\n",
        "\n",
        "\n",
        "In this example, oob_score=True enables the calculation of the OOB score during training. After fitting the model, you can access the score using rf_classifier.oob_score_.    "
      ],
      "metadata": {
        "id": "8Axg5ORUJ5Um"
      }
    },
    {
      "cell_type": "markdown",
      "source": [
        "#5.How can you measure the importence of features in a Random Forest model?"
      ],
      "metadata": {
        "id": "cjteDjTBKZjl"
      }
    },
    {
      "cell_type": "markdown",
      "source": [
        "Random Forest models offer a built-in mechanism to assess the importance of features in making predictions. This is achieved through a concept called feature importance scores.\n",
        "\n",
        "Here's how it works:\n",
        "\n",
        "Gini Importance or Mean Decrease in Impurity (MDI):\n",
        "\n",
        "This method is based on the Gini impurity, which is a measure of how often a randomly chosen element from the set would be incorrectly labeled if it was randomly labeled according to the distribution of labels in the subset.\n",
        "For each feature, the total reduction in Gini impurity across all trees in the forest is calculated.\n",
        "Features that contribute more to reducing impurity are considered more important.\n",
        "Permutation Importance or Mean Decrease in Accuracy (MDA):\n",
        "\n",
        "This method involves randomly shuffling the values of a specific feature and measuring the impact on the model's performance (e.g., accuracy).\n",
        "If shuffling the values of a feature significantly reduces the model's performance, it indicates that the feature is important.\n",
        "The decrease in performance is averaged across all trees to obtain the permutation importance score for the feature.\n",
        "\n",
        "Accessing Feature Importance in scikit-learn:\n",
        "\n",
        "\n",
        "    from sklearn.ensemble import RandomForestClassifier\n",
        "\n",
        "    # Create a Random Forest classifier\n",
        "    rf_classifier = RandomForestClassifier(random_state=42)\n",
        "\n",
        "    # Fit the classifier to the training data\n",
        "    rf_classifier.fit(X_train, y_train)\n",
        "\n",
        "    # Access feature importance scores\n",
        "    feature_importances = rf_classifier.feature_importances_\n",
        "\n",
        "    # Print feature importance scores\n",
        "    for i, feature in enumerate(X_train.columns):\n",
        "          print(f\"{feature}: {feature_importances[i]}\")\n",
        "\n",
        "Visualizing Feature Importance:\n",
        "\n",
        "You can visualize feature importance scores using libraries like matplotlib or seaborn:\n",
        "\n",
        "\n",
        "     import matplotlib.pyplot as plt\n",
        "     import seaborn as sns\n",
        "\n",
        "     # Create a bar plot of feature importances\n",
        "     sns.barplot(x=feature_importances, y=X_train.columns)\n",
        "     plt.xlabel(\"Feature Importance Score\")\n",
        "     plt.ylabel(\"Features\")\n",
        "     plt.title(\"Feature Importance in Random Forest\")\n",
        "     plt.show()\n",
        "\n",
        "To see the output, run the code.\n",
        "\n",
        "These scores can help you understand which features have the most influence on the model's predictions. By identifying important features, you can potentially simplify your model, improve its interpretability, and focus on collecting more data for those features to further enhance the model's performance."
      ],
      "metadata": {
        "id": "nOvqyH2pLGNM"
      }
    },
    {
      "cell_type": "markdown",
      "source": [
        "#6.Explain the working of Bagging Classifier."
      ],
      "metadata": {
        "id": "55imOOv_L40r"
      }
    },
    {
      "cell_type": "markdown",
      "source": [
        "Bagging, which stands for Bootstrap Aggregating, is an ensemble learning technique used to improve the stability and accuracy of machine learning models, particularly classification models.\n",
        "\n",
        "Here's how a Bagging Classifier works:\n",
        "\n",
        "Bootstrap Sampling:\n",
        "\n",
        "The Bagging Classifier starts by creating multiple subsets of the original training dataset using a technique called bootstrap sampling.\n",
        "In bootstrap sampling, each subset is created by randomly selecting data points from the original dataset with replacement. This means that some data points may appear multiple times in a single subset, while others may be excluded.\n",
        "Typically, the size of each subset is the same as the original dataset.\n",
        "Training Base Classifiers:\n",
        "\n",
        "A separate base classifier (e.g., a decision tree) is trained on each of the bootstrap samples.\n",
        "Each base classifier is trained independently, without any interaction with other classifiers.\n",
        "Aggregation of Predictions:\n",
        "\n",
        "To make a prediction on a new data point, the Bagging Classifier passes the data point to each of the trained base classifiers.\n",
        "Each base classifier makes a prediction, and the Bagging Classifier aggregates these predictions to produce the final prediction.\n",
        "For classification tasks, the aggregation is typically done by majority voting, where the class predicted by the majority of base classifiers is selected as the final prediction.\n",
        "Benefits of Bagging Classifier:\n",
        "\n",
        "Reduced Variance: Bagging helps to reduce the variance of the model by averaging the predictions of multiple base classifiers. This reduces the impact of any single classifier's errors and leads to a more stable and robust prediction.\n",
        "Improved Accuracy: By combining the predictions of multiple classifiers, Bagging often achieves higher accuracy compared to using a single classifier.\n",
        "Robustness to Outliers: Bagging is less sensitive to outliers in the training data because the impact of outliers is diluted across multiple classifiers.\n",
        "\n",
        "Example using Python's scikit-learn library:\n",
        "\n",
        "\n",
        "     from sklearn.ensemble import BaggingClassifier\n",
        "     from sklearn.tree import DecisionTreeClassifier\n",
        "\n",
        "     # Create a BaggingClassifier with DecisionTreeClassifier as the base classifier\n",
        "     bagging_classifier = BaggingClassifier(base_estimator=DecisionTreeClassifier(),\n",
        "                                      n_estimators=10,\n",
        "                                      random_state=42)\n",
        "\n",
        "    # Fit the BaggingClassifier to your training data\n",
        "    bagging_classifier.fit(X_train, y_train)\n",
        "\n",
        "    # Make predictions on new data\n",
        "    y_pred = bagging_classifier.predict(X_test)\n",
        "\n",
        "In this example, BaggingClassifier uses 10 decision trees (n_estimators=10) as base classifiers. The random_state parameter is set for reproducibility. You would replace X_train, y_train, and X_test with your actual training and testing data."
      ],
      "metadata": {
        "id": "xxmibj00MZQK"
      }
    },
    {
      "cell_type": "markdown",
      "source": [
        "#7.How do you evaluate a Bagging Classifier's performence?"
      ],
      "metadata": {
        "id": "GncvOWkJMtfX"
      }
    },
    {
      "cell_type": "markdown",
      "source": [
        "Evaluating the performance of a Bagging Classifier is similar to evaluating other classification models. You can use various metrics to assess its performance on a separate test dataset or using techniques like cross-validation. Here are some common evaluation metrics:\n",
        "\n",
        "#1. Accuracy:\n",
        "\n",
        "Accuracy measures the proportion of correctly classified instances out of the total number of instances.\n",
        "It is a simple and widely used metric, but it can be misleading when dealing with imbalanced datasets.\n",
        "You can calculate accuracy using the accuracy_score function from sklearn.metrics:\n",
        "\n",
        "     from sklearn.metrics import accuracy_score\n",
        "\n",
        "     accuracy = accuracy_score(y_true, y_pred)\n",
        "     print(\"Accuracy:\", accuracy)\n",
        "\n",
        "#2. Precision, Recall, and F1-Score:\n",
        "\n",
        "Precision measures the proportion of correctly predicted positive instances out of all instances predicted as positive.\n",
        "Recall measures the proportion of correctly predicted positive instances out of all actual positive instances.\n",
        "F1-score is the harmonic mean of precision and recall, providing a balanced measure of both.\n",
        "These metrics are particularly useful when dealing with imbalanced datasets or when the cost of false positives and false negatives is different.\n",
        "You can calculate precision, recall, and F1-score using the classification_report function from sklearn.metrics:\n",
        "\n",
        "     from sklearn.metrics import classification_report\n",
        "\n",
        "     report = classification_report(y_true, y_pred)\n",
        "     print(\"Classification Report:\\n\", report)\n",
        "\n",
        "#3. Area Under the ROC Curve (AUC):\n",
        "\n",
        "AUC measures the ability of the classifier to distinguish between positive and negative classes.\n",
        "It is a useful metric for evaluating the overall performance of a classifier, especially when dealing with imbalanced datasets.\n",
        "You can calculate AUC using the roc_auc_score function\n",
        "    from sklearn.metrics:\n",
        "\n",
        "    from sklearn.metrics import roc_auc_score\n",
        "\n",
        "     auc = roc_auc_score(y_true, y_pred_probs)\n",
        "     print(\"AUC:\", auc)\n",
        "\n",
        "#4. Cross-Validation:\n",
        "\n",
        "Cross-validation is a technique for evaluating the performance of a model on unseen data by splitting the data into multiple folds and training and testing the model on different combinations of folds.\n",
        "It helps to get a more robust estimate of the model's generalization performance.\n",
        "You can use the cross_val_score function from sklearn.model_selection to perform cross-validation:\n",
        "\n",
        "     from sklearn.model_selection import cross_val_score\n",
        "\n",
        "     scores = cross_val_score(bagging_classifier, X, y, cv=5)\n",
        "     print(\"Cross-Validation Scores:\", scores)\n",
        "     print(\"Mean CV Accuracy:\", scores.mean())\n",
        "\n",
        "\n",
        "#5. Out-of-Bag (OOB) Score (for Bagging Classifiers):\n",
        "\n",
        "As discussed earlier, the OOB score provides an estimate of the model's performance on unseen data without the need for a separate validation set.\n",
        "You can access the OOB score using the oob_score_ attribute of the BaggingClassifier after fitting the model.\n",
        "Remember to choose appropriate evaluation metrics based on the specific problem and the characteristics of your dataset. By using a combination of these metrics, you can get a comprehensive understanding of the performance of your Bagging Classifier."
      ],
      "metadata": {
        "id": "X-UF6CRaONzG"
      }
    },
    {
      "cell_type": "markdown",
      "source": [
        "#8.How does a Bagging regressor work?"
      ],
      "metadata": {
        "id": "LNPHvSfNPjWr"
      }
    },
    {
      "cell_type": "markdown",
      "source": [
        "A Bagging Regressor, similar to a Bagging Classifier, is an ensemble learning method that utilizes bootstrap aggregating to improve the accuracy and stability of regression models. It works by combining the predictions of multiple base regressors, typically decision trees, trained on different subsets of the training data.\n",
        "\n",
        "Here's a breakdown of how it works:\n",
        "\n",
        "#Bootstrap Sampling:\n",
        "\n",
        "The Bagging Regressor starts by creating multiple subsets of the original training dataset using bootstrap sampling.\n",
        "In bootstrap sampling, each subset is created by randomly selecting data points from the original dataset with replacement. This means that some data points may appear multiple times in a single subset, while others may be excluded.\n",
        "Typically, the size of each subset is the same as the original dataset.\n",
        "#Training Base Regressors:\n",
        "\n",
        "A separate base regressor (e.g., a decision tree regressor) is trained on each of the bootstrap samples.\n",
        "Each base regressor is trained independently, without any interaction with other regressors.\n",
        "Aggregation of Predictions:\n",
        "\n",
        "To make a prediction on a new data point, the Bagging Regressor passes the data point to each of the trained base regressors.\n",
        "Each base regressor makes a prediction, and the Bagging Regressor aggregates these predictions to produce the final prediction.\n",
        "For regression tasks, the aggregation is typically done by averaging the predictions of all base regressors.\n",
        "#Benefits of Bagging Regressor:\n",
        "\n",
        "Reduced Variance: Bagging helps to reduce the variance of the regression model by averaging the predictions of multiple base regressors. This reduces the impact of any single regressor's errors and leads to a more stable and robust prediction.\n",
        "Improved Accuracy: By combining the predictions of multiple regressors, Bagging often achieves higher accuracy compared to using a single regressor.\n",
        "Robustness to Outliers: Bagging is less sensitive to outliers in the training data because the impact of outliers is diluted across multiple regressors.\n",
        "\n",
        "Example using Python's scikit-learn library:\n",
        "\n",
        "\n",
        "    from sklearn.ensemble import BaggingRegressor\n",
        "    from sklearn.tree import DecisionTreeRegressor\n",
        "\n",
        "    # Create a BaggingRegressor with DecisionTreeRegressor as the base regressor\n",
        "    bagging_regressor = BaggingRegressor(base_estimator=DecisionTreeRegressor(),\n",
        "                                     n_estimators=10,\n",
        "                                     random_state=42)\n",
        "\n",
        "    # Fit the BaggingRegressor to your training data\n",
        "    bagging_regressor.fit(X_train, y_train)\n",
        "\n",
        "    # Make predictions on new data\n",
        "    y_pred = bagging_regressor.predict(X_test)\n",
        "\n",
        "In this example, BaggingRegressor uses 10 decision trees (n_estimators=10) as base regressors. The random_state parameter is set for reproducibility. You would replace X_train, y_train, and X_test with your actual training and testing data."
      ],
      "metadata": {
        "id": "wxW6EnxmQx15"
      }
    },
    {
      "cell_type": "markdown",
      "source": [
        "#9.What is the main advantage of ensemble techniques?"
      ],
      "metadata": {
        "id": "lgfmFQebRxcP"
      }
    },
    {
      "cell_type": "markdown",
      "source": [
        "The main advantage of ensemble techniques is that they often improve the predictive performance of machine learning models compared to using a single model. This is achieved by combining the predictions of multiple models, which helps to reduce errors and improve generalization.\n",
        "\n",
        "Here's a more detailed explanation:\n",
        "\n",
        "Ensemble techniques leverage the wisdom of the crowd. By combining the predictions of multiple models, ensemble techniques are able to reduce the impact of individual model errors and biases. This leads to a more robust and accurate prediction.\n",
        "Ensemble techniques can improve the stability of models. By averaging the predictions of multiple models, ensemble techniques can reduce the variance of the model. This means that the model is less likely to be affected by small changes in the training data.\n",
        "Ensemble techniques can be used to address a variety of machine learning problems. Ensemble techniques can be used for both classification and regression problems, and they can be applied to a wide range of datasets.\n",
        "In addition to the main advantage of improved predictive performance, ensemble techniques also offer other benefits, such as:\n",
        "\n",
        "Increased robustness to outliers: Ensemble techniques are less sensitive to outliers in the training data because the impact of outliers is diluted across multiple models.\n",
        "Improved interpretability: Some ensemble techniques, such as Random Forest, can provide insights into the importance of different features in the data.\n",
        "Overall, ensemble techniques are a powerful tool for improving the performance of machine learning models. They are widely used in a variety of applications, such as image classification, natural language processing, and fraud detection."
      ],
      "metadata": {
        "id": "JxngbIBjSQuu"
      }
    },
    {
      "cell_type": "markdown",
      "source": [
        "#10.What is the main challenge of ensemble methods ?"
      ],
      "metadata": {
        "id": "UD6uhF9RSUR1"
      }
    },
    {
      "cell_type": "markdown",
      "source": [
        "While ensemble methods offer significant advantages in terms of predictive performance and robustness, they also come with their own set of challenges. The main challenge of ensemble methods is the increased computational cost and complexity compared to using a single model.\n",
        "\n",
        "Here's a breakdown of the challenges:\n",
        "\n",
        "#Increased Computational Cost:\n",
        "\n",
        "Ensemble methods require training and maintaining multiple models, which can significantly increase the computational cost, both in terms of time and resources.\n",
        "This can be particularly challenging when dealing with large datasets or complex models.\n",
        "Increased Complexity:\n",
        "\n",
        "Ensemble methods can be more complex to implement and manage compared to single models.\n",
        "This complexity arises from the need to select appropriate base models, combine their predictions effectively, and tune the ensemble's hyperparameters.\n",
        "Interpretability:\n",
        "\n",
        "While some ensemble methods offer insights into feature importance, interpreting the overall decision-making process of an ensemble can be more challenging compared to a single model.\n",
        "This can be a concern in applications where model interpretability is crucial.\n",
        "Storage and Memory:\n",
        "\n",
        "Storing and managing multiple models can require more storage space and memory compared to a single model.\n",
        "This can be a limitation in resource-constrained environments.\n",
        "#Addressing the Challenges:\n",
        "\n",
        "Despite these challenges, there are ways to mitigate their impact:\n",
        "\n",
        "Careful Model Selection: Choosing appropriate base models and ensemble techniques can help to reduce computational cost and complexity.\n",
        "Feature Selection: Reducing the number of features used in the ensemble can also help to improve efficiency.\n",
        "Parallel Computing: Utilizing parallel computing techniques can significantly speed up the training and prediction process for ensemble methods.\n",
        "Model Compression: Techniques for model compression can be applied to reduce the storage and memory requirements of ensemble models.\n",
        "Overall, while ensemble methods present computational and complexity challenges, their benefits in terms of predictive performance often outweigh these drawbacks. By carefully considering the trade-offs and employing appropriate strategies, you can effectively leverage the power of ensemble methods for your machine learning tasks."
      ],
      "metadata": {
        "id": "Zos-5GvUS5H1"
      }
    },
    {
      "cell_type": "markdown",
      "source": [
        "#11.Explain the Key idea behind ensemble techniques."
      ],
      "metadata": {
        "id": "T1PInM7aTBWk"
      }
    },
    {
      "cell_type": "markdown",
      "source": [
        "The key idea behind ensemble techniques is to combine the predictions of multiple individual models (base learners) to create a more accurate and robust prediction than any single model could achieve on its own. This is based on the principle that by combining the strengths of different models, we can reduce the impact of their individual weaknesses and improve overall performance.\n",
        "\n",
        "Here's a breakdown of the key idea:\n",
        "\n",
        "#Diversity of Models:\n",
        "Ensemble techniques rely on the diversity of the base learners. The base learners should be different from each other, either in terms of the algorithm used, the hyperparameters, or the training data they are trained on. This diversity helps to ensure that the ensemble captures a wider range of patterns and perspectives in the data.\n",
        "\n",
        "#Aggregation of Predictions:\n",
        "The predictions of the individual base learners are aggregated to produce the final prediction of the ensemble. This aggregation can be done in various ways, such as averaging the predictions (for regression tasks) or taking a majority vote (for classification tasks).\n",
        "\n",
        "#Reduction of Errors:\n",
        "By combining the predictions of multiple models, ensemble techniques help to reduce the impact of individual model errors and biases. This leads to a more stable and robust prediction that is less sensitive to noise and fluctuations in the data.\n",
        "\n",
        "#Improved Generalization:\n",
        "Ensemble techniques often improve the generalization ability of models, meaning they are better able to perform well on unseen data. This is because the ensemble captures a wider range of patterns and is less likely to overfit to the training data.\n",
        "\n",
        "#Analogy:\n",
        "\n",
        "Imagine a group of experts with different backgrounds and perspectives coming together to solve a problem. By combining their knowledge and insights, they are likely to come up with a better solution than any single expert could achieve on their own. This is the essence of ensemble techniques in machine learning."
      ],
      "metadata": {
        "id": "DYZGQllCTo2E"
      }
    },
    {
      "cell_type": "markdown",
      "source": [
        "#12.What is a Random Forest Classifier?"
      ],
      "metadata": {
        "id": "rf2wBe0aT2Gy"
      }
    },
    {
      "cell_type": "markdown",
      "source": [
        "A Random Forest Classifier is an ensemble learning method that belongs to the Bagging (Bootstrap Aggregating) family. It constructs a multitude of decision trees during training and outputs the class that is the mode of the classes (classification) or mean/average prediction (regression) of the individual trees.\n",
        "\n",
        "Here's a breakdown of its key characteristics:\n",
        "\n",
        "#Ensemble of Decision Trees:\n",
        "\n",
        "A Random Forest is composed of numerous decision trees, each trained on a different bootstrap sample of the training data.\n",
        "Bootstrap sampling involves randomly selecting data points with replacement, meaning some data points may appear multiple times in a single sample while others are excluded.\n",
        "#Feature Randomness:\n",
        "\n",
        "When building each decision tree, the Random Forest introduces feature randomness by selecting a random subset of features at each node.\n",
        "This feature randomness helps to decorrelate the trees and improve the overall performance of the ensemble.\n",
        "#Aggregation of Predictions:\n",
        "\n",
        "To make a prediction on a new data point, the Random Forest passes the data point through each decision tree in the ensemble.\n",
        "Each tree makes a prediction, and the Random Forest aggregates these predictions to produce the final prediction.\n",
        "For classification tasks, the aggregation is typically done by majority voting, where the class predicted by the majority of trees is selected as the final prediction.\n",
        "#Benefits of Random Forest Classifier:\n",
        "\n",
        "High Accuracy: Random Forests are known for their high accuracy and are often considered one of the top-performing classification algorithms.\n",
        "Robustness to Overfitting: Feature randomness and the ensemble approach help to reduce overfitting, making Random Forests more robust to noise and variations in the training data.\n",
        "Handles High-Dimensional Data: Random Forests can effectively handle datasets with a large number of features.\n",
        "Feature Importance: Random Forests provide insights into the importance of different features in the data, which can be helpful for feature selection and understanding the data.\n",
        "\n",
        "Example using Python's scikit-learn library:\n",
        "\n",
        "\n",
        "    from sklearn.ensemble import RandomForestClassifier\n",
        "\n",
        "     # Create a Random Forest classifier\n",
        "    rf_classifier = RandomForestClassifier(n_estimators=100, random_state=42)\n",
        "\n",
        "    # Fit the classifier to the training data\n",
        "    rf_classifier.fit(X_train, y_train)\n",
        "\n",
        "    # Make predictions on new data\n",
        "    y_pred = rf_classifier.predict(X_test)\n",
        "\n",
        "In this example, n_estimators specifies the number of decision trees in the forest, and random_state is set for reproducibility. You would replace X_train, y_train, and X_test with your actual training and testing data."
      ],
      "metadata": {
        "id": "2sjT_WfuUVJb"
      }
    },
    {
      "cell_type": "markdown",
      "source": [
        "#13.What are the main types of ensemble techniques?"
      ],
      "metadata": {
        "id": "W1QIH9RbUofA"
      }
    },
    {
      "cell_type": "markdown",
      "source": [
        "Ensemble techniques can be broadly categorized into three main types:\n",
        "\n",
        "#Bagging (Bootstrap Aggregating):\n",
        "\n",
        "Bagging involves creating multiple subsets of the training data using bootstrap sampling, where each subset is created by randomly selecting data points with replacement.\n",
        "A separate base learner is trained on each subset, and their predictions are aggregated to produce the final prediction.\n",
        "Bagging helps to reduce variance and improve the stability of models.\n",
        "Example: Random Forest is a popular bagging algorithm.\n",
        "#Boosting:\n",
        "\n",
        "Boosting involves sequentially training base learners, where each subsequent learner is trained to correct the errors made by the previous learners.\n",
        "Boosting focuses on reducing bias and improving the accuracy of models.\n",
        "Examples: AdaBoost, Gradient Boosting, and XGBoost are popular boosting algorithms.\n",
        "#Stacking:\n",
        "\n",
        "Stacking involves training multiple base learners and then using a meta-learner to combine their predictions.\n",
        "The meta-learner is trained on the predictions of the base learners, allowing it to learn how to best combine them for improved performance.\n",
        "Stacking can potentially achieve higher accuracy compared to bagging or boosting alone.\n",
        "In addition to these main types, there are other ensemble techniques, such as:\n",
        "\n",
        "#Voting:\n",
        "Combining predictions from multiple models using a voting mechanism, such as majority voting or weighted voting.\n",
        "#Averaging:\n",
        "Averaging the predictions of multiple models, typically used for regression tasks.\n",
        "#Mixture of Experts:\n",
        "Dividing the input space into regions and training separate models for each region, with a gating network selecting the appropriate expert for each input.\n",
        "\n",
        "The choice of ensemble technique depends on the specific problem and the characteristics of the data. Each technique has its own strengths and weaknesses, and it's often beneficial to experiment with different approaches to find the best one for your task."
      ],
      "metadata": {
        "id": "Oz_zSZHyVA9y"
      }
    },
    {
      "cell_type": "markdown",
      "source": [
        "#14.What is ensemble learning in machine learning?"
      ],
      "metadata": {
        "id": "Q6gVVpTZVQdw"
      }
    },
    {
      "cell_type": "markdown",
      "source": [
        "Ensemble learning is a machine learning technique that combines the predictions of multiple individual models (base learners) to create a more accurate and robust prediction than any single model could achieve on its own.\n",
        "\n",
        "Here's a breakdown of the key aspects:\n",
        "\n",
        "Multiple Base Learners: Ensemble methods use multiple base learners, which can be of the same type (homogeneous) or different types (heterogeneous).\n",
        "Combining Predictions: The predictions of the individual base learners are combined in some way to produce the final prediction of the ensemble. Common methods include averaging, voting, and stacking.\n",
        "Improved Performance: Ensemble methods often achieve higher accuracy, better generalization, and increased robustness compared to using a single model.\n",
        "#Why Ensemble Learning Works:\n",
        "\n",
        "Reduces Variance: By combining predictions from multiple models, ensemble methods reduce the impact of individual model errors, leading to a more stable and consistent prediction.\n",
        "Reduces Bias: Ensemble methods can also reduce bias by combining models that have different strengths and weaknesses.\n",
        "Improves Generalization: Ensemble methods often generalize better to unseen data because they capture a wider range of patterns and are less likely to overfit to the training data.\n",
        "#Types of Ensemble Methods:\n",
        "\n",
        "Bagging (Bootstrap Aggregating): Creates multiple subsets of the training data using bootstrap sampling and trains a separate base learner on each subset. The predictions of the base learners are then aggregated. Example: Random Forest.\n",
        "Boosting: Sequentially trains base learners, where each subsequent learner is trained to correct the errors made by the previous learners. Example: AdaBoost, Gradient Boosting.\n",
        "Stacking: Trains multiple base learners and then uses a meta-learner to combine their predictions. The meta-learner is trained on the predictions of the base learners.\n",
        "#Benefits of Ensemble Learning:\n",
        "\n",
        "High Accuracy: Ensemble methods often achieve higher accuracy compared to single models.\n",
        "Robustness: Ensemble methods are less sensitive to noise and outliers in the data.\n",
        "Generalization: Ensemble methods often generalize better to unseen data.\n",
        "#Applications of Ensemble Learning:\n",
        "\n",
        "Ensemble learning is widely used in various applications, including:\n",
        "\n",
        "Image Classification\n",
        "Natural Language Processing\n",
        "Fraud Detection\n",
        "Medical Diagnosis\n",
        "Financial Modeling"
      ],
      "metadata": {
        "id": "s_cPpCHZVtnh"
      }
    },
    {
      "cell_type": "markdown",
      "source": [
        "#15.When we should avoid using ensemble methods?"
      ],
      "metadata": {
        "id": "5IZKZtuuV2bP"
      }
    },
    {
      "cell_type": "markdown",
      "source": [
        "While ensemble methods offer many advantages, there are certain situations where they might not be the best choice. Here are some scenarios where you should consider avoiding ensemble methods:\n",
        "\n",
        "Limited Computational Resources: Ensemble methods require training and maintaining multiple models, which can be computationally expensive and time-consuming. If you have limited computational resources or strict time constraints, using a single, simpler model might be more practical.\n",
        "\n",
        "Small Datasets: Ensemble methods generally perform better with larger datasets. With small datasets, the benefits of ensemble methods might not be as pronounced, and they could even lead to overfitting. In such cases, a single, well-regularized model might be more appropriate.\n",
        "\n",
        "High Interpretability Requirements: Ensemble methods can be more difficult to interpret compared to single models. If you need a model that is easily interpretable and explainable, using a simpler model might be preferable.\n",
        "\n",
        "Low Diversity of Base Learners: Ensemble methods rely on the diversity of base learners to improve performance. If the base learners are highly correlated or similar in their predictions, the ensemble might not provide significant benefits. In such cases, it's essential to carefully select and diversify the base learners.\n",
        "\n",
        "Simple Problems: For relatively simple problems where a single model can achieve satisfactory performance, using an ensemble might be unnecessary and add unnecessary complexity.\n",
        "\n",
        "In summary, while ensemble methods are powerful tools, they are not always the best solution. It's crucial to consider the specific problem, dataset characteristics, computational resources, and interpretability requirements before deciding whether to use an ensemble method or a single model."
      ],
      "metadata": {
        "id": "vb2RDW9XWUG3"
      }
    },
    {
      "cell_type": "markdown",
      "source": [
        "#16.How does Bagging help in reducing overfitting ?"
      ],
      "metadata": {
        "id": "Yy2xxPcJWWlG"
      }
    },
    {
      "cell_type": "markdown",
      "source": [
        "Bagging, or Bootstrap Aggregating, is an ensemble method that primarily aims to reduce variance, which is a key factor contributing to overfitting. Overfitting occurs when a model learns the training data too well, including noise and random fluctuations, and fails to generalize well to unseen data.\n",
        "\n",
        "#Here's how Bagging helps reduce overfitting:\n",
        "\n",
        "Creating Diverse Base Learners: Bagging creates multiple base learners (e.g., decision trees) by training them on different bootstrap samples of the training data. Each bootstrap sample is created by randomly selecting data points with replacement, meaning some data points may appear multiple times while others are excluded. This process introduces diversity among the base learners, as they are trained on slightly different variations of the training data.\n",
        "\n",
        "Reducing Variance through Averaging: The predictions of the individual base learners are then aggregated, typically by averaging (for regression) or voting (for classification). This averaging or voting process helps to smooth out the predictions and reduce the impact of any single base learner's errors or overfitting to specific data points. By combining predictions from multiple models, Bagging reduces the variance of the overall model.\n",
        "\n",
        "Decreasing Model Complexity (for some base learners): For certain base learners like decision trees, Bagging can also indirectly help reduce model complexity. Individual decision trees in a Bagging ensemble are often allowed to grow deeper and more complex without much pruning. However, the averaging process across multiple trees effectively reduces the overall complexity of the model, preventing it from overfitting to the training data.\n",
        "\n",
        "#In essence, Bagging reduces overfitting by:\n",
        "\n",
        "Creating a diverse set of base learners that are less likely to individually overfit to the training data.\n",
        "Averaging predictions to smooth out errors and reduce the impact of individual model biases.\n",
        "Potentially decreasing overall model complexity by combining multiple, potentially complex, base learners.\n",
        "By reducing variance and potentially complexity, Bagging helps the model generalize better to unseen data, improving its performance and preventing overfitting."
      ],
      "metadata": {
        "id": "H5h-lq44WvT3"
      }
    },
    {
      "cell_type": "markdown",
      "source": [
        "#17.Why is Random Forest better than a single Decision Tree?"
      ],
      "metadata": {
        "id": "yGg-AaZVXQvu"
      }
    },
    {
      "cell_type": "markdown",
      "source": [
        "Random Forest, being an ensemble method that combines multiple Decision Trees, offers several advantages over a single Decision Tree:\n",
        "\n",
        "Reduced Overfitting: Decision Trees are prone to overfitting, especially when they are deep and complex. Random Forest mitigates this issue by averaging the predictions of multiple trees, which helps to smooth out the decision boundaries and reduce the impact of individual tree errors.\n",
        "\n",
        "Improved Accuracy: By combining predictions from multiple trees, Random Forest often achieves higher accuracy compared to a single Decision Tree. This is because the ensemble can capture a wider range of patterns and perspectives in the data.\n",
        "\n",
        "Increased Robustness: Random Forest is less sensitive to noise and outliers in the data compared to a single Decision Tree. This is because the ensemble approach helps to reduce the impact of individual tree biases.\n",
        "\n",
        "Feature Importance: Random Forest provides insights into the importance of different features in the data. This can be helpful for feature selection and understanding the data.\n",
        "\n",
        "Handling High-Dimensional Data: Random Forest can effectively handle datasets with a large number of features, making it suitable for various real-world applications.\n",
        "\n",
        "Here's a summary of the key reasons why Random Forest is often preferred over a single Decision Tree:\n",
        "\n",
        "Reduces overfitting and improves generalization.\n",
        "Achieves higher accuracy and better predictive performance.\n",
        "Increases robustness to noise and outliers.\n",
        "Provides feature importance information.\n",
        "Handles high-dimensional data effectively.\n",
        "While a single Decision Tree can be simple and interpretable, it often lacks the robustness and accuracy of Random Forest. For most machine learning tasks, Random Forest is generally a better choice due to its superior performance and ability to handle complex datasets."
      ],
      "metadata": {
        "id": "RebzelqmXqOz"
      }
    },
    {
      "cell_type": "markdown",
      "source": [
        "#18.Why is the role of bootstrap sampling in Bagging?"
      ],
      "metadata": {
        "id": "_TGpADonW01d"
      }
    },
    {
      "cell_type": "markdown",
      "source": [
        "Bootstrap sampling plays a crucial role in Bagging (Bootstrap Aggregating) by creating diverse subsets of the training data, which are then used to train multiple base learners. This diversity among base learners is key to reducing variance and improving the overall performance of the ensemble model.\n",
        "\n",
        "Here's a breakdown of the role of bootstrap sampling in Bagging:\n",
        "\n",
        "Creating Diverse Training Sets: Bootstrap sampling involves randomly selecting data points from the original training dataset with replacement. This means that some data points may appear multiple times in a single bootstrap sample, while others may be excluded. By creating multiple bootstrap samples, Bagging generates diverse training sets for each base learner.\n",
        "\n",
        "Introducing Variation: Since each bootstrap sample is different, the base learners trained on these samples will have slightly different perspectives on the data. This variation among base learners helps to reduce the correlation between their predictions, which in turn reduces the variance of the ensemble model.\n",
        "\n",
        "Reducing Overfitting: By training base learners on different subsets of the data, Bagging helps to prevent individual learners from overfitting to specific data points or noise in the training set. This improves the generalization ability of the ensemble model, making it more robust to unseen data.\n",
        "\n",
        "Estimating Out-of-Bag Error: Bootstrap sampling also enables the estimation of the out-of-bag (OOB) error, which is a measure of the model's performance on unseen data. The OOB error is calculated by using the data points that were not included in a particular bootstrap sample to evaluate the corresponding base learner. This provides a convenient way to assess the model's performance without the need for a separate validation set.\n",
        "\n",
        "In summary, bootstrap sampling is essential for Bagging because it:\n",
        "\n",
        "Creates diverse training sets for base learners.\n",
        "Introduces variation among base learners, reducing correlation and variance.\n",
        "Helps prevent overfitting and improves generalization.\n",
        "Enables the estimation of the out-of-bag error.\n",
        "By leveraging bootstrap sampling, Bagging effectively combines the predictions of multiple base learners to create a more accurate and robust ensemble model."
      ],
      "metadata": {
        "id": "XuQXhbIDXOzm"
      }
    },
    {
      "cell_type": "markdown",
      "source": [
        "#19.What are the some real_world applications of ensemble techniques?"
      ],
      "metadata": {
        "id": "Dpm-ZnpORge1"
      }
    },
    {
      "cell_type": "markdown",
      "source": [
        "#1. Finance:\n",
        "\n",
        "Credit scoring and risk assessment: Ensemble methods can be used to predict the creditworthiness of borrowers and assess the risk of loan defaults. This helps financial institutions make informed lending decisions and manage their risk exposure.\n",
        "Fraud detection: Ensemble techniques can be used to identify fraudulent transactions by combining insights from various predictive models. This helps protect financial institutions and their customers from financial losses.\n",
        "Algorithmic trading: Ensemble methods can be used to develop trading strategies that automatically buy and sell financial instruments based on market conditions. This helps investors make better investment decisions and potentially increase their returns.\n",
        "#2. Healthcare:\n",
        "\n",
        "Disease prediction and diagnosis: Ensemble methods can be used to predict the likelihood of developing a disease or to diagnose a medical condition based on patient data. This helps healthcare professionals make more accurate and timely diagnoses and treatment recommendations.\n",
        "Medical imaging analysis: Ensemble methods can be used to improve the accuracy of medical imaging analysis, such as identifying tumors in X-ray images or detecting abnormalities in MRI scans. This helps healthcare professionals make better informed decisions about patient care.\n",
        "Personalized medicine: Ensemble methods can be used to develop personalized treatment plans based on a patient's individual characteristics and medical history. This helps healthcare professionals tailor treatments to individual patients, leading to better outcomes.\n",
        "#3. Marketing:\n",
        "\n",
        "Customer segmentation and targeting: Ensemble methods can be used to segment customers into different groups based on their demographics, behavior, and preferences. This helps businesses target their marketing campaigns more effectively and increase their return on investment.\n",
        "Sales forecasting: Ensemble methods can be used to predict future sales based on historical data and market trends. This helps businesses make better decisions about inventory management, staffing, and marketing strategies.\n",
        "Recommender systems: Ensemble methods can be used to develop recommender systems that suggest products or services to customers based on their past purchases and preferences. This helps businesses increase customer satisfaction and sales.\n",
        "#4. Other Applications:\n",
        "\n",
        "Natural Language Processing: Ensemble methods can be used to improve the accuracy of tasks such as sentiment analysis, text classification, and machine translation.\n",
        "Cybersecurity: Ensemble methods can be used to detect and prevent cyberattacks by combining insights from various security tools and techniques.\n",
        "Image Recognition: Ensemble methods can be used to improve the accuracy of image recognition systems, such as identifying objects in images or recognizing faces.\n",
        "These are just a few examples of the many real-world applications of ensemble techniques. Ensemble methods are a versatile and powerful tool that can be used to solve a wide range of problems across various domains."
      ],
      "metadata": {
        "id": "XQ09x3qpUj8f"
      }
    },
    {
      "cell_type": "markdown",
      "source": [
        "#20.What is the difference between Bagging and Boosting?"
      ],
      "metadata": {
        "id": "WiirKdniVhv9"
      }
    },
    {
      "cell_type": "markdown",
      "source": [
        "#Bagging\n",
        "\n",
        "Stands for: Bootstrap Aggregating\n",
        "Goal: Reduce variance and improve stability of models. It primarily aims to address overfitting.\n",
        "Process:\n",
        "Creates multiple subsets of the training data using bootstrap sampling (random sampling with replacement).\n",
        "Trains a separate base learner (e.g., decision tree) on each subset independently.\n",
        "Aggregates predictions from all base learners, typically by averaging (regression) or voting (classification), to produce the final prediction.\n",
        "Focus: Decreasing variance, not bias. It focuses on making models more robust to variations in the training data.\n",
        "Base Learner Independence: Base learners are trained independently and in parallel. Their predictions are combined at the end.\n",
        "Example: Random Forest is a popular bagging algorithm.\n",
        "#Boosting\n",
        "\n",
        "Goal: Reduce bias and improve accuracy of models. It focuses on improving the overall predictive power.\n",
        "Process:\n",
        "Sequentially trains base learners, where each subsequent learner is trained to correct the errors made by the previous learners.\n",
        "Assigns weights to training instances, giving higher weights to misclassified instances.\n",
        "Combines predictions from all base learners using weighted averaging, where better-performing learners have higher weights.\n",
        "Focus: Decreasing bias, not variance. It focuses on making models more accurate by learning from their mistakes.\n",
        "Base Learner Dependence: Base learners are trained sequentially, with each learner building on the knowledge of the previous learners.\n",
        "Example: AdaBoost, Gradient Boosting, and XGBoost are popular boosting algorithms.\n",
        "Here's a table summarizing the key differences:\n",
        "\n",
        "     Feature\t  Bagging\t                       Boosting\n",
        "\n",
        "      Goal\tReduce variance, improve stability\tReduce bias, improve accuracy\n",
        "     Process\tParallel training of base learners\tSequential training of base learners\n",
        "     Focus\tDecreasing variance\t            Decreasing bias\n",
        "    \n",
        "    Base Learner Independence\tIndependent\t    Dependent\n",
        "    Example\tRandom Forest\t          AdaBoost, Gradient Boosting, XGBoost\n",
        "\n",
        "In essence, Bagging focuses on creating a diverse set of models to reduce overfitting, while Boosting focuses on iteratively improving the model's accuracy by learning from its mistakes. The choice between Bagging and Boosting depends on the specific problem and dataset characteristics. If the model suffers from high variance (overfitting), Bagging is often preferred. If the model has high bias (underfitting), Boosting is usually a better choice."
      ],
      "metadata": {
        "id": "y2gPzF2cWG7E"
      }
    },
    {
      "cell_type": "markdown",
      "source": [
        "#Practical"
      ],
      "metadata": {
        "id": "BZfN49HzW6RL"
      }
    },
    {
      "cell_type": "markdown",
      "source": [
        "#21.Train a Bagging Classifier using Decision Tress on a sample dataset and print model accuracy."
      ],
      "metadata": {
        "id": "-EUMIl66W-D6"
      }
    },
    {
      "cell_type": "code",
      "source": [
        "from sklearn.ensemble import BaggingClassifier\n",
        "from sklearn.tree import DecisionTreeClassifier\n",
        "from sklearn.datasets import load_iris\n",
        "from sklearn.model_selection import train_test_split\n",
        "from sklearn.metrics import accuracy_score\n",
        "\n",
        "# Load the Iris dataset\n",
        "iris = load_iris()\n",
        "X, y = iris.data, iris.target\n",
        "\n",
        "# Split data into training and testing sets\n",
        "X_train, X_test, y_train, y_test = train_test_split(X, y, test_size=0.3, random_state=42)\n",
        "\n",
        "# Create a Bagging Classifier with DecisionTreeClassifier as the base estimator\n",
        "bagging_classifier = BaggingClassifier(\n",
        "    estimator=DecisionTreeClassifier(),\n",
        "    n_estimators=10,  # Number of decision trees in the ensemble\n",
        "    random_state=42 )  # For reproducibility\n",
        "\n",
        "# Train the Bagging Classifier\n",
        "bagging_classifier.fit(X_train, y_train)\n",
        "\n",
        "# Make predictions on the test set\n",
        "y_pred = bagging_classifier.predict(X_test)\n",
        "\n",
        "# Evaluate the model accuracy\n",
        "accuracy = accuracy_score(y_test, y_pred)\n",
        "print(f\"Bagging Classifier Accuracy: {accuracy}\")"
      ],
      "metadata": {
        "colab": {
          "base_uri": "https://localhost:8080/"
        },
        "id": "67PNqQhwXwFq",
        "outputId": "c8144fbd-e62f-4784-d16c-1211b2019dc6"
      },
      "execution_count": null,
      "outputs": [
        {
          "output_type": "stream",
          "name": "stdout",
          "text": [
            "Bagging Classifier Accuracy: 1.0\n"
          ]
        }
      ]
    },
    {
      "cell_type": "markdown",
      "source": [
        "#22.Train a Bagging Regressor using Decision Trees and evaluate using Mean Squared error (MSE)."
      ],
      "metadata": {
        "id": "nS-5v2L9Xzei"
      }
    },
    {
      "cell_type": "code",
      "source": [
        "from sklearn.ensemble import BaggingRegressor\n",
        "from sklearn.tree import DecisionTreeRegressor\n",
        "from sklearn.datasets import fetch_california_housing  # Changed dataset\n",
        "from sklearn.model_selection import train_test_split\n",
        "from sklearn.metrics import mean_squared_error\n",
        "\n",
        "# Load the California Housing dataset\n",
        "housing = fetch_california_housing()\n",
        "X, y = housing.data, housing.target\n",
        "\n",
        "# Split data into training and testing sets\n",
        "X_train, X_test, y_train, y_test = train_test_split(X, y, test_size=0.3, random_state=42)\n",
        "\n",
        "# Create a Bagging Regressor with DecisionTreeRegressor as the base estimator\n",
        "bagging_regressor = BaggingRegressor(\n",
        "    estimator=DecisionTreeRegressor(),\n",
        "    n_estimators=10,\n",
        "    random_state=42\n",
        ")\n",
        "\n",
        "# Train the Bagging Regressor\n",
        "bagging_regressor.fit(X_train, y_train)\n",
        "\n",
        "# Make predictions on the test set\n",
        "y_pred = bagging_regressor.predict(X_test)\n",
        "\n",
        "# Calculate Mean Squared Error (MSE)\n",
        "mse = mean_squared_error(y_test, y_pred)\n",
        "print(f\"Bagging Regressor MSE: {mse}\")"
      ],
      "metadata": {
        "colab": {
          "base_uri": "https://localhost:8080/"
        },
        "id": "sMRdGva_Y6uP",
        "outputId": "13db895a-f68a-461b-e1ac-463afd7e8bba"
      },
      "execution_count": null,
      "outputs": [
        {
          "output_type": "stream",
          "name": "stdout",
          "text": [
            "Bagging Regressor MSE: 0.28623579601385674\n"
          ]
        }
      ]
    },
    {
      "cell_type": "markdown",
      "source": [
        "#23.Train a Random Forest Classifier on the Breast Cancer dataset and print the feature importence scores."
      ],
      "metadata": {
        "id": "Bw_OuJG4Zu6O"
      }
    },
    {
      "cell_type": "code",
      "source": [
        "from sklearn.ensemble import RandomForestClassifier\n",
        "from sklearn.datasets import load_breast_cancer\n",
        "from sklearn.model_selection import train_test_split\n",
        "\n",
        "# Load the Breast Cancer dataset\n",
        "data = load_breast_cancer()\n",
        "X, y = data.data, data.target\n",
        "\n",
        "# Split data into training and testing sets\n",
        "X_train, X_test, y_train, y_test = train_test_split(X, y, test_size=0.3, random_state=42)\n",
        "\n",
        "# Create a Random Forest Classifier\n",
        "rf_classifier = RandomForestClassifier(n_estimators=100, random_state=42)\n",
        "\n",
        "# Train the classifier\n",
        "rf_classifier.fit(X_train, y_train)\n",
        "\n",
        "# Get feature importance scores\n",
        "importances = rf_classifier.feature_importances_\n",
        "\n",
        "# Print feature importance scores along with feature names\n",
        "for i, feature_name in enumerate(data.feature_names):\n",
        "    print(f\"{feature_name}: {importances[i]}\")"
      ],
      "metadata": {
        "colab": {
          "base_uri": "https://localhost:8080/"
        },
        "id": "aKAldk3jaXFM",
        "outputId": "647c1da9-6999-4726-8205-18f9c121ca5f"
      },
      "execution_count": null,
      "outputs": [
        {
          "output_type": "stream",
          "name": "stdout",
          "text": [
            "mean radius: 0.032311888273301004\n",
            "mean texture: 0.011063901250175845\n",
            "mean perimeter: 0.060092333477412795\n",
            "mean area: 0.05381045367561502\n",
            "mean smoothness: 0.006223358550035776\n",
            "mean compactness: 0.009215659698391042\n",
            "mean concavity: 0.08055701642634591\n",
            "mean concave points: 0.1419344436315119\n",
            "mean symmetry: 0.003278068988046974\n",
            "mean fractal dimension: 0.003140276443878005\n",
            "radius error: 0.016434957577357797\n",
            "texture error: 0.003171913625550393\n",
            "perimeter error: 0.011769755537440448\n",
            "area error: 0.029538418256883636\n",
            "smoothness error: 0.005880791914760226\n",
            "compactness error: 0.004596378662668866\n",
            "concavity error: 0.005815899489496524\n",
            "concave points error: 0.0033823220710919844\n",
            "symmetry error: 0.0040007728493448805\n",
            "fractal dimension error: 0.007134569189458313\n",
            "worst radius: 0.07797474929691814\n",
            "worst texture: 0.018785671163890155\n",
            "worst perimeter: 0.07429212194132524\n",
            "worst area: 0.11821685833472201\n",
            "worst smoothness: 0.011769174205977244\n",
            "worst compactness: 0.017539085585610643\n",
            "worst concavity: 0.04107957505964944\n",
            "worst concave points: 0.12713637963171595\n",
            "worst symmetry: 0.01292944626553497\n",
            "worst fractal dimension: 0.006923758925888881\n"
          ]
        }
      ]
    },
    {
      "cell_type": "markdown",
      "source": [
        "#24.Train a Random Forest Regressor and compare its performence with a single Decision Tree."
      ],
      "metadata": {
        "id": "0wD9BGOwanTr"
      }
    },
    {
      "cell_type": "code",
      "source": [
        "from sklearn.ensemble import RandomForestRegressor\n",
        "from sklearn.tree import DecisionTreeRegressor\n",
        "from sklearn.datasets import fetch_california_housing\n",
        "from sklearn.model_selection import train_test_split\n",
        "from sklearn.metrics import mean_squared_error\n",
        "\n",
        "# Load the California Housing dataset\n",
        "housing = fetch_california_housing()\n",
        "X, y = housing.data, housing.target\n",
        "\n",
        "# Split data into training and testing sets\n",
        "X_train, X_test, y_train, y_test = train_test_split(X, y, test_size=0.3, random_state=42)\n",
        "\n",
        "# Create and train a Random Forest Regressor\n",
        "rf_regressor = RandomForestRegressor(n_estimators=100, random_state=42)\n",
        "rf_regressor.fit(X_train, y_train)\n",
        "\n",
        "# Create and train a Decision Tree Regressor\n",
        "dt_regressor = DecisionTreeRegressor(random_state=42)\n",
        "dt_regressor.fit(X_train, y_train)\n",
        "\n",
        "# Make predictions using both models\n",
        "rf_predictions = rf_regressor.predict(X_test)\n",
        "dt_predictions = dt_regressor.predict(X_test)\n",
        "\n",
        "# Calculate MSE for both models\n",
        "rf_mse = mean_squared_error(y_test, rf_predictions)\n",
        "dt_mse = mean_squared_error(y_test, dt_predictions)\n",
        "\n",
        "# Print the results\n",
        "print(f\"Random Forest Regressor MSE: {rf_mse}\")\n",
        "print(f\"Decision Tree Regressor MSE: {dt_mse}\")\n",
        "\n",
        "# Compare the performance\n",
        "if rf_mse < dt_mse:\n",
        "    print(\"Random Forest Regressor performs better.\")\n",
        "else:\n",
        "    print(\"Decision Tree Regressor performs better.\")"
      ],
      "metadata": {
        "colab": {
          "base_uri": "https://localhost:8080/"
        },
        "id": "rTs9fnT6bZ7D",
        "outputId": "0da0fbd0-d8f7-4f87-ccea-ea0edb8b43c7"
      },
      "execution_count": null,
      "outputs": [
        {
          "output_type": "stream",
          "name": "stdout",
          "text": [
            "Random Forest Regressor MSE: 0.25650512920799395\n",
            "Decision Tree Regressor MSE: 0.5280096503174904\n",
            "Random Forest Regressor performs better.\n"
          ]
        }
      ]
    },
    {
      "cell_type": "markdown",
      "source": [
        "#25.Compute the Out-Of_Bag(OOB) Score for a Random Forest Classifier ."
      ],
      "metadata": {
        "id": "KOUVJvQBbm9j"
      }
    },
    {
      "cell_type": "code",
      "source": [
        "from sklearn.ensemble import RandomForestClassifier\n",
        "from sklearn.datasets import load_breast_cancer\n",
        "from sklearn.model_selection import train_test_split\n",
        "\n",
        "# Load the Breast Cancer dataset\n",
        "data = load_breast_cancer()\n",
        "X, y = data.data, data.target\n",
        "\n",
        "# Split data into training and testing sets (optional, for comparison)\n",
        "X_train, X_test, y_train, y_test = train_test_split(X, y, test_size=0.3, random_state=42)\n",
        "\n",
        "# Create a Random Forest Classifier with oob_score enabled\n",
        "rf_classifier = RandomForestClassifier(n_estimators=100, oob_score=True, random_state=42)\n",
        "\n",
        "# Train the classifier\n",
        "rf_classifier.fit(X_train, y_train)\n",
        "\n",
        "# Get the OOB score\n",
        "oob_score = rf_classifier.oob_score_\n",
        "\n",
        "# Print the OOB score\n",
        "print(f\"OOB Score: {oob_score}\")"
      ],
      "metadata": {
        "colab": {
          "base_uri": "https://localhost:8080/"
        },
        "id": "vD1w7dcdceLp",
        "outputId": "7a83215a-712e-4e60-c180-2f70391cb9a0"
      },
      "execution_count": null,
      "outputs": [
        {
          "output_type": "stream",
          "name": "stdout",
          "text": [
            "OOB Score: 0.9547738693467337\n"
          ]
        }
      ]
    },
    {
      "cell_type": "markdown",
      "source": [
        "#26.Train a Bagging Classifier using SVM as a base estimator and print accuracy."
      ],
      "metadata": {
        "id": "7nlY4jgHcf5w"
      }
    },
    {
      "cell_type": "code",
      "source": [
        "\n",
        "from sklearn.ensemble import BaggingClassifier\n",
        "from sklearn.svm import SVC\n",
        "from sklearn.datasets import load_breast_cancer\n",
        "from sklearn.model_selection import train_test_split\n",
        "from sklearn.metrics import accuracy_score\n",
        "\n",
        "# Load the Breast Cancer dataset\n",
        "data = load_breast_cancer()\n",
        "X, y = data.data, data.target\n",
        "\n",
        "# Split data into training and testing sets\n",
        "X_train, X_test, y_train, y_test = train_test_split(X, y, test_size=0.3, random_state=42)\n",
        "\n",
        "# Create a Bagging Classifier with SVM as the base estimator\n",
        "bagging_classifier = BaggingClassifier(\n",
        "    estimator=SVC(),  # Using SVC as the base estimator\n",
        "    n_estimators=10,  # Number of base estimators (SVMs)\n",
        "    random_state=42   # For reproducibility\n",
        ")\n",
        "\n",
        "# Train the Bagging Classifier\n",
        "bagging_classifier.fit(X_train, y_train)\n",
        "\n",
        "# Make predictions on the test set\n",
        "y_pred = bagging_classifier.predict(X_test)\n",
        "\n",
        "# Calculate and print the accuracy\n",
        "accuracy = accuracy_score(y_test, y_pred)\n",
        "print(f\"Bagging Classifier with SVM Accuracy: {accuracy}\")"
      ],
      "metadata": {
        "colab": {
          "base_uri": "https://localhost:8080/"
        },
        "id": "y6LGtjuac6T4",
        "outputId": "10ba13be-4848-4e54-9d53-7917da06dd78"
      },
      "execution_count": null,
      "outputs": [
        {
          "output_type": "stream",
          "name": "stdout",
          "text": [
            "Bagging Classifier with SVM Accuracy: 0.9415204678362573\n"
          ]
        }
      ]
    },
    {
      "cell_type": "markdown",
      "source": [
        "#27.Train a Random Forest Classifier with different numbers of trees and compare accuracy."
      ],
      "metadata": {
        "id": "4GmCSrVNdEF_"
      }
    },
    {
      "cell_type": "code",
      "source": [
        "import matplotlib.pyplot as plt\n",
        "from sklearn.ensemble import RandomForestClassifier\n",
        "from sklearn.datasets import load_iris\n",
        "from sklearn.model_selection import train_test_split\n",
        "from sklearn.metrics import accuracy_score\n",
        "\n",
        "# Load the Iris dataset\n",
        "iris = load_iris()\n",
        "X, y = iris.data, iris.target\n",
        "\n",
        "# Split data into training and testing sets\n",
        "X_train, X_test, y_train, y_test = train_test_split(X, y, test_size=0.3, random_state=42)\n",
        "\n",
        "# Define a range of number of trees (n_estimators)\n",
        "num_trees = [10, 20, 30, 40, 50, 100, 200]\n",
        "\n",
        "# Store accuracy scores for each number of trees\n",
        "accuracy_scores = []\n",
        "\n",
        "# Train and evaluate for each number of trees\n",
        "for n in num_trees:\n",
        "    # Create a Random Forest Classifier with the current number of trees\n",
        "    rf_classifier = RandomForestClassifier(n_estimators=n, random_state=42)\n",
        "\n",
        "    # Train the classifier\n",
        "    rf_classifier.fit(X_train, y_train)\n",
        "\n",
        "    # Make predictions on the test set\n",
        "    y_pred = rf_classifier.predict(X_test)\n",
        "\n",
        "    # Calculate accuracy and store it\n",
        "    accuracy = accuracy_score(y_test, y_pred)\n",
        "    accuracy_scores.append(accuracy)\n",
        "\n",
        "    print(f\"Accuracy with {n} trees: {accuracy}\")\n",
        "\n",
        "# Plot the accuracy scores against the number of trees\n",
        "plt.plot(num_trees, accuracy_scores)\n",
        "plt.xlabel(\"Number of Trees (n_estimators)\")\n",
        "plt.ylabel(\"Accuracy\")\n",
        "plt.title(\"Accuracy vs. Number of Trees in Random Forest\")\n",
        "plt.show()"
      ],
      "metadata": {
        "colab": {
          "base_uri": "https://localhost:8080/",
          "height": 593
        },
        "id": "eTSpGHLPdl3u",
        "outputId": "65d3c871-3f58-43cb-8062-81320a85d608"
      },
      "execution_count": null,
      "outputs": [
        {
          "output_type": "stream",
          "name": "stdout",
          "text": [
            "Accuracy with 10 trees: 1.0\n",
            "Accuracy with 20 trees: 1.0\n",
            "Accuracy with 30 trees: 1.0\n",
            "Accuracy with 40 trees: 1.0\n",
            "Accuracy with 50 trees: 1.0\n",
            "Accuracy with 100 trees: 1.0\n",
            "Accuracy with 200 trees: 1.0\n"
          ]
        },
        {
          "output_type": "display_data",
          "data": {
            "text/plain": [
              "<Figure size 640x480 with 1 Axes>"
            ],
            "image/png": "[encoded data removed]"
          },
          "metadata": {}
        }
      ]
    },
    {
      "cell_type": "markdown",
      "source": [
        "#28.Train a Bagging Classifier using Logistic Regression as a base estimator and print AUC score."
      ],
      "metadata": {
        "id": "sZxo9IoneZZs"
      }
    },
    {
      "cell_type": "code",
      "source": [
        "from sklearn.ensemble import BaggingClassifier\n",
        "from sklearn.linear_model import LogisticRegression\n",
        "from sklearn.model_selection import train_test_split\n",
        "from sklearn.metrics import roc_auc_score\n",
        "from sklearn.datasets import load_breast_cancer\n",
        "\n",
        "\n",
        "# 1. Load the breast cancer dataset\n",
        "data = load_breast_cancer()\n",
        "X, y = data.data, data.target\n",
        "\n",
        "# 2. Split the data into training and testing sets\n",
        "X_train, X_test, y_train, y_test = train_test_split(X, y, test_size=0.2, random_state=42)\n",
        "\n",
        "# 3. Create a Bagging Classifier with Logistic Regression as the base estimator\n",
        "bagging_classifier = BaggingClassifier(\n",
        "    estimator=LogisticRegression(solver='liblinear'),\n",
        "    n_estimators=10,\n",
        "    random_state=42\n",
        ")\n",
        "\n",
        "# 4. Train the Bagging Classifier\n",
        "bagging_classifier.fit(X_train, y_train)\n",
        "\n",
        "# 5. Predict probabilities on the test set\n",
        "y_pred_probs = bagging_classifier.predict_proba(X_test)[:, 1]\n",
        "\n",
        "# 6. Calculate the AUC score\n",
        "auc_score = roc_auc_score(y_test, y_pred_probs)\n",
        "\n",
        "# 7. Print the AUC score\n",
        "print(\"AUC Score:\", auc_score)"
      ],
      "metadata": {
        "id": "yQOEU55kfLp9",
        "outputId": "13e2d375-a39f-43fa-8a29-e979b92293bc",
        "colab": {
          "base_uri": "https://localhost:8080/"
        }
      },
      "execution_count": null,
      "outputs": [
        {
          "output_type": "stream",
          "name": "stdout",
          "text": [
            "AUC Score: 0.99737962659679\n"
          ]
        }
      ]
    },
    {
      "cell_type": "markdown",
      "source": [
        "#29.Train a Random Forest Regressor and Analyze feature importance scores."
      ],
      "metadata": {
        "id": "olxlbRrNjXiv"
      }
    },
    {
      "cell_type": "code",
      "source": [
        "\n",
        "\n",
        "import pandas as pd\n",
        "import matplotlib.pyplot as plt\n",
        "import seaborn as sns\n",
        "from sklearn.ensemble import RandomForestRegressor\n",
        "from sklearn.model_selection import train_test_split\n",
        "from sklearn.datasets import fetch_california_housing  # Using the California housing dataset\n",
        "\n",
        "# Load the California housing dataset\n",
        "california = fetch_california_housing()\n",
        "X, y = california.data, california.target\n",
        "feature_names = california.feature_names\n",
        "\n",
        "# Split data into training and testing sets\n",
        "X_train, X_test, y_train, y_test = train_test_split(X, y, test_size=0.2, random_state=42)\n",
        "\n",
        "# Create a Random Forest Regressor\n",
        "rf_regressor = RandomForestRegressor(n_estimators=100, random_state=42)\n",
        "\n",
        "# Train the regressor\n",
        "rf_regressor.fit(X_train, y_train)\n",
        "\n",
        "# Get feature importance scores\n",
        "feature_importances = rf_regressor.feature_importances_\n",
        "\n",
        "# Create a DataFrame for feature importances\n",
        "importance_df = pd.DataFrame({'Feature': feature_names, 'Importance': feature_importances})\n",
        "\n",
        "# Sort the DataFrame by importance in descending order\n",
        "importance_df = importance_df.sort_values(by='Importance', ascending=False)\n",
        "\n",
        "# Print feature importances\n",
        "print(\"Feature Importances:\")\n",
        "print(importance_df)\n",
        "\n",
        "# Visualize feature importances using matplotlib and seaborn\n",
        "plt.figure(figsize=(10, 6))\n",
        "sns.barplot(x='Importance', y='Feature', data=importance_df)\n",
        "plt.title('Feature Importances in Random Forest Regressor (California Housing)')\n",
        "plt.xlabel('Importance Score')\n",
        "plt.ylabel('Features')\n",
        "plt.show()"
      ],
      "metadata": {
        "colab": {
          "base_uri": "https://localhost:8080/",
          "height": 711
        },
        "id": "BVJmEONGmDa0",
        "outputId": "96539c56-405f-44ef-eb74-580f01985c5f"
      },
      "execution_count": null,
      "outputs": [
        {
          "output_type": "stream",
          "name": "stdout",
          "text": [
            "Feature Importances:\n",
            "      Feature  Importance\n",
            "0      MedInc    0.524871\n",
            "5    AveOccup    0.138443\n",
            "6    Latitude    0.088936\n",
            "7   Longitude    0.088629\n",
            "1    HouseAge    0.054593\n",
            "2    AveRooms    0.044272\n",
            "4  Population    0.030650\n",
            "3   AveBedrms    0.029606\n"
          ]
        },
        {
          "output_type": "display_data",
          "data": {
            "text/plain": [
              "<Figure size 1000x600 with 1 Axes>"
            ],
            "image/png": "[encoded data removed]"
          },
          "metadata": {}
        }
      ]
    },
    {
      "cell_type": "markdown",
      "source": [
        "#30.Train an ensemble model using both Bagging and Random Forest and compare accuracy."
      ],
      "metadata": {
        "id": "1RYP5FHrnOwt"
      }
    },
    {
      "cell_type": "code",
      "source": [
        "import pandas as pd\n",
        "import matplotlib.pyplot as plt\n",
        "import seaborn as sns\n",
        "from sklearn.ensemble import BaggingRegressor, RandomForestRegressor\n",
        "from sklearn.model_selection import train_test_split\n",
        "from sklearn.datasets import fetch_california_housing\n",
        "from sklearn.metrics import r2_score\n",
        "\n",
        "# Load the California housing dataset\n",
        "california = fetch_california_housing()\n",
        "X, y = california.data, california.target\n",
        "feature_names = california.feature_names\n",
        "\n",
        "# Split data into training and testing sets\n",
        "X_train, X_test, y_train, y_test = train_test_split(X, y, test_size=0.2, random_state=42)\n",
        "\n",
        "# Create and train a Bagging Regressor\n",
        "bagging_regressor = BaggingRegressor(n_estimators=100, random_state=42)\n",
        "bagging_regressor.fit(X_train, y_train)\n",
        "\n",
        "# Create and train a Random Forest Regressor\n",
        "rf_regressor = RandomForestRegressor(n_estimators=100, random_state=42)\n",
        "rf_regressor.fit(X_train, y_train)\n",
        "\n",
        "# Make predictions on the test set\n",
        "bagging_pred = bagging_regressor.predict(X_test)\n",
        "rf_pred = rf_regressor.predict(X_test)\n",
        "\n",
        "# Calculate R-squared scores\n",
        "bagging_r2 = r2_score(y_test, bagging_pred)\n",
        "rf_r2 = r2_score(y_test, rf_pred)\n",
        "\n",
        "# Print R-squared scores\n",
        "print(f\"Bagging Regressor R-squared: {bagging_r2}\")\n",
        "print(f\"Random Forest Regressor R-squared: {rf_r2}\")\n",
        "\n",
        "# Compare R-squared scores\n",
        "if bagging_r2 > rf_r2:\n",
        "    print(\"Bagging Regressor performed better.\")\n",
        "elif rf_r2 > bagging_r2:\n",
        "    print(\"Random Forest Regressor performed better.\")\n",
        "else:\n",
        "    print(\"Both models performed equally.\")"
      ],
      "metadata": {
        "colab": {
          "base_uri": "https://localhost:8080/"
        },
        "id": "zHFRuT2untyL",
        "outputId": "a746805c-0e0e-4c60-fc85-43d37026c2e2"
      },
      "execution_count": null,
      "outputs": [
        {
          "output_type": "stream",
          "name": "stdout",
          "text": [
            "Bagging Regressor R-squared: 0.8046988456668309\n",
            "Random Forest Regressor R-squared: 0.8051230593157366\n",
            "Random Forest Regressor performed better.\n"
          ]
        }
      ]
    },
    {
      "cell_type": "markdown",
      "source": [
        "#31.Train a Random Forest Classifier and tune hyperparameters using Grid Search CV ."
      ],
      "metadata": {
        "id": "y1ifpUr2n7VJ"
      }
    },
    {
      "cell_type": "code",
      "source": [
        "import pandas as pd\n",
        "import matplotlib.pyplot as plt\n",
        "import seaborn as sns\n",
        "from sklearn.ensemble import RandomForestClassifier\n",
        "from sklearn.model_selection import train_test_split, GridSearchCV\n",
        "from sklearn.datasets import load_iris\n",
        "from sklearn.metrics import accuracy_score\n",
        "\n",
        "# Load the Iris dataset\n",
        "iris = load_iris()\n",
        "X, y = iris.data, iris.target\n",
        "\n",
        "# Split data into training and testing sets\n",
        "X_train, X_test, y_train, y_test = train_test_split(X, y, test_size=0.2, random_state=42)\n",
        "\n",
        "# Define the parameter grid for Grid Search\n",
        "param_grid = {\n",
        "    'n_estimators': [50, 100, 150],\n",
        "    'max_depth': [None, 5, 10],\n",
        "    'min_samples_split': [2, 5, 10],\n",
        "    'min_samples_leaf': [1, 2, 4]\n",
        "}\n",
        "\n",
        "# Create a Random Forest Classifier\n",
        "rf_classifier = RandomForestClassifier(random_state=42)\n",
        "\n",
        "# Create Grid Search CV object\n",
        "grid_search = GridSearchCV(estimator=rf_classifier, param_grid=param_grid, cv=5, scoring='accuracy')\n",
        "\n",
        "# Fit Grid Search to the training data\n",
        "grid_search.fit(X_train, y_train)\n",
        "\n",
        "# Get the best hyperparameters\n",
        "best_params = grid_search.best_params_\n",
        "print(f\"Best Hyperparameters: {best_params}\")\n",
        "\n",
        "# Train the model with the best hyperparameters\n",
        "best_rf_classifier = RandomForestClassifier(**best_params, random_state=42)\n",
        "best_rf_classifier.fit(X_train, y_train)\n",
        "\n",
        "# Make predictions on the test set\n",
        "y_pred = best_rf_classifier.predict(X_test)\n",
        "\n",
        "# Calculate accuracy\n",
        "accuracy = accuracy_score(y_test, y_pred)\n",
        "print(f\"Accuracy with Best Hyperparameters: {accuracy}\")"
      ],
      "metadata": {
        "colab": {
          "base_uri": "https://localhost:8080/"
        },
        "id": "HeFVZZCzok2o",
        "outputId": "7c926632-322e-4dad-b882-85663b0da2d8"
      },
      "execution_count": null,
      "outputs": [
        {
          "output_type": "stream",
          "name": "stdout",
          "text": [
            "Best Hyperparameters: {'max_depth': None, 'min_samples_leaf': 2, 'min_samples_split': 2, 'n_estimators': 150}\n",
            "Accuracy with Best Hyperparameters: 1.0\n"
          ]
        }
      ]
    },
    {
      "cell_type": "markdown",
      "source": [
        "#32.Train a Bagging Regressor with different number of base estimators and compare performence."
      ],
      "metadata": {
        "id": "0IIg0ZhRo6fK"
      }
    },
    {
      "cell_type": "code",
      "source": [
        "import pandas as pd\n",
        "import matplotlib.pyplot as plt\n",
        "import seaborn as sns\n",
        "from sklearn.ensemble import BaggingRegressor\n",
        "from sklearn.model_selection import train_test_split\n",
        "from sklearn.datasets import fetch_california_housing\n",
        "from sklearn.metrics import r2_score\n",
        "\n",
        "# Load the California housing dataset\n",
        "california = fetch_california_housing()\n",
        "X, y = california.data, california.target\n",
        "\n",
        "# Split data into training and testing sets\n",
        "X_train, X_test, y_train, y_test = train_test_split(X, y, test_size=0.2, random_state=42)\n",
        "\n",
        "# Define a range of number of base estimators\n",
        "n_estimators_range = [10, 50, 100, 200]\n",
        "\n",
        "# Store R-squared scores for each number of estimators\n",
        "r2_scores = []\n",
        "\n",
        "# Train and evaluate for each number of estimators\n",
        "for n_estimators in n_estimators_range:\n",
        "    # Create a Bagging Regressor with the current number of estimators\n",
        "    bagging_regressor = BaggingRegressor(n_estimators=n_estimators, random_state=42)\n",
        "\n",
        "    # Train the regressor\n",
        "    bagging_regressor.fit(X_train, y_train)\n",
        "\n",
        "    # Make predictions on the test set\n",
        "    y_pred = bagging_regressor.predict(X_test)\n",
        "\n",
        "    # Calculate R-squared and store it\n",
        "    r2 = r2_score(y_test, y_pred)\n",
        "    r2_scores.append(r2)\n",
        "\n",
        "    print(f\"R-squared with {n_estimators} estimators: {r2}\")\n",
        "\n",
        "# Plot the R-squared scores against the number of estimators\n",
        "plt.plot(n_estimators_range, r2_scores, marker='o')\n",
        "plt.xlabel(\"Number of Base Estimators\")\n",
        "plt.ylabel(\"R-squared\")\n",
        "plt.title(\"Bagging Regressor Performance vs. Number of Estimators\")\n",
        "plt.show()"
      ],
      "metadata": {
        "colab": {
          "base_uri": "https://localhost:8080/",
          "height": 541
        },
        "id": "c55hu60wpcm_",
        "outputId": "eaf2a49f-b696-4155-8e79-6799eb99751f"
      },
      "execution_count": null,
      "outputs": [
        {
          "output_type": "stream",
          "name": "stdout",
          "text": [
            "R-squared with 10 estimators: 0.7844762342339637\n",
            "R-squared with 50 estimators: 0.8036499747356253\n",
            "R-squared with 100 estimators: 0.8046988456668309\n",
            "R-squared with 200 estimators: 0.806096246834142\n"
          ]
        },
        {
          "output_type": "display_data",
          "data": {
            "text/plain": [
              "<Figure size 640x480 with 1 Axes>"
            ],
            "image/png": "[encoded data removed]"
          },
          "metadata": {}
        }
      ]
    },
    {
      "cell_type": "markdown",
      "source": [
        "#33.Train a Random Forest Classifier and analyze misclassified samples."
      ],
      "metadata": {
        "id": "pqJeDUi-ptnB"
      }
    },
    {
      "cell_type": "code",
      "source": [
        "import pandas as pd\n",
        "import matplotlib.pyplot as plt\n",
        "import seaborn as sns\n",
        "from sklearn.ensemble import RandomForestClassifier\n",
        "from sklearn.model_selection import train_test_split\n",
        "from sklearn.datasets import load_iris\n",
        "from sklearn.metrics import accuracy_score\n",
        "\n",
        "# Load the Iris dataset\n",
        "iris = load_iris()\n",
        "X, y = iris.data, iris.target\n",
        "feature_names = iris.feature_names\n",
        "target_names = iris.target_names\n",
        "\n",
        "# Split data into training and testing sets\n",
        "X_train, X_test, y_train, y_test = train_test_split(X, y, test_size=0.2, random_state=42)\n",
        "\n",
        "# Create and train a Random Forest Classifier\n",
        "rf_classifier = RandomForestClassifier(n_estimators=100, random_state=42)\n",
        "rf_classifier.fit(X_train, y_train)\n",
        "\n",
        "# Make predictions on the test set\n",
        "y_pred = rf_classifier.predict(X_test)\n",
        "\n",
        "# Calculate accuracy\n",
        "accuracy = accuracy_score(y_test, y_pred)\n",
        "print(f\"Accuracy: {accuracy}\")\n",
        "\n",
        "# Identify misclassified samples\n",
        "misclassified_indices = [i for i, (pred, true) in enumerate(zip(y_pred, y_test)) if pred != true]\n",
        "\n",
        "# Create a DataFrame for misclassified samples\n",
        "misclassified_df = pd.DataFrame(X_test[misclassified_indices], columns=feature_names)\n",
        "misclassified_df['True Label'] = [target_names[true] for true in y_test[misclassified_indices]]\n",
        "misclassified_df['Predicted Label'] = [target_names[pred] for pred in y_pred[misclassified_indices]]\n",
        "\n",
        "# Print misclassified samples\n",
        "print(\"\\nMisclassified Samples:\")\n",
        "print(misclassified_df)\n",
        "\n",
        "# Optionally, you can visualize the misclassified samples using a scatter plot\n",
        "# (e.g., using seaborn) if you have two features you want to visualize."
      ],
      "metadata": {
        "colab": {
          "base_uri": "https://localhost:8080/"
        },
        "id": "5kD913gXqc0c",
        "outputId": "3cbef6ea-6655-4ac2-f571-fb66a2cb3aa8"
      },
      "execution_count": null,
      "outputs": [
        {
          "output_type": "stream",
          "name": "stdout",
          "text": [
            "Accuracy: 1.0\n",
            "\n",
            "Misclassified Samples:\n",
            "Empty DataFrame\n",
            "Columns: [sepal length (cm), sepal width (cm), petal length (cm), petal width (cm), True Label, Predicted Label]\n",
            "Index: []\n"
          ]
        }
      ]
    },
    {
      "cell_type": "markdown",
      "source": [
        "#34.Train a Bagging and Compare its Performance With a single Decision Tree Classifier ."
      ],
      "metadata": {
        "id": "hNrJT4soqhOT"
      }
    },
    {
      "cell_type": "code",
      "source": [
        "import pandas as pd\n",
        "import matplotlib.pyplot as plt\n",
        "import seaborn as sns\n",
        "from sklearn.ensemble import BaggingClassifier\n",
        "from sklearn.tree import DecisionTreeClassifier\n",
        "from sklearn.model_selection import train_test_split\n",
        "from sklearn.datasets import load_iris\n",
        "from sklearn.metrics import accuracy_score\n",
        "\n",
        "# Load the Iris dataset\n",
        "iris = load_iris()\n",
        "X, y = iris.data, iris.target\n",
        "\n",
        "# Split data into training and testing sets\n",
        "X_train, X_test, y_train, y_test = train_test_split(X, y, test_size=0.2, random_state=42)\n",
        "\n",
        "# Create and train a Bagging Classifier\n",
        "bagging_classifier = BaggingClassifier(n_estimators=100, random_state=42)  # Using 100 Decision Trees\n",
        "bagging_classifier.fit(X_train, y_train)\n",
        "\n",
        "# Create and train a single Decision Tree Classifier\n",
        "decision_tree_classifier = DecisionTreeClassifier(random_state=42)\n",
        "decision_tree_classifier.fit(X_train, y_train)\n",
        "\n",
        "# Make predictions on the test set\n",
        "bagging_pred = bagging_classifier.predict(X_test)\n",
        "decision_tree_pred = decision_tree_classifier.predict(X_test)\n",
        "\n",
        "# Calculate accuracy scores\n",
        "bagging_accuracy = accuracy_score(y_test, bagging_pred)\n",
        "decision_tree_accuracy = accuracy_score(y_test, decision_tree_pred)\n",
        "\n",
        "# Print accuracy scores\n",
        "print(f\"Bagging Classifier Accuracy: {bagging_accuracy}\")\n",
        "print(f\"Decision Tree Classifier Accuracy: {decision_tree_accuracy}\")\n",
        "\n",
        "# Compare accuracy scores\n",
        "if bagging_accuracy > decision_tree_accuracy:\n",
        "    print(\"Bagging Classifier performed better.\")\n",
        "elif decision_tree_accuracy > bagging_accuracy:\n",
        "    print(\"Decision Tree Classifier performed better.\")\n",
        "else:\n",
        "    print(\"Both models performed equally.\")"
      ],
      "metadata": {
        "colab": {
          "base_uri": "https://localhost:8080/"
        },
        "id": "gW8pecUPrhv9",
        "outputId": "7a009be2-36f4-4131-b938-f48d32043842"
      },
      "execution_count": null,
      "outputs": [
        {
          "output_type": "stream",
          "name": "stdout",
          "text": [
            "Bagging Classifier Accuracy: 1.0\n",
            "Decision Tree Classifier Accuracy: 1.0\n",
            "Both models performed equally.\n"
          ]
        }
      ]
    },
    {
      "cell_type": "markdown",
      "source": [
        "#35.Train a Random Forest Classifier and Visualize the confusion matrix."
      ],
      "metadata": {
        "id": "-d3wxv9ormEP"
      }
    },
    {
      "cell_type": "code",
      "source": [
        "\n",
        "import pandas as pd\n",
        "import matplotlib.pyplot as plt\n",
        "import seaborn as sns\n",
        "from sklearn.ensemble import RandomForestClassifier\n",
        "from sklearn.model_selection import train_test_split\n",
        "from sklearn.datasets import load_iris\n",
        "from sklearn.metrics import confusion_matrix\n",
        "\n",
        "# Load the Iris dataset\n",
        "iris = load_iris()\n",
        "X, y = iris.data, iris.target\n",
        "class_names = iris.target_names  # Get class names for the confusion matrix\n",
        "\n",
        "# Split data into training and testing sets\n",
        "X_train, X_test, y_train, y_test = train_test_split(X, y, test_size=0.2, random_state=42)\n",
        "\n",
        "# Create and train a Random Forest Classifier\n",
        "rf_classifier = RandomForestClassifier(n_estimators=100, random_state=42)\n",
        "rf_classifier.fit(X_train, y_train)\n",
        "\n",
        "# Make predictions on the test set\n",
        "y_pred = rf_classifier.predict(X_test)\n",
        "\n",
        "# Calculate the confusion matrix\n",
        "cm = confusion_matrix(y_test, y_pred)\n",
        "\n",
        "# Visualize the confusion matrix using seaborn\n",
        "plt.figure(figsize=(8, 6))\n",
        "sns.heatmap(cm, annot=True, fmt=\"d\", cmap=\"Blues\", xticklabels=class_names, yticklabels=class_names)\n",
        "plt.xlabel(\"Predicted Label\")\n",
        "plt.ylabel(\"True Label\")\n",
        "plt.title(\"Confusion Matrix for Random Forest Classifier\")\n",
        "plt.show()"
      ],
      "metadata": {
        "colab": {
          "base_uri": "https://localhost:8080/",
          "height": 564
        },
        "id": "HOodLXM7sFsN",
        "outputId": "c5b1cdae-134b-4dc4-eb1d-0c74eb2285e2"
      },
      "execution_count": null,
      "outputs": [
        {
          "output_type": "display_data",
          "data": {
            "text/plain": [
              "<Figure size 800x600 with 2 Axes>"
            ],
            "image/png": "[encoded data removed]"
          },
          "metadata": {}
        }
      ]
    },
    {
      "cell_type": "markdown",
      "source": [
        "#36.Train a Stacking Classifier using Decision Trees ,SVM, and Logistic Regression ,and compare accuracy."
      ],
      "metadata": {
        "id": "KDiPpfk6sJZM"
      }
    },
    {
      "cell_type": "code",
      "source": [
        "\n",
        "\n",
        "import pandas as pd\n",
        "import matplotlib.pyplot as plt\n",
        "import seaborn as sns\n",
        "from sklearn.ensemble import StackingClassifier\n",
        "from sklearn.tree import DecisionTreeClassifier\n",
        "from sklearn.svm import SVC\n",
        "from sklearn.linear_model import LogisticRegression\n",
        "from sklearn.model_selection import train_test_split\n",
        "from sklearn.datasets import load_iris\n",
        "from sklearn.metrics import accuracy_score\n",
        "\n",
        "# Load the Iris dataset\n",
        "iris = load_iris()\n",
        "X, y = iris.data, iris.target\n",
        "\n",
        "# Split data into training and testing sets\n",
        "X_train, X_test, y_train, y_test = train_test_split(X, y, test_size=0.2, random_state=42)\n",
        "\n",
        "# Define base estimators\n",
        "estimators = [\n",
        "    ('dt', DecisionTreeClassifier(random_state=42)),\n",
        "    ('svm', SVC(random_state=42)),\n",
        "    ('lr', LogisticRegression(random_state=42, solver='liblinear'))  # Added solver for compatibility\n",
        "]\n",
        "\n",
        "# Create a Stacking Classifier\n",
        "stacking_classifier = StackingClassifier(\n",
        "    estimators=estimators,\n",
        "    final_estimator=LogisticRegression(solver='liblinear')  # Added solver for compatibility\n",
        ")\n",
        "\n",
        "# Train the Stacking Classifier\n",
        "stacking_classifier.fit(X_train, y_train)\n",
        "\n",
        "# Train individual base estimators for comparison\n",
        "for name, estimator in estimators:\n",
        "    estimator.fit(X_train, y_train)\n",
        "\n",
        "# Make predictions on the test set\n",
        "stacking_pred = stacking_classifier.predict(X_test)\n",
        "dt_pred = estimators[0][1].predict(X_test)\n",
        "svm_pred = estimators[1][1].predict(X_test)\n",
        "lr_pred = estimators[2][1].predict(X_test)\n",
        "\n",
        "# Calculate accuracy scores\n",
        "stacking_accuracy = accuracy_score(y_test, stacking_pred)\n",
        "dt_accuracy = accuracy_score(y_test, dt_pred)\n",
        "svm_accuracy = accuracy_score(y_test, svm_pred)\n",
        "lr_accuracy = accuracy_score(y_test, lr_pred)\n",
        "\n",
        "# Print accuracy scores\n",
        "print(f\"Stacking Classifier Accuracy: {stacking_accuracy}\")\n",
        "print(f\"Decision Tree Classifier Accuracy: {dt_accuracy}\")\n",
        "print(f\"SVM Classifier Accuracy: {svm_accuracy}\")\n",
        "print(f\"Logistic Regression Classifier Accuracy: {lr_accuracy}\")"
      ],
      "metadata": {
        "colab": {
          "base_uri": "https://localhost:8080/"
        },
        "id": "vPDJTZOWs8SU",
        "outputId": "d30b5705-1ec4-450a-9482-47ca8aee132b"
      },
      "execution_count": null,
      "outputs": [
        {
          "output_type": "stream",
          "name": "stdout",
          "text": [
            "Stacking Classifier Accuracy: 1.0\n",
            "Decision Tree Classifier Accuracy: 1.0\n",
            "SVM Classifier Accuracy: 1.0\n",
            "Logistic Regression Classifier Accuracy: 1.0\n"
          ]
        }
      ]
    },
    {
      "cell_type": "markdown",
      "source": [
        "#37.Train a Random Forest Classifier and print the top 5 most importent features."
      ],
      "metadata": {
        "id": "7juvZvXqtA-r"
      }
    },
    {
      "cell_type": "code",
      "source": [
        "\n",
        "import pandas as pd\n",
        "from sklearn.ensemble import RandomForestClassifier\n",
        "from sklearn.model_selection import train_test_split\n",
        "from sklearn.datasets import load_iris\n",
        "\n",
        "# Load the Iris dataset\n",
        "iris = load_iris()\n",
        "X, y = iris.data, iris.target\n",
        "feature_names = iris.feature_names\n",
        "\n",
        "# Split data into training and testing sets\n",
        "X_train, X_test, y_train, y_test = train_test_split(X, y, test_size=0.2, random_state=42)\n",
        "\n",
        "# Create and train a Random Forest Classifier\n",
        "rf_classifier = RandomForestClassifier(n_estimators=100, random_state=42)\n",
        "rf_classifier.fit(X_train, y_train)\n",
        "\n",
        "# Get feature importances\n",
        "importances = rf_classifier.feature_importances_\n",
        "\n",
        "# Create a DataFrame for feature importances\n",
        "feature_importance_df = pd.DataFrame({'Feature': feature_names, 'Importance': importances})\n",
        "\n",
        "# Sort the DataFrame by importance in descending order\n",
        "feature_importance_df = feature_importance_df.sort_values(by='Importance', ascending=False)\n",
        "\n",
        "# Print the top 5 most important features\n",
        "print(\"Top 5 Most Important Features:\")\n",
        "print(feature_importance_df.head(5))"
      ],
      "metadata": {
        "colab": {
          "base_uri": "https://localhost:8080/"
        },
        "id": "V7_Esl9KuKAC",
        "outputId": "6cbc2c3f-77b3-4624-aeae-4992fab7c568"
      },
      "execution_count": null,
      "outputs": [
        {
          "output_type": "stream",
          "name": "stdout",
          "text": [
            "Top 5 Most Important Features:\n",
            "             Feature  Importance\n",
            "2  petal length (cm)    0.439994\n",
            "3   petal width (cm)    0.421522\n",
            "0  sepal length (cm)    0.108098\n",
            "1   sepal width (cm)    0.030387\n"
          ]
        }
      ]
    },
    {
      "cell_type": "markdown",
      "source": [
        "#38.Train a Bagging Classifier and evaluate performance using Precision, Recall,and F1-score."
      ],
      "metadata": {
        "id": "hIK_XuCvuOVK"
      }
    },
    {
      "cell_type": "code",
      "source": [
        "\n",
        "\n",
        "import pandas as pd\n",
        "from sklearn.ensemble import BaggingClassifier\n",
        "from sklearn.model_selection import train_test_split\n",
        "from sklearn.datasets import load_iris\n",
        "from sklearn.metrics import accuracy_score, precision_score, recall_score, f1_score, classification_report\n",
        "\n",
        "# Load the Iris dataset\n",
        "iris = load_iris()\n",
        "X, y = iris.data, iris.target\n",
        "\n",
        "# Split data into training and testing sets\n",
        "X_train, X_test, y_train, y_test = train_test_split(X, y, test_size=0.2, random_state=42)\n",
        "\n",
        "# Create and train a Bagging Classifier\n",
        "bagging_classifier = BaggingClassifier(n_estimators=100, random_state=42)\n",
        "bagging_classifier.fit(X_train, y_train)\n",
        "\n",
        "# Make predictions on the test set\n",
        "y_pred = bagging_classifier.predict(X_test)\n",
        "\n",
        "# Calculate accuracy\n",
        "accuracy = accuracy_score(y_test, y_pred)\n",
        "print(f\"Accuracy: {accuracy}\")\n",
        "\n",
        "# Calculate precision, recall, and F1-score\n",
        "precision = precision_score(y_test, y_pred, average='weighted')  # Use weighted average for multi-class\n",
        "recall = recall_score(y_test, y_pred, average='weighted')\n",
        "f1 = f1_score(y_test, y_pred, average='weighted')\n",
        "\n",
        "print(f\"Precision: {precision}\")\n",
        "print(f\"Recall: {recall}\")\n",
        "print(f\"F1-score: {f1}\")\n",
        "\n",
        "# You can also print a classification report for more detailed information\n",
        "print(\"\\nClassification Report:\")\n",
        "print(classification_report(y_test, y_pred, target_names=iris.target_names))"
      ],
      "metadata": {
        "colab": {
          "base_uri": "https://localhost:8080/"
        },
        "id": "yfOTH0tlvJlQ",
        "outputId": "2297a717-c2f3-4432-c2b1-b3e155e79d30"
      },
      "execution_count": null,
      "outputs": [
        {
          "output_type": "stream",
          "name": "stdout",
          "text": [
            "Accuracy: 1.0\n",
            "Precision: 1.0\n",
            "Recall: 1.0\n",
            "F1-score: 1.0\n",
            "\n",
            "Classification Report:\n",
            "              precision    recall  f1-score   support\n",
            "\n",
            "      setosa       1.00      1.00      1.00        10\n",
            "  versicolor       1.00      1.00      1.00         9\n",
            "   virginica       1.00      1.00      1.00        11\n",
            "\n",
            "    accuracy                           1.00        30\n",
            "   macro avg       1.00      1.00      1.00        30\n",
            "weighted avg       1.00      1.00      1.00        30\n",
            "\n"
          ]
        }
      ]
    },
    {
      "cell_type": "markdown",
      "source": [
        "#39. Train a Random Forest Classifier and analyze the effect of max_depth on accuracy."
      ],
      "metadata": {
        "id": "CAPYg8MEwyMe"
      }
    },
    {
      "cell_type": "code",
      "source": [
        "\n",
        "import pandas as pd\n",
        "import matplotlib.pyplot as plt\n",
        "from sklearn.ensemble import RandomForestClassifier\n",
        "from sklearn.model_selection import train_test_split\n",
        "from sklearn.datasets import load_iris\n",
        "from sklearn.metrics import accuracy_score\n",
        "\n",
        "# Load the Iris dataset\n",
        "iris = load_iris()\n",
        "X, y = iris.data, iris.target\n",
        "\n",
        "# Split data into training and testing sets\n",
        "X_train, X_test, y_train, y_test = train_test_split(X, y, test_size=0.2, random_state=42)\n",
        "\n",
        "# Define a range of max_depth values\n",
        "max_depth_values = range(1, 21)  # Explore depths from 1 to 20\n",
        "\n",
        "# Store accuracy scores for each max_depth\n",
        "accuracy_scores = []\n",
        "\n",
        "# Train and evaluate for each max_depth\n",
        "for max_depth in max_depth_values:\n",
        "    # Create a Random Forest Classifier with the current max_depth\n",
        "    rf_classifier = RandomForestClassifier(n_estimators=100, max_depth=max_depth, random_state=42)\n",
        "\n",
        "    # Train the classifier\n",
        "    rf_classifier.fit(X_train, y_train)\n",
        "\n",
        "    # Make predictions on the test set\n",
        "    y_pred = rf_classifier.predict(X_test)\n",
        "\n",
        "    # Calculate accuracy and store it\n",
        "    accuracy = accuracy_score(y_test, y_pred)\n",
        "    accuracy_scores.append(accuracy)\n",
        "\n",
        "    print(f\"Accuracy with max_depth={max_depth}: {accuracy}\")\n",
        "\n",
        "# Plot the accuracy scores against max_depth\n",
        "plt.plot(max_depth_values, accuracy_scores, marker='o')\n",
        "plt.xlabel(\"Max Depth\")\n",
        "plt.ylabel(\"Accuracy\")\n",
        "plt.title(\"Random Forest Classifier Accuracy vs. Max Depth\")\n",
        "plt.show()"
      ],
      "metadata": {
        "colab": {
          "base_uri": "https://localhost:8080/",
          "height": 819
        },
        "id": "A7FV1TZgxzIQ",
        "outputId": "d6050b9c-d8a5-48b5-b9ae-ae692d927da6"
      },
      "execution_count": null,
      "outputs": [
        {
          "output_type": "stream",
          "name": "stdout",
          "text": [
            "Accuracy with max_depth=1: 1.0\n",
            "Accuracy with max_depth=2: 1.0\n",
            "Accuracy with max_depth=3: 1.0\n",
            "Accuracy with max_depth=4: 1.0\n",
            "Accuracy with max_depth=5: 1.0\n",
            "Accuracy with max_depth=6: 1.0\n",
            "Accuracy with max_depth=7: 1.0\n",
            "Accuracy with max_depth=8: 1.0\n",
            "Accuracy with max_depth=9: 1.0\n",
            "Accuracy with max_depth=10: 1.0\n",
            "Accuracy with max_depth=11: 1.0\n",
            "Accuracy with max_depth=12: 1.0\n",
            "Accuracy with max_depth=13: 1.0\n",
            "Accuracy with max_depth=14: 1.0\n",
            "Accuracy with max_depth=15: 1.0\n",
            "Accuracy with max_depth=16: 1.0\n",
            "Accuracy with max_depth=17: 1.0\n",
            "Accuracy with max_depth=18: 1.0\n",
            "Accuracy with max_depth=19: 1.0\n",
            "Accuracy with max_depth=20: 1.0\n"
          ]
        },
        {
          "output_type": "display_data",
          "data": {
            "text/plain": [
              "<Figure size 640x480 with 1 Axes>"
            ],
            "image/png": "[encoded data removed]"
          },
          "metadata": {}
        }
      ]
    },
    {
      "cell_type": "markdown",
      "source": [
        "#40.Train a Bagging Regressor Using different base estimators(Decision Tree and Kneighbors) and compare performance."
      ],
      "metadata": {
        "id": "eCFSXhKIx9rn"
      }
    },
    {
      "cell_type": "code",
      "source": [
        "\n",
        "import pandas as pd\n",
        "import matplotlib.pyplot as plt\n",
        "from sklearn.ensemble import BaggingRegressor\n",
        "from sklearn.tree import DecisionTreeRegressor\n",
        "from sklearn.neighbors import KNeighborsRegressor\n",
        "from sklearn.model_selection import train_test_split\n",
        "from sklearn.datasets import fetch_california_housing\n",
        "from sklearn.metrics import r2_score\n",
        "\n",
        "# Load the California housing dataset\n",
        "california = fetch_california_housing()\n",
        "X, y = california.data, california.target\n",
        "\n",
        "# Split data into training and testing sets\n",
        "X_train, X_test, y_train, y_test = train_test_split(X, y, test_size=0.2, random_state=42)\n",
        "\n",
        "# Define base estimators\n",
        "base_estimators = [\n",
        "    ('DecisionTree', DecisionTreeRegressor(random_state=42)),\n",
        "    ('KNeighbors', KNeighborsRegressor())\n",
        "]\n",
        "\n",
        "# Store R-squared scores for each base estimator\n",
        "r2_scores = []\n",
        "\n",
        "# Train and evaluate for each base estimator\n",
        "for name, estimator in base_estimators:\n",
        "    # Create a Bagging Regressor with the current base estimator\n",
        "    bagging_regressor = BaggingRegressor(estimator=estimator, n_estimators=100, random_state=42)\n",
        "\n",
        "    # Train the regressor\n",
        "    bagging_regressor.fit(X_train, y_train)\n",
        "\n",
        "    # Make predictions on the test set\n",
        "    y_pred = bagging_regressor.predict(X_test)\n",
        "\n",
        "    # Calculate R-squared and store it\n",
        "    r2 = r2_score(y_test, y_pred)\n",
        "    r2_scores.append(r2)\n",
        "\n",
        "    print(f\"R-squared with {name} base estimator: {r2}\")\n",
        "\n",
        "# Compare R-squared scores\n",
        "if r2_scores[0] > r2_scores[1]:\n",
        "    print(\"Bagging with Decision Tree performed better.\")\n",
        "elif r2_scores[1] > r2_scores[0]:\n",
        "    print(\"Bagging with KNeighbors performed better.\")\n",
        "else:\n",
        "    print(\"Both base estimators performed equally.\")"
      ],
      "metadata": {
        "colab": {
          "base_uri": "https://localhost:8080/"
        },
        "id": "hs6gkEqbymHh",
        "outputId": "101053ce-a017-4f01-fa54-5baeb75a34d9"
      },
      "execution_count": null,
      "outputs": [
        {
          "output_type": "stream",
          "name": "stdout",
          "text": [
            "R-squared with DecisionTree base estimator: 0.8046988456668309\n",
            "R-squared with KNeighbors base estimator: 0.1786384574554135\n",
            "Bagging with Decision Tree performed better.\n"
          ]
        }
      ]
    },
    {
      "cell_type": "markdown",
      "source": [
        "#41. Train a Random Forest Classifier and evaluate its performence using ROC-AUC score."
      ],
      "metadata": {
        "id": "EOVrvdmxy8ZC"
      }
    },
    {
      "cell_type": "code",
      "source": [
        "import pandas as pd\n",
        "import matplotlib.pyplot as plt\n",
        "import seaborn as sns\n",
        "from sklearn.ensemble import RandomForestClassifier\n",
        "from sklearn.model_selection import train_test_split\n",
        "from sklearn.datasets import load_iris\n",
        "from sklearn.metrics import roc_auc_score, roc_curve\n",
        "from sklearn.preprocessing import label_binarize\n",
        "\n",
        "# Load the Iris dataset\n",
        "iris = load_iris()\n",
        "X, y = iris.data, iris.target\n",
        "\n",
        "# Binarize the target labels for multi-class ROC AUC calculation\n",
        "y_bin = label_binarize(y, classes=[0, 1, 2])\n",
        "n_classes = y_bin.shape[1]\n",
        "\n",
        "# Split data into training and testing sets\n",
        "X_train, X_test, y_train, y_test = train_test_split(X, y, test_size=0.2, random_state=42)\n",
        "X_train_bin, X_test_bin, y_train_bin, y_test_bin = train_test_split(X, y_bin, test_size=0.2, random_state=42)\n",
        "\n",
        "# Create and train a Random Forest Classifier\n",
        "rf_classifier = RandomForestClassifier(n_estimators=100, random_state=42)\n",
        "rf_classifier.fit(X_train, y_train)  # Train on the original target variable for better performance\n",
        "\n",
        "# Make predictions on the test set (probabilities for each class)\n",
        "y_pred_probs = rf_classifier.predict_proba(X_test)\n",
        "\n",
        "# Calculate ROC AUC score using 'ovr' (one-vs-rest) method for multi-class\n",
        "roc_auc = roc_auc_score(y_test, y_pred_probs, average='weighted', multi_class='ovr')\n",
        "print(f\"Overall ROC AUC Score: {roc_auc}\")\n",
        "\n",
        "# Optionally, you can also calculate ROC AUC for each class individually:\n",
        "for i in range(n_classes):\n",
        "    fpr, tpr, _ = roc_curve(y_test_bin[:, i], y_pred_probs[:, i])\n",
        "    class_roc_auc = roc_auc_score(y_test_bin[:, i], y_pred_probs[:, i])\n",
        "    print(f\"ROC AUC Score for Class {iris.target_names[i]}: {class_roc_auc}\")\n",
        "\n",
        "    # Plot ROC curve for the current class (optional)\n",
        "    plt.plot(fpr, tpr, label=f'Class {iris.target_names[i]} (AUC = {class_roc_auc:.2f})')\n",
        "\n",
        "# If you plotted individual ROC curves, show the plot\n",
        "plt.plot([0, 1], [0, 1], 'k--')  # Diagonal line representing random classifier\n",
        "plt.xlabel('False Positive Rate')\n",
        "plt.ylabel('True Positive Rate')\n",
        "plt.title('ROC Curve for Random Forest Classifier')\n",
        "plt.legend(loc=\"lower right\")\n",
        "plt.show()"
      ],
      "metadata": {
        "colab": {
          "base_uri": "https://localhost:8080/",
          "height": 541
        },
        "id": "TTMXURRtzkqM",
        "outputId": "ac520c8f-a2cf-43bd-cfe6-2dfccdd0ee4c"
      },
      "execution_count": null,
      "outputs": [
        {
          "output_type": "stream",
          "name": "stdout",
          "text": [
            "Overall ROC AUC Score: 1.0\n",
            "ROC AUC Score for Class setosa: 1.0\n",
            "ROC AUC Score for Class versicolor: 1.0\n",
            "ROC AUC Score for Class virginica: 1.0\n"
          ]
        },
        {
          "output_type": "display_data",
          "data": {
            "text/plain": [
              "<Figure size 640x480 with 1 Axes>"
            ],
            "image/png": "[encoded data removed]"
          },
          "metadata": {}
        }
      ]
    },
    {
      "cell_type": "markdown",
      "source": [
        "#42.Train a Bagging Classifier and Evaluate its performance using cross validation."
      ],
      "metadata": {
        "id": "D7w0Wzk21LPK"
      }
    },
    {
      "cell_type": "code",
      "source": [
        "import pandas as pd\n",
        "from sklearn.ensemble import BaggingClassifier\n",
        "from sklearn.tree import DecisionTreeClassifier  # Use DecisionTreeClassifier as the base estimator\n",
        "from sklearn.model_selection import cross_val_score, train_test_split\n",
        "from sklearn.datasets import load_iris\n",
        "from sklearn.metrics import accuracy_score\n",
        "\n",
        "# Load the Iris dataset\n",
        "iris = load_iris()\n",
        "X, y = iris.data, iris.target\n",
        "\n",
        "# Split data into training and testing sets (optional, but recommended for final evaluation)\n",
        "X_train, X_test, y_train, y_test = train_test_split(X, y, test_size=0.2, random_state=42)\n",
        "\n",
        "# Create a Bagging Classifier with DecisionTreeClassifier as the base estimator\n",
        "bagging_classifier = BaggingClassifier(estimator=DecisionTreeClassifier(),\n",
        "                                      n_estimators=10,  # Number of base estimators (trees)\n",
        "                                      random_state=42)\n",
        "\n",
        "# Perform cross-validation (e.g., 5-fold cross-validation)\n",
        "scores = cross_val_score(bagging_classifier, X_train, y_train, cv=5, scoring='accuracy')\n",
        "\n",
        "# Print the cross-validation scores\n",
        "print(\"Cross-validation scores:\", scores)\n",
        "print(\"Mean accuracy:\", scores.mean())\n",
        "\n",
        "# Optionally, train on the full training set and evaluate on the test set\n",
        "bagging_classifier.fit(X_train, y_train)\n",
        "y_pred = bagging_classifier.predict(X_test)\n",
        "test_accuracy = accuracy_score(y_test, y_pred)\n",
        "print(\"Test accuracy:\", test_accuracy)"
      ],
      "metadata": {
        "colab": {
          "base_uri": "https://localhost:8080/"
        },
        "id": "Oc-aff751ucc",
        "outputId": "1aa694c8-a1b1-4002-a490-282415e6f113"
      },
      "execution_count": null,
      "outputs": [
        {
          "output_type": "stream",
          "name": "stdout",
          "text": [
            "Cross-validation scores: [0.95833333 1.         0.83333333 0.95833333 0.95833333]\n",
            "Mean accuracy: 0.9416666666666668\n",
            "Test accuracy: 1.0\n"
          ]
        }
      ]
    },
    {
      "cell_type": "markdown",
      "source": [
        "#43.Train a Random Forest Classifier and plot the precision-Recall curve."
      ],
      "metadata": {
        "id": "EdT8PWMe2Djw"
      }
    },
    {
      "cell_type": "code",
      "source": [
        "import pandas as pd\n",
        "from sklearn.model_selection import train_test_split\n",
        "from sklearn.ensemble import RandomForestClassifier\n",
        "from sklearn.metrics import precision_recall_curve, auc\n",
        "import matplotlib.pyplot as plt\n",
        "from sklearn.datasets import load_iris\n",
        "\n",
        "# Load the Iris dataset\n",
        "iris = load_iris()\n",
        "X = iris.data  # Features\n",
        "y = iris.target  # Target variable (species)\n",
        "\n",
        "# Split data into training and testing sets\n",
        "X_train, X_test, y_train, y_test = train_test_split(X, y, test_size=0.2, random_state=42)\n",
        "\n",
        "# Train the Random Forest Classifier\n",
        "rf_classifier = RandomForestClassifier(n_estimators=100, random_state=42)\n",
        "rf_classifier.fit(X_train, y_train)\n",
        "\n",
        "# For binary classification, choose one class as the positive class\n",
        "# Here, we'll consider class 2 (Virginica) as the positive class\n",
        "pos_class = 2\n",
        "y_test_binary = (y_test == pos_class).astype(int)\n",
        "y_scores = rf_classifier.predict_proba(X_test)[:, pos_class]\n",
        "\n",
        "# Calculate precision, recall, and thresholds\n",
        "precision, recall, thresholds = precision_recall_curve(y_test_binary, y_scores)\n",
        "\n",
        "# Calculate the area under the curve (AUC)\n",
        "pr_auc = auc(recall, precision)\n",
        "\n",
        "# Plot the Precision-Recall Curve\n",
        "plt.figure(figsize=(8, 6))\n",
        "plt.plot(recall, precision, marker='.', label=f'AUC = {pr_auc:.2f}')\n",
        "plt.xlabel('Recall')\n",
        "plt.ylabel('Precision')\n",
        "plt.title('Precision-Recall Curve for Random Forest Classifier (Iris Dataset)')\n",
        "plt.legend(loc='lower left')\n",
        "plt.grid(True)\n",
        "plt.show()"
      ],
      "metadata": {
        "colab": {
          "base_uri": "https://localhost:8080/",
          "height": 564
        },
        "id": "9_oZzo385hJn",
        "outputId": "4a7f1228-070f-469e-9264-14509ac5fc01"
      },
      "execution_count": 1,
      "outputs": [
        {
          "output_type": "display_data",
          "data": {
            "text/plain": [
              "<Figure size 800x600 with 1 Axes>"
            ],
            "image/png": "[encoded data removed]"
          },
          "metadata": {}
        }
      ]
    },
    {
      "cell_type": "markdown",
      "source": [
        "#44.Train a stacking Classifier with a Random Forest and Logistic Regression and compare accuracy."
      ],
      "metadata": {
        "id": "K_8QphtghiZ9"
      }
    },
    {
      "cell_type": "code",
      "source": [
        "import pandas as pd\n",
        "from sklearn.model_selection import train_test_split\n",
        "from sklearn.ensemble import RandomForestClassifier, StackingClassifier\n",
        "from sklearn.linear_model import LogisticRegression\n",
        "from sklearn.metrics import accuracy_score\n",
        "from sklearn.datasets import load_iris  # Using Iris dataset for demonstration\n",
        "\n",
        "\n",
        "# 1. Load and Prepare Data\n",
        "iris = load_iris()\n",
        "X, y = iris.data, iris.target\n",
        "X_train, X_test, y_train, y_test = train_test_split(X, y, test_size=0.2, random_state=42)\n",
        "\n",
        "# 2. Define Base Estimators and Final Estimator\n",
        "estimators = [\n",
        "    ('rf', RandomForestClassifier(n_estimators=100, random_state=42)),\n",
        "    ('lr', LogisticRegression(max_iter=1000, random_state=42)),\n",
        "]\n",
        "final_estimator = LogisticRegression(random_state=42)\n",
        "\n",
        "# 3. Create and Train the Stacking Classifier\n",
        "stacking_classifier = StackingClassifier(estimators=estimators, final_estimator=final_estimator)\n",
        "stacking_classifier.fit(X_train, y_train)\n",
        "\n",
        "# 4. Make Predictions and Evaluate Accuracy\n",
        "y_pred_stacking = stacking_classifier.predict(X_test)\n",
        "accuracy_stacking = accuracy_score(y_test, y_pred_stacking)\n",
        "print(f\"Stacking Classifier Accuracy: {accuracy_stacking}\")\n",
        "\n",
        "# 5. Compare with Individual Models\n",
        "rf_classifier = RandomForestClassifier(n_estimators=100, random_state=42)\n",
        "rf_classifier.fit(X_train, y_train)\n",
        "y_pred_rf = rf_classifier.predict(X_test)\n",
        "accuracy_rf = accuracy_score(y_test, y_pred_rf)\n",
        "print(f\"Random Forest Accuracy: {accuracy_rf}\")"
      ],
      "metadata": {
        "colab": {
          "base_uri": "https://localhost:8080/"
        },
        "id": "B_a8stioiKRl",
        "outputId": "2f1839fc-491b-40b3-fd52-435158873f05"
      },
      "execution_count": 2,
      "outputs": [
        {
          "output_type": "stream",
          "name": "stdout",
          "text": [
            "Stacking Classifier Accuracy: 1.0\n",
            "Random Forest Accuracy: 1.0\n"
          ]
        }
      ]
    },
    {
      "cell_type": "markdown",
      "source": [
        "#45.Train a Bagging Regressor with different levels of bootstrap samples and compare performance."
      ],
      "metadata": {
        "id": "28fy0Pz0jF1a"
      }
    },
    {
      "cell_type": "code",
      "source": [
        "import pandas as pd\n",
        "import numpy as np\n",
        "from sklearn.model_selection import train_test_split\n",
        "from sklearn.ensemble import BaggingRegressor\n",
        "from sklearn.tree import DecisionTreeRegressor\n",
        "from sklearn.metrics import mean_squared_error\n",
        "from sklearn.datasets import fetch_california_housing\n",
        "import matplotlib.pyplot as plt\n",
        "\n",
        "# 1. Load and Prepare Data\n",
        "california = fetch_california_housing()\n",
        "X, y = california.data, california.target\n",
        "X_train, X_test, y_train, y_test = train_test_split(X, y, test_size=0.2, random_state=42)\n",
        "\n",
        "# 2. Define Bootstrap Sample Sizes\n",
        "bootstrap_sizes = [0.5, 0.7, 0.9, 1.0]  # Different proportions of training data\n",
        "\n",
        "# 3. Train and Evaluate Bagging Regressors\n",
        "mse_scores = []\n",
        "for size in bootstrap_sizes:\n",
        "    bagging_regressor = BaggingRegressor(\n",
        "        estimator=DecisionTreeRegressor(),\n",
        "        n_estimators=100,\n",
        "        max_samples=size,       # Set bootstrap sample size\n",
        "        random_state=42,\n",
        "    )\n",
        "    bagging_regressor.fit(X_train, y_train)\n",
        "    y_pred = bagging_regressor.predict(X_test)\n",
        "    mse = mean_squared_error(y_test, y_pred)\n",
        "    mse_scores.append(mse)\n",
        "\n",
        "# 4. Visualize Performance\n",
        "plt.figure(figsize=(8, 6))\n",
        "plt.plot(bootstrap_sizes, mse_scores, marker='o')\n",
        "plt.xlabel('Bootstrap Sample Size (Proportion)')\n",
        "plt.ylabel('Mean Squared Error (MSE)')\n",
        "plt.title('Bagging Regressor Performance with Different Bootstrap Sample Sizes (California Housing)')\n",
        "plt.grid(True)\n",
        "plt.show()\n",
        "\n",
        "# Print MSE scores\n",
        "for size, mse in zip(bootstrap_sizes, mse_scores):\n",
        "    print(f\"Bootstrap Sample Size: {size}, MSE: {mse}\")"
      ],
      "metadata": {
        "colab": {
          "base_uri": "https://localhost:8080/",
          "height": 633
        },
        "id": "mjgfWHbqkZqZ",
        "outputId": "ece60863-b555-4c86-d06b-757737e6656a"
      },
      "execution_count": 5,
      "outputs": [
        {
          "output_type": "display_data",
          "data": {
            "text/plain": [
              "<Figure size 800x600 with 1 Axes>"
            ],
            "image/png": "[encoded data removed]"
          },
          "metadata": {}
        },
        {
          "output_type": "stream",
          "name": "stdout",
          "text": [
            "Bootstrap Sample Size: 0.5, MSE: 0.2641012699001638\n",
            "Bootstrap Sample Size: 0.7, MSE: 0.25899257322758923\n",
            "Bootstrap Sample Size: 0.9, MSE: 0.25710920456770864\n",
            "Bootstrap Sample Size: 1.0, MSE: 0.25592438609899626\n"
          ]
        }
      ]
    }
  ]
}