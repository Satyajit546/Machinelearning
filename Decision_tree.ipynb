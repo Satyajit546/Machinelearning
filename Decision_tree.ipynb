{
  "nbformat": 4,
  "nbformat_minor": 0,
  "metadata": {
    "colab": {
      "provenance": []
    },
    "kernelspec": {
      "name": "python3",
      "display_name": "Python 3"
    },
    "language_info": {
      "name": "python"
    }
  },
  "cells": [
    {
      "cell_type": "markdown",
      "source": [
        "#1. What is Decision Tree and how does it work?"
      ],
      "metadata": {
        "id": "xUgC6f9okqnm"
      }
    },
    {
      "cell_type": "markdown",
      "source": [
        "A decision tree is a supervised machine learning algorithm that can be used for both classification and regression tasks. It's a flowchart-like structure where each internal node represents a test on an attribute, each branch represents the outcome of the test, and each leaf node represents a class label (in classification) or a numerical value (in regression).\n",
        "\n",
        "How does it work?\n",
        "\n",
        "Data Preparation: The algorithm starts with a labeled dataset, where each instance is described by a set of attributes (features) and a corresponding target variable (class label or numerical value).\n",
        "Tree Construction: The tree is built recursively, starting from the root node.\n",
        "Attribute Selection: At each node, the algorithm selects the best attribute to split the data based on a purity measure (e.g., Gini impurity, information gain). The goal is to find the attribute that best separates the data into subsets with similar target values.\n",
        "Splitting: The data is split into subsets based on the selected attribute's values.\n",
        "Recursion: Steps 3 and 4 are repeated for each subset until a stopping criterion is met (e.g., all instances in a subset belong to the same class, a maximum depth is reached).\n",
        "Prediction: To predict the target value for a new instance, the instance is traversed down the tree based on its attribute values until it reaches a leaf node. The prediction is the class label or numerical value associated with the leaf node.\n",
        "\n",
        "Example:\n",
        "\n",
        "Imagine you want to predict whether a customer will buy a product based on their age and income. A decision tree might look like this:\n",
        "\n",
        "Root Node: Age < 30?\n",
        "Branch 1 (Yes): Income < 50k?\n",
        "Leaf Node 1 (Yes): Will not buy\n",
        "Leaf Node 2 (No): Will buy\n",
        "Branch 2 (No): Will buy\n",
        "In this example, the tree first checks the customer's age. If they are younger than 30, it further checks their income. If they are older than 30, it predicts they will buy the product regardless of their income.\n",
        "\n",
        "#Advantages of Decision Trees:\n",
        "\n",
        "Easy to understand and interpret.\n",
        "Can handle both categorical and numerical data.\n",
        "Non-parametric, meaning they don't make assumptions about the data distribution.\n",
        "Can be used for feature selection.\n",
        "#Disadvantages of Decision Trees:\n",
        "\n",
        "Prone to overfitting if not pruned properly.\n",
        "Can be unstable, meaning small changes in the data can lead to large changes in the tree structure.\n",
        "May not perform well on complex datasets with many features and interactions."
      ],
      "metadata": {
        "id": "Yr6xhlb2lCX8"
      }
    },
    {
      "cell_type": "markdown",
      "source": [
        "#2.What are impurity measures in Decision Tree?"
      ],
      "metadata": {
        "id": "YPiKR6K8lWC7"
      }
    },
    {
      "cell_type": "markdown",
      "source": [
        "#Impurity Measures\n",
        "\n",
        "Impurity measures are used by decision tree algorithms to determine the best way to split the data at each node of the tree. The goal is to find the attribute that best separates the data into subsets with similar target values. This is done by selecting the attribute that minimizes the impurity of the resulting subsets.\n",
        "\n",
        "There are several common impurity measures used in decision trees, including:\n",
        "\n",
        "#Gini Impurity:\n",
        "\n",
        "Gini impurity is a measure of the probability of misclassifying a randomly chosen element in the dataset if it were randomly labeled according to the class distribution in the dataset.\n",
        "It ranges from 0 (pure) to 1 (impure).\n",
        "A lower Gini impurity indicates a better split.\n",
        "Formula: Gini Impurity = 1 - Σ (pi)^2, where pi is the proportion of instances belonging to class i in a node.\n",
        "Entropy:\n",
        "\n",
        "Entropy is a measure of the uncertainty or randomness in a dataset.\n",
        "It ranges from 0 (certain) to 1 (uncertain).\n",
        "A lower entropy indicates a better split.\n",
        "Formula: Entropy = -Σ pi * log2(pi), where pi is the proportion of instances belonging to class i in a node.\n",
        "Information Gain:\n",
        "\n",
        "Information gain is a measure of the reduction in entropy achieved by splitting the data based on a particular attribute.\n",
        "It is calculated as the difference between the entropy of the parent node and the weighted average entropy of the child nodes.\n",
        "A higher information gain indicates a better split.\n",
        "     \n",
        "     Formula: Information Gain = Entropy(parent) - [Weighted Average] * Entropy(children)\n",
        "\n",
        "#Misclassification Error:\n",
        "\n",
        "Measures the fraction of instances misclassified at a particular node.\n",
        "Range is 0 to 1, where 0 means no error.\n",
        "Formula: Misclassification Error = 1- max(pi), where max(pi) represents the proportion of the majority class\n",
        "How are they used?\n",
        "\n",
        "During tree construction, the decision tree algorithm evaluates the impurity of each potential split using one of these measures.\n",
        "It selects the split that results in the greatest reduction in impurity (or, equivalently, the greatest information gain).\n",
        "This process is repeated recursively until a stopping criterion is met, resulting in a tree that partitions the data into relatively pure subsets.\n",
        "Which measure to use?\n",
        "\n",
        "Gini impurity and entropy are the most commonly used impurity measures in practice.\n",
        "They often produce similar results, and the choice between them is often a matter of personal preference or computational efficiency.\n",
        "Information gain is a more general concept that can be used with any impurity measure, making it a powerful tool for attribute selection in decision trees.\n",
        "Misclassification error, although conceptually simple, might be too sensitive to changes in the dataset and is generally avoided."
      ],
      "metadata": {
        "id": "9NyrmtUomBga"
      }
    },
    {
      "cell_type": "markdown",
      "source": [
        "#3.What is the mathematical formula for Gini impurity?"
      ],
      "metadata": {
        "id": "k3tZOc5RmOpy"
      }
    },
    {
      "cell_type": "markdown",
      "source": [
        "    Gini Impurity = 1 - Σ (pi)^2\n",
        "\n",
        "Where:\n",
        "\n",
        "pi represents the proportion of instances belonging to class 'i' in a particular node.\n",
        "The summation (Σ) is calculated over all classes present in the node.\n",
        "In simpler terms:\n",
        "\n",
        "For each class in the node, calculate the proportion of instances belonging to that class (pi).\n",
        "Square each proportion (pi)^2.\n",
        "Sum up the squared proportions for all classes (Σ (pi)^2).\n",
        "Subtract the sum from 1 to get the Gini impurity.\n",
        "\n",
        "Example:\n",
        "\n",
        "Let's say a node in your decision tree has 10 instances, with 6 belonging to class A and 4 belonging to class B.\n",
        "\n",
        "    Proportion of class A (pA) = 6/10 = 0.6\n",
        "    Proportion of class B (pB) = 4/10 = 0.4\n",
        "    Gini Impurity = 1 - [(pA)^2 + (pB)^2]\n",
        "           = 1 - [(0.6)^2 + (0.4)^2]\n",
        "           = 1 - [0.36 + 0.16]\n",
        "           = 1 - 0.52\n",
        "           = 0.48\n",
        "    Therefore, the Gini impurity for this node is 0.48.\n",
        "\n",
        "Interpretation:\n",
        "\n",
        "A Gini impurity of 0 indicates a perfectly pure node, where all instances belong to the same class.\n",
        "A Gini impurity closer to 1 indicates a highly impure node, where instances are evenly distributed among different classes."
      ],
      "metadata": {
        "id": "89W-P5XQmspR"
      }
    },
    {
      "cell_type": "markdown",
      "source": [
        "#4.What is the mathematical formula of entropy ?"
      ],
      "metadata": {
        "id": "Q43rhFHym4pg"
      }
    },
    {
      "cell_type": "markdown",
      "source": [
        "    Entropy = - Σ pi * log2(pi)\n",
        "\n",
        "Where:\n",
        "\n",
        "pi represents the proportion of instances belonging to class 'i' in a particular node.\n",
        "The summation (Σ) is calculated over all classes present in the node.\n",
        "log2 denotes the logarithm base 2.\n",
        "In simpler terms:\n",
        "\n",
        "For each class in the node, calculate the proportion of instances belonging to that class (pi).\n",
        "Calculate the logarithm base 2 of each proportion (log2(pi)).\n",
        "Multiply each proportion by its logarithm (pi * log2(pi)).\n",
        "Sum up the results for all classes (Σ pi * log2(pi)).\n",
        "Negate the sum to get the entropy.\n",
        "Example:\n",
        "\n",
        "Let's say a node in your decision tree has 10 instances, with 6 belonging to class A and 4 belonging to class B.\n",
        "\n",
        "    Proportion of class A (pA) = 6/10 = 0.6\n",
        "    Proportion of class B (pB) = 4/10 = 0.4\n",
        "    Entropy = - [(pA * log2(pA)) + (pB * log2(pB))]\n",
        "      = - [(0.6 * log2(0.6)) + (0.4 * log2(0.4))]\n",
        "      ≈ - [ (0.6 * -0.737) + (0.4 * -1.322)]\n",
        "      ≈ - [-0.442 + -0.529]\n",
        "      ≈ 0.971\n",
        "    Therefore, the entropy for this node is approximately 0.971.\n",
        "\n",
        "#Interpretation:\n",
        "\n",
        "An entropy of 0 indicates a perfectly pure node, where all instances belong to the same class.\n",
        "An entropy closer to 1 indicates a highly impure node, where instances are evenly distributed among different classes."
      ],
      "metadata": {
        "id": "chvxfRbfnIIw"
      }
    },
    {
      "cell_type": "markdown",
      "source": [
        "#5.What is Information Gain,and how does it works in Decision Trees ?"
      ],
      "metadata": {
        "id": "V6iKnKzWnVJX"
      }
    },
    {
      "cell_type": "markdown",
      "source": [
        "Information gain is a concept from information theory, used in decision trees to quantify the effectiveness of a split. Essentially, it measures how much information you gain about the target variable by splitting the data based on a particular attribute. The attribute that yields the highest information gain is chosen as the splitting attribute.\n",
        "\n",
        "#How does it work in Decision Trees?\n",
        "\n",
        "Here's how information gain works in the context of decision trees:\n",
        "\n",
        "Calculate Entropy of the Parent Node: Before the split, calculate the entropy of the target variable in the parent node. This represents the uncertainty or impurity in the data before the split.\n",
        "Calculate Entropy of Child Nodes: For each possible split on an attribute, calculate the entropy of the target variable within each resulting child node.\n",
        "Calculate Weighted Average Entropy of Child Nodes: Calculate the weighted average entropy of the child nodes. The weight for each child node is determined by the proportion of data points that fall into that node.\n",
        "Calculate Information Gain: Finally, subtract the weighted average entropy of the child nodes from the entropy of the parent node. This difference represents the information gain achieved by the split.\n",
        "Formula:\n",
        "\n",
        "       Information Gain = Entropy(parent) - [Weighted Average] * Entropy(children)\n",
        "\n",
        "Example:\n",
        "\n",
        "Let's say you have a dataset with a target variable \"Play Tennis\" (Yes/No) and an attribute \"Weather\" (Sunny/Overcast/Rainy).\n",
        "\n",
        "You calculate the entropy of \"Play Tennis\" in the entire dataset (parent node).\n",
        "You consider splitting the data based on the \"Weather\" attribute. This would create three child nodes: Sunny, Overcast, and Rainy.\n",
        "You calculate the entropy of \"Play Tennis\" within each of these child nodes.\n",
        "You calculate the weighted average entropy of the child nodes, taking into account the proportion of data points in each node.\n",
        "You subtract this weighted average entropy from the parent node's entropy to get the information gain for the \"Weather\" attribute.\n",
        "You repeat this process for other attributes (e.g., Temperature, Humidity) and select the attribute with the highest information gain as the splitting attribute for the current node in the decision tree.\n",
        "\n",
        "In summary:\n",
        "\n",
        "Higher information gain indicates a better split, meaning the split leads to a greater reduction in uncertainty about the target variable.\n",
        "Decision trees use information gain to select the best attribute for splitting the data at each node, aiming to create a tree that accurately classifies or predicts the target variable."
      ],
      "metadata": {
        "id": "o2MF2bvhn1r_"
      }
    },
    {
      "cell_type": "markdown",
      "source": [
        "#6.What is the difference between Gini Impurity and Entropy?"
      ],
      "metadata": {
        "id": "-Nxa3AQ2n7sW"
      }
    },
    {
      "cell_type": "markdown",
      "source": [
        "Both Gini Impurity and Entropy are metrics used in decision trees to measure the impurity or uncertainty of a node. They help determine the best attribute to split the data at each node, aiming to create a tree that accurately classifies or predicts the target variable. However, they differ in their calculations and properties:\n",
        "\n",
        "#Gini Impurity:\n",
        "\n",
        "Formula: Gini Impurity = 1 - Σ (pi)^2, where pi is the proportion of instances belonging to class i in a node.\n",
        "Range: 0 (pure) to 1 (impure).\n",
        "\n",
        "Calculation: It calculates the probability of misclassifying a randomly chosen element in the dataset if it were randomly labeled according to the class distribution in the dataset.\n",
        "Computation: Generally faster to compute as it involves linear operations.\n",
        "Focus: Emphasizes reducing misclassification.\n",
        "#Entropy:\n",
        "\n",
        "Formula: Entropy = -Σ pi * log2(pi), where pi is the proportion of instances belonging to class i in a node.\n",
        "Range: 0 (certain) to 1 (uncertain).\n",
        "\n",
        "Calculation: It measures the uncertainty or randomness in a dataset.\n",
        "Computation: Can be slightly slower to compute due to the logarithmic calculations.\n",
        "Focus: Measures the disorder or information content in the data.\n",
        "\n",
        "Key Differences:\n",
        "\n",
        "     Feature\t Gini Impurity\t         Entropy\n",
        "    Formula\t   1 - Σ (pi)^2\t        -Σ pi * log2(pi)\n",
        "    Range\t     0 to 1\t                 0 to 1\n",
        "    Calculation\tProbability of misclassification\tUncertainty or randomness\n",
        "    Computation\tFaster\t             Slightly slower\n",
        "    Focus\tReducing misclassification\tInformation content\n",
        "\n",
        "In Practice:\n",
        "\n",
        "Both Gini Impurity and Entropy often produce similar results when building decision trees.\n",
        "The choice between them is often a matter of personal preference or computational considerations.\n",
        "Gini Impurity might be preferred when computational efficiency is a priority.\n",
        "Entropy might be preferred when a more comprehensive measure of information content is desired."
      ],
      "metadata": {
        "id": "5YGAmkvooZ3m"
      }
    },
    {
      "cell_type": "markdown",
      "source": [
        "#7.What is the mathematical explanation behind Decision Trees ?"
      ],
      "metadata": {
        "id": "9cT-3hqhpBME"
      }
    },
    {
      "cell_type": "markdown",
      "source": [
        "Decision trees utilize mathematical concepts to make decisions about splitting data and building the tree structure. Here's a breakdown of the key mathematical aspects:\n",
        "\n",
        "Impurity Measures: These quantify the homogeneity or impurity of a node in the tree. Common impurity measures include:\n",
        "\n",
        "Gini Impurity: Measures the probability of misclassifying a randomly chosen element in the dataset if it were randomly labeled according to the class distribution in the dataset.\n",
        "     Formula: Gini Impurity = 1 - Σ (pi)^2\n",
        "\n",
        "    Entropy: Measures the uncertainty or randomness in a dataset. Formula: Entropy = -Σ pi * log2(pi)\n",
        "\n",
        "Information Gain: This concept is used to select the best attribute for splitting the data at each node. It measures the reduction in impurity achieved by splitting the data based on a particular attribute.\n",
        "\n",
        "     Formula: Information Gain = Entropy(parent) - [Weighted Average] * Entropy(children)\n",
        "Recursive Partitioning: Decision trees are built using a recursive partitioning approach. This involves:\n",
        "\n",
        "Starting with the entire dataset as the root node.\n",
        "Selecting the attribute that maximizes information gain.\n",
        "Splitting the data based on the selected attribute's values, creating child nodes.\n",
        "Recursively repeating the process for each child node until a stopping criterion is met (e.g., all instances in a subset belong to the same class, a maximum depth is reached).\n",
        "Tree Pruning: To prevent overfitting, decision trees are often pruned. This involves removing branches that do not significantly improve the model's performance on unseen data. Pruning techniques include:\n",
        "\n",
        "Pre-pruning: Setting limits on tree depth or the minimum number of instances per node during tree construction.\n",
        "Post-pruning: Growing the tree fully and then removing branches based on a validation set or statistical measures.\n",
        "Prediction: Once the tree is built, it can be used to predict the target variable for new instances. This involves traversing the tree based on the instance's attribute values until a leaf node is reached. The prediction is the class label or numerical value associated with the leaf node.\n",
        "\n",
        "In essence, decision trees use these mathematical principles to:\n",
        "\n",
        "Identify the most informative attributes for splitting the data.\n",
        "Partition the data into homogeneous subsets.\n",
        "Create a tree structure that represents the relationships between attributes and the target variable.\n",
        "Make predictions for new instances based on the learned patterns."
      ],
      "metadata": {
        "id": "cS5eAQNaps4E"
      }
    },
    {
      "cell_type": "markdown",
      "source": [
        "#8.What is the Pre-Puning in Decision Trees?"
      ],
      "metadata": {
        "id": "erZV0heMp7Qb"
      }
    },
    {
      "cell_type": "markdown",
      "source": [
        "\n",
        "#Pre-Pruning\n",
        "\n",
        "Pre-pruning, also known as early stopping, is a technique used in decision tree learning to prevent overfitting by controlling the growth of the tree during the construction process. It involves stopping the tree's growth before it reaches its full potential depth or complexity.\n",
        "\n",
        "How it works:\n",
        "\n",
        "Pre-pruning involves setting constraints or thresholds that limit the tree's growth. These constraints can be based on various factors, such as:\n",
        "\n",
        "Maximum Depth: Limiting the maximum depth of the tree.\n",
        "Minimum Number of Samples per Leaf: Specifying the minimum number of samples required to create a leaf node.\n",
        "Minimum Impurity Decrease: Setting a threshold for the minimum decrease in impurity required for a split to occur.\n",
        "During tree construction, if any of these constraints are violated, the tree's growth is stopped at that point, preventing further splitting.\n",
        "\n",
        "#Benefits of Pre-Pruning:\n",
        "\n",
        "Reduces Overfitting: By limiting the tree's complexity, pre-pruning helps to prevent overfitting, where the tree becomes too specific to the training data and performs poorly on unseen data.\n",
        "Improves Efficiency: Pre-pruning can reduce the computational cost of building the tree by stopping its growth earlier.\n",
        "Simpler Trees: Pre-pruning often results in smaller and simpler trees, which can be easier to interpret and understand.\n",
        "#Limitations of Pre-Pruning:\n",
        "\n",
        "Difficult to Choose Optimal Constraints: Selecting the appropriate constraints for pre-pruning can be challenging and may require experimentation.\n",
        "Potential for Underfitting: If the constraints are too restrictive, pre-pruning can lead to underfitting, where the tree is not complex enough to capture the underlying patterns in the data.\n",
        "In summary, pre-pruning is a valuable technique for controlling the complexity of decision trees and preventing overfitting. By setting appropriate constraints, it helps to create more robust and generalizable models. However, careful consideration is needed to choose the optimal constraints to avoid underfitting."
      ],
      "metadata": {
        "id": "khqzEEkNqQJq"
      }
    },
    {
      "cell_type": "markdown",
      "source": [
        "#9.What is the Post-Pruning In Decision Trees?"
      ],
      "metadata": {
        "id": "5uLw4UzgqfUa"
      }
    },
    {
      "cell_type": "markdown",
      "source": [
        "#Post-Pruning\n",
        "\n",
        "Post-pruning, also known as backward pruning, is a technique used in decision tree learning to reduce overfitting by removing branches from a fully grown tree. It's done after the tree has been constructed, unlike pre-pruning, which stops tree growth early.\n",
        "\n",
        "How it works:\n",
        "\n",
        "Grow the Tree: The decision tree is first allowed to grow to its full depth and complexity, without any restrictions.\n",
        "Prune Branches: Starting from the bottom of the tree, branches are iteratively removed or replaced with leaf nodes if they do not significantly improve the model's performance on a validation dataset or based on statistical measures.\n",
        "Evaluation: The pruning process continues until further pruning starts to decrease the model's performance on the validation set.\n",
        "#Common Post-Pruning Techniques:\n",
        "\n",
        "Reduced Error Pruning: This technique replaces a subtree with a leaf node if it reduces the overall error rate on the validation set.\n",
        "Cost Complexity Pruning: This technique involves assigning a cost to each node based on its complexity and error rate. It then prunes the tree by removing nodes that have a high cost relative to their contribution to reducing error.\n",
        "Minimum Error Pruning: This technique removes subtrees that have a higher error rate than their parent node.\n",
        "#Benefits of Post-Pruning:\n",
        "\n",
        "Effective Overfitting Reduction: Post-pruning often results in more effective overfitting reduction compared to pre-pruning, as it considers the fully grown tree before making pruning decisions.\n",
        "Better Accuracy: By removing unnecessary branches, post-pruning can improve the tree's accuracy on unseen data.\n",
        "Increased Generalization: It helps create more generalizable decision tree models that perform well on a wider range of data.\n",
        "#Limitations of Post-Pruning:\n",
        "\n",
        "Computational Cost: Post-pruning can be computationally expensive, especially for large trees.\n",
        "Complexity: It can be more complex to implement compared to pre-pruning.\n",
        "In summary, post-pruning is a powerful technique for reducing overfitting and improving the generalization performance of decision trees. While it has some computational overhead, it often leads to more accurate and robust models compared to pre-pruning. Choosing between pre-pruning and post-pruning depends on the specific dataset and desired trade-offs between complexity, computational cost, and accuracy."
      ],
      "metadata": {
        "id": "3lzS_htGrw__"
      }
    },
    {
      "cell_type": "markdown",
      "source": [
        "#10.What is the Difference between Pre-Pruning and Post-Pruning ?"
      ],
      "metadata": {
        "id": "rhrZh4ZLr6ku"
      }
    },
    {
      "cell_type": "markdown",
      "source": [
        "Decision Trees:\n",
        "\n",
        "Both pre-pruning and post-pruning are techniques used to reduce overfitting in decision trees, but they differ in their approach and timing:\n",
        "\n",
        "#Pre-Pruning:\n",
        "\n",
        "Timing: Applied during the tree construction process.\n",
        "Approach: Stops the tree's growth early by setting constraints on tree size or node characteristics.\n",
        "Focus: Prevents the tree from becoming too complex in the first place.\n",
        "Advantages:\n",
        "Reduces overfitting.\n",
        "Improves efficiency by stopping tree growth earlier.\n",
        "Results in simpler, easier-to-interpret trees.\n",
        "\n",
        "Disadvantages:\n",
        "Difficult to choose optimal constraints.\n",
        "Can lead to underfitting if constraints are too restrictive.\n",
        "#Post-Pruning:\n",
        "\n",
        "Timing: Applied after the tree has been fully grown.\n",
        "Approach: Removes branches from the fully grown tree that do not significantly improve performance on a validation set.\n",
        "Focus: Reduces complexity by selectively removing unnecessary parts of the tree.\n",
        "\n",
        "Advantages:\n",
        "More effective overfitting reduction as it considers the fully grown tree.\n",
        "Can improve accuracy on unseen data.\n",
        "Increases generalization performance.\n",
        "Disadvantages:\n",
        "Computationally expensive, especially for large trees.\n",
        "More complex to implement compared to pre-pruning.\n",
        "\n",
        "Key Differences Summarized:\n",
        "\n",
        "    Feature\t  Pre-Pruning\t              Post-Pruning\n",
        "   \n",
        "    Timing\tDuring tree construction\tAfter tree construction\n",
        "\n",
        "    Approach\tStops tree growth early\tRemoves branches from fully grown tree\n",
        "    \n",
        "    Focus\t Prevents complexity\t      Reduces complexity\n",
        "\n",
        "    Overfitting  Reduction\tLess effective\tMore effective\n",
        "    \n",
        "    Computational Cost\tLower\t        Higher\n",
        "\n",
        "    Complexity\tSimpler\t              More complex\n",
        "\n",
        " Choosing between Pre-Pruning and Post-Pruning:\n",
        "\n",
        "The choice between pre-pruning and post-pruning depends on the specific dataset, computational resources, and desired trade-offs between complexity, accuracy, and efficiency.\n",
        "\n",
        "If computational resources are limited or a simpler tree is desired, pre-pruning might be preferred.\n",
        "If maximizing accuracy and generalization performance is the primary goal, post-pruning is often a better choice, despite its higher computational cost.\n",
        "In many cases, a combination of both techniques might be used to achieve the best results."
      ],
      "metadata": {
        "id": "36SirpByslI3"
      }
    },
    {
      "cell_type": "markdown",
      "source": [
        "#11.What is a Decision Tree Regressor?"
      ],
      "metadata": {
        "id": "IZcEIu8Yt0R1"
      }
    },
    {
      "cell_type": "markdown",
      "source": [
        "A Decision Tree Regressor is a type of decision tree algorithm used for solving regression problems, where the target variable is continuous rather than categorical. It works by partitioning the data into smaller subsets and fitting a simple model (typically a constant value) to each subset. The predictions are made by traversing the tree based on the input features and arriving at a leaf node, which represents the predicted value.\n",
        "\n",
        "Here's a breakdown of how it works:\n",
        "\n",
        "Tree Construction: Similar to classification trees, the regressor tree is built by recursively splitting the data based on features that best separate the target variable into distinct ranges. However, instead of using impurity measures like Gini impurity or entropy, regression trees use metrics like mean squared error (MSE) or mean absolute error (MAE) to evaluate the quality of a split.\n",
        "\n",
        "Leaf Node Prediction: In a regression tree, the leaf nodes represent a predicted value for the target variable. This value is typically the average or median of the target values of the data points that fall into that leaf node.\n",
        "\n",
        "Prediction for New Data: To predict the target variable for a new data point, the algorithm traverses the tree based on the values of the input features until it reaches a leaf node. The predicted value for the new data point is then the value associated with that leaf node.\n",
        "\n",
        "Example:\n",
        "\n",
        "Imagine you want to predict the price of a house based on features like size, location, and number of bedrooms. A decision tree regressor might create a tree where:\n",
        "\n",
        "The root node splits the data based on the size of the house.\n",
        "Subsequent nodes might split based on location or number of bedrooms.\n",
        "The leaf nodes would represent the predicted price of the house for data points that fall into that specific range of features.\n",
        "\n",
        "#Advantages of Decision Tree Regressors:\n",
        "\n",
        "Easy to understand and interpret.\n",
        "Can handle both numerical and categorical features.\n",
        "Non-parametric, meaning they don't make assumptions about the data distribution.\n",
        "Can capture non-linear relationships between features and the target variable.\n",
        "#Disadvantages of Decision Tree Regressors:\n",
        "\n",
        "Prone to overfitting if not pruned properly.\n",
        "Can be sensitive to small changes in the data.\n",
        "May not perform well on datasets with complex interactions between features.\n",
        "In summary, a Decision Tree Regressor is a powerful algorithm for solving regression problems. It works by partitioning the data into subsets and fitting a simple model to each subset. While it has some limitations, it's often a good choice for its interpretability and ability to handle different types of data."
      ],
      "metadata": {
        "id": "phEOelLuvEJa"
      }
    },
    {
      "cell_type": "markdown",
      "source": [
        "#12.What are the advantages and disadvantages of Decision Trees?"
      ],
      "metadata": {
        "id": "aTDrorICv8o3"
      }
    },
    {
      "cell_type": "markdown",
      "source": [
        "#Advantages of Decision Trees:\n",
        "\n",
        "Easy to Understand and Interpret: Decision trees are easy to understand and visualize, even for people without a strong technical background. The tree structure clearly shows the decision-making process, making it transparent and interpretable.\n",
        "\n",
        "Handles Both Numerical and Categorical Data: Decision trees can handle both numerical and categorical data without requiring extensive data preprocessing. This flexibility makes them applicable to a wide range of datasets.\n",
        "\n",
        "Non-parametric: Decision trees are non-parametric models, meaning they don't make assumptions about the underlying data distribution. This makes them robust to outliers and data with non-linear relationships.\n",
        "\n",
        "Feature Selection: Decision trees can be used for feature selection by identifying the most important attributes for splitting the data. This can help in understanding the data and reducing dimensionality.\n",
        "\n",
        "Requires Little Data Preparation: Compared to some other algorithms, decision trees require relatively little data preparation. They can handle missing values and don't require feature scaling.\n",
        "\n",
        "#Disadvantages of Decision Trees:\n",
        "\n",
        "Prone to Overfitting: Decision trees can easily overfit the training data, especially when they are deep and complex. This can lead to poor generalization performance on unseen data. Techniques like pruning and using ensemble methods can help mitigate overfitting.\n",
        "\n",
        "Instability: Decision trees can be unstable, meaning small changes in the data can lead to significant changes in the tree structure. This can make them less reliable in certain applications.\n",
        "\n",
        "Limited on Complex Relationships: Decision trees may not perform well on datasets with complex interactions between features. They tend to create rectangular decision boundaries, which may not be suitable for capturing intricate patterns.\n",
        "\n",
        "Bias Towards Dominant Classes: In classification problems with imbalanced datasets, decision trees can be biased towards the dominant classes. Techniques like using weighted samples or adjusting the splitting criteria can help address this issue.\n",
        "\n",
        "Computational Cost: Building and pruning large decision trees can be computationally expensive, especially for datasets with many features and instances."
      ],
      "metadata": {
        "id": "uYUroIiiwjzX"
      }
    },
    {
      "cell_type": "markdown",
      "source": [
        "#13.How does a Decision Tree handle missing values?"
      ],
      "metadata": {
        "id": "alY3U78zwoTd"
      }
    },
    {
      "cell_type": "markdown",
      "source": [
        "Decision trees have inherent mechanisms to handle missing values during both the tree construction and prediction phases. Here's a breakdown of the common approaches:\n",
        "\n",
        "#During Tree Construction:\n",
        "\n",
        "Ignoring Missing Values: The simplest approach is to ignore instances with missing values for the specific attribute being considered for a split. This can lead to a loss of information, but it's computationally efficient.\n",
        "\n",
        "Imputation: Missing values can be imputed (filled in) using various techniques, such as replacing them with the mean, median, or mode of the attribute. This allows all instances to be used for splitting, but it can introduce bias if the imputation is inaccurate.\n",
        "\n",
        "Surrogate Splits: This approach involves finding a surrogate attribute that is highly correlated with the attribute containing missing values. When an instance has a missing value for the primary attribute, the surrogate attribute is used to determine the split instead. This helps preserve information and avoid bias. This is the most common way decision trees handle missing data.\n",
        "\n",
        "#During Prediction:\n",
        "\n",
        "Following the Most Frequent Branch: If an instance encounters a missing value for an attribute during prediction, it can be directed down the branch that was most frequently taken by training instances with similar values for other attributes. This is a heuristic approach that may not always be accurate.\n",
        "\n",
        "Probabilistic Approach: A more sophisticated approach is to assign probabilities to each possible branch based on the distribution of training instances with missing values. The instance is then directed down each branch with the corresponding probability, and the final prediction is a weighted average of the predictions from all branches. This approach provides a more nuanced prediction that accounts for uncertainty.\n",
        "\n",
        "In summary, decision trees offer various ways to handle missing values, primarily using surrogate splits during training. The choice of approach depends on the specific dataset, the amount of missing data, and the desired trade-off between accuracy and computational efficiency.\n",
        "\n",
        "#Here are some additional points to consider:\n",
        "\n",
        "Decision tree algorithms like CART (Classification and Regression Trees) and C4.5 have built-in mechanisms for handling missing values, often using surrogate splits or probabilistic approaches.\n",
        "The effectiveness of different missing value handling techniques can vary depending on the dataset and the specific problem.\n",
        "It's generally recommended to experiment with different approaches and evaluate their performance on a validation set to choose the best strategy for your specific use case."
      ],
      "metadata": {
        "id": "q-heXff-xSQ1"
      }
    },
    {
      "cell_type": "markdown",
      "source": [
        "#14.How does a Decision Tree handle Categorical features ?"
      ],
      "metadata": {
        "id": "2-E71SvIxavc"
      }
    },
    {
      "cell_type": "markdown",
      "source": [
        "Decision trees can handle categorical features without requiring one-hot encoding. Here's how they do it:\n",
        "\n",
        "#During Tree Construction:\n",
        "\n",
        "Splitting on Categorical Features: When considering a categorical feature for a split, the decision tree algorithm evaluates all possible subsets of categories. For example, if a feature has categories {Red, Green, Blue}, the algorithm would consider splits like {Red} vs. {Green, Blue}, {Green} vs. {Red, Blue}, and {Blue} vs. {Red, Green}.\n",
        "\n",
        "Evaluating Splits: The algorithm uses impurity measures (e.g., Gini impurity, entropy) or information gain to evaluate the quality of each split. The split that results in the greatest reduction in impurity or the highest information gain is selected.\n",
        "\n",
        "Creating Branches: For the selected split, branches are created for each subset of categories. Each branch represents a specific combination of categories for the feature.\n",
        "#During Prediction:\n",
        "\n",
        "Traversing the Tree: When predicting for a new instance, the algorithm traverses the tree based on the values of the categorical features. At each node, it checks which branch corresponds to the instance's category for the feature being considered.\n",
        "\n",
        "Reaching a Leaf Node: The algorithm continues traversing the tree until it reaches a leaf node, which provides the prediction for the instance.\n",
        "\n",
        "Example:\n",
        "\n",
        "Let's say you have a dataset with a categorical feature \"Color\" (Red, Green, Blue) and a target variable \"Fruit\" (Apple, Orange).\n",
        "\n",
        "During tree construction, the algorithm might find that splitting on \"Color\" with the subsets {Red} vs. {Green, Blue} results in the highest information gain.\n",
        "\n",
        "This split would create two branches: one for instances with \"Color\" equal to \"Red\" and another for instances with \"Color\" equal to \"Green\" or \"Blue\".\n",
        "\n",
        "During prediction, if a new instance has \"Color\" equal to \"Red\", it would follow the corresponding branch and potentially reach a leaf node predicting \"Apple\".\n",
        "\n",
        "In summary, decision trees can effectively handle categorical features by considering all possible subsets of categories for splits and creating branches accordingly. This allows them to capture the relationships between categorical features and the target variable without the need for one-hot encoding.\n",
        "\n",
        "Here's an additional point to consider:\n",
        "\n",
        "Some decision tree implementations, like scikit-learn's DecisionTreeClassifier, might have limitations in directly handling categorical features with high cardinality (many unique categories). In such cases, it's often recommended to use techniques like ordinal encoding or target encoding to represent the categorical features."
      ],
      "metadata": {
        "id": "sAB1nL71x7EV"
      }
    },
    {
      "cell_type": "markdown",
      "source": [
        "#15.What are same real-world applications of Decision Trees?"
      ],
      "metadata": {
        "id": "Jv5goV9oyGYb"
      }
    },
    {
      "cell_type": "markdown",
      "source": [
        "Decision trees are versatile machine learning models used across various domains for their interpretability and ability to handle both numerical and categorical data. Here are some notable real-world applications:\n",
        "\n",
        "1. Customer Churn Prediction: Businesses use decision trees to predict which customers are likely to churn (cancel their subscriptions or services). By analyzing customer demographics, usage patterns, and interactions, decision trees can identify at-risk customers, enabling proactive retention strategies.\n",
        "\n",
        "2. Fraud Detection: Decision trees are employed in fraud detection systems to identify suspicious transactions. By learning patterns from historical data on fraudulent activities, decision trees can flag potentially fraudulent transactions for further investigation.\n",
        "\n",
        "3. Medical Diagnosis: Decision trees assist medical professionals in diagnosing diseases by analyzing patient symptoms, medical history, and test results. They can help identify potential conditions and recommend further tests or treatments.\n",
        "\n",
        "4. Credit Risk Assessment: Financial institutions utilize decision trees to assess the creditworthiness of loan applicants. By considering factors like income, credit history, and debt levels, decision trees can predict the likelihood of loan defaults, aiding in loan approval decisions.\n",
        "\n",
        "5. Marketing Campaign Optimization: Decision trees can segment customers based on their preferences and behaviors, allowing marketers to target specific groups with personalized campaigns. This can improve campaign effectiveness and return on investment.\n",
        "\n",
        "6. Image Classification: Decision trees are used in image classification tasks, such as identifying objects or scenes in images. They can learn patterns from image features to categorize images into different classes.\n",
        "\n",
        "7. Natural Language Processing: Decision trees can be applied in natural language processing tasks like sentiment analysis and text classification. They can analyze text data to determine the sentiment expressed or categorize text into different topics.\n",
        "\n",
        "These are just a few examples of the many real-world applications of decision trees. Their versatility and interpretability make them valuable tools for solving a wide range of problems across diverse industries. I hope this gives you a better understanding of their practical uses!"
      ],
      "metadata": {
        "id": "Tro1OJdHyqpc"
      }
    },
    {
      "cell_type": "markdown",
      "source": [
        "#Practical"
      ],
      "metadata": {
        "id": "43Qhxka3y0yj"
      }
    },
    {
      "cell_type": "markdown",
      "source": [
        "#16.Write a python program to train a Decision Tree Classifier on the iris dataset and print the model accuracy?"
      ],
      "metadata": {
        "id": "YYYUipYRy4kz"
      }
    },
    {
      "cell_type": "code",
      "source": [
        "from sklearn.datasets import load_iris\n",
        "from sklearn.model_selection import train_test_split\n",
        "from sklearn.tree import DecisionTreeClassifier\n",
        "from sklearn.metrics import accuracy_score\n",
        "\n",
        "# Load the iris dataset\n",
        "iris = load_iris()\n",
        "\n",
        "# Split the data into training and testing sets\n",
        "X_train, X_test, y_train, y_test = train_test_split(iris.data, iris.target, test_size=0.3, random_state=42)\n",
        "\n",
        "# Create a Decision Tree Classifier object\n",
        "clf = DecisionTreeClassifier()\n",
        "\n",
        "# Train the model using the training data\n",
        "clf.fit(X_train, y_train)\n",
        "\n",
        "# Make predictions on the testing data\n",
        "y_pred = clf.predict(X_test)\n",
        "\n",
        "# Calculate the accuracy of the model\n",
        "accuracy = accuracy_score(y_test, y_pred)\n",
        "\n",
        "# Print the accuracy\n",
        "print(\"Accuracy:\", accuracy)"
      ],
      "metadata": {
        "colab": {
          "base_uri": "https://localhost:8080/"
        },
        "id": "IWCD20Dgziti",
        "outputId": "df84bf07-36b3-4937-e6a5-214643450032"
      },
      "execution_count": null,
      "outputs": [
        {
          "output_type": "stream",
          "name": "stdout",
          "text": [
            "Accuracy: 1.0\n"
          ]
        }
      ]
    },
    {
      "cell_type": "markdown",
      "source": [
        "#17.Write a python program to train Decision Tree Classifier using Gini impurity as the criterion and print the feature importances."
      ],
      "metadata": {
        "id": "Q1fnmuTjzoa5"
      }
    },
    {
      "cell_type": "code",
      "source": [
        "from sklearn.datasets import load_iris\n",
        "from sklearn.model_selection import train_test_split\n",
        "from sklearn.tree import DecisionTreeClassifier\n",
        "\n",
        "# Load the iris dataset\n",
        "iris = load_iris()\n",
        "\n",
        "# Split the data into training and testing sets\n",
        "X_train, X_test, y_train, y_test = train_test_split(iris.data, iris.target, test_size=0.3, random_state=42)\n",
        "\n",
        "# Create a Decision Tree Classifier object with Gini impurity as the criterion\n",
        "clf = DecisionTreeClassifier(criterion='gini')\n",
        "\n",
        "# Train the model using the training data\n",
        "clf.fit(X_train, y_train)\n",
        "\n",
        "# Print the feature importances\n",
        "print(\"Feature Importances:\")\n",
        "for feature, importance in zip(iris.feature_names, clf.feature_importances_):\n",
        "    print(f\"{feature}: {importance}\")"
      ],
      "metadata": {
        "colab": {
          "base_uri": "https://localhost:8080/"
        },
        "id": "ipCik46D0VjQ",
        "outputId": "97d22396-4eae-4f6b-b6fd-9526ef9ade35"
      },
      "execution_count": null,
      "outputs": [
        {
          "output_type": "stream",
          "name": "stdout",
          "text": [
            "Feature Importances:\n",
            "sepal length (cm): 0.01911001911001911\n",
            "sepal width (cm): 0.01911001911001911\n",
            "petal length (cm): 0.5381637432635216\n",
            "petal width (cm): 0.42361621851644027\n"
          ]
        }
      ]
    },
    {
      "cell_type": "markdown",
      "source": [
        "#18.Write a python program to train a Decision Tree Classifier using Entropy as the splitting criterion and print the model accuracy."
      ],
      "metadata": {
        "id": "yO4OQg5W0Xux"
      }
    },
    {
      "cell_type": "code",
      "source": [
        "from sklearn.datasets import load_iris\n",
        "from sklearn.model_selection import train_test_split\n",
        "from sklearn.tree import DecisionTreeClassifier\n",
        "from sklearn.metrics import accuracy_score\n",
        "\n",
        "# Load the iris dataset\n",
        "iris = load_iris()\n",
        "\n",
        "# Split the data into training and testing sets\n",
        "X_train, X_test, y_train, y_test = train_test_split(iris.data, iris.target, test_size=0.3, random_state=42)\n",
        "\n",
        "# Create a Decision Tree Classifier object with Entropy as the criterion\n",
        "clf = DecisionTreeClassifier(criterion=\"entropy\")\n",
        "\n",
        "# Train the model using the training data\n",
        "clf.fit(X_train, y_train)\n",
        "\n",
        "# Make predictions on the testing data\n",
        "y_pred = clf.predict(X_test)\n",
        "\n",
        "# Calculate the accuracy of the model\n",
        "accuracy = accuracy_score(y_test, y_pred)\n",
        "\n",
        "# Print the accuracy\n",
        "print(\"Accuracy:\", accuracy)"
      ],
      "metadata": {
        "colab": {
          "base_uri": "https://localhost:8080/"
        },
        "id": "L30nN6rK1UIe",
        "outputId": "a91127d1-3c9b-4fec-baab-b86774fa6b49"
      },
      "execution_count": null,
      "outputs": [
        {
          "output_type": "stream",
          "name": "stdout",
          "text": [
            "Accuracy: 0.9777777777777777\n"
          ]
        }
      ]
    },
    {
      "cell_type": "markdown",
      "source": [
        "#19.Write a python program to train a Decision Tree Regressor on housing dataset and evaluate using Mean Squared Error (MSE) ."
      ],
      "metadata": {
        "id": "V5fSIwmU1YJl"
      }
    },
    {
      "cell_type": "code",
      "source": [
        "from sklearn.datasets import fetch_california_housing\n",
        "from sklearn.model_selection import train_test_split\n",
        "from sklearn.tree import DecisionTreeRegressor\n",
        "from sklearn.metrics import mean_squared_error\n",
        "\n",
        "# Load the California housing dataset\n",
        "housing = fetch_california_housing()\n",
        "X, y = housing.data, housing.target\n",
        "\n",
        "# Split the data into training and testing sets\n",
        "X_train, X_test, y_train, y_test = train_test_split(X, y, test_size=0.2, random_state=42)\n",
        "\n",
        "# Create a Decision Tree Regressor object\n",
        "regressor = DecisionTreeRegressor()\n",
        "\n",
        "# Train the model using the training data\n",
        "regressor.fit(X_train, y_train)\n",
        "\n",
        "# Make predictions on the testing data\n",
        "y_pred = regressor.predict(X_test)\n",
        "\n",
        "# Calculate the Mean Squared Error (MSE)\n",
        "mse = mean_squared_error(y_test, y_pred)\n",
        "\n",
        "# Print the MSE\n",
        "print(\"Mean Squared Error (MSE):\", mse)"
      ],
      "metadata": {
        "colab": {
          "base_uri": "https://localhost:8080/"
        },
        "id": "pEXdE5oF2i0N",
        "outputId": "f030821a-6d57-49d7-946c-aab6db2a09b4"
      },
      "execution_count": null,
      "outputs": [
        {
          "output_type": "stream",
          "name": "stdout",
          "text": [
            "Mean Squared Error (MSE): 0.5000749163024951\n"
          ]
        }
      ]
    },
    {
      "cell_type": "markdown",
      "source": [
        "#20.Write a python program to train a Decision Tree Classifier and Visualize the tree using graphviz."
      ],
      "metadata": {
        "id": "ChwzSbkf20tz"
      }
    },
    {
      "cell_type": "code",
      "source": [
        "from sklearn.datasets import load_iris\n",
        "from sklearn.model_selection import train_test_split\n",
        "from sklearn.tree import DecisionTreeClassifier, export_graphviz\n",
        "import graphviz\n",
        "\n",
        "# Load the iris dataset\n",
        "iris = load_iris()\n",
        "\n",
        "# Split the data into training and testing sets\n",
        "X_train, X_test, y_train, y_test = train_test_split(iris.data, iris.target, test_size=0.3, random_state=42)\n",
        "\n",
        "# Create a Decision Tree Classifier object\n",
        "clf = DecisionTreeClassifier()\n",
        "\n",
        "# Train the model using the training data\n",
        "clf.fit(X_train, y_train)\n",
        "\n",
        "# Export the decision tree to a DOT file\n",
        "dot_data = export_graphviz(clf, out_file=None,\n",
        "                         feature_names=iris.feature_names,\n",
        "                         class_names=iris.target_names,\n",
        "                         filled=True, rounded=True,\n",
        "                         special_characters=True)\n",
        "\n",
        "# Create a graphviz object from the DOT data\n",
        "graph = graphviz.Source(dot_data)\n",
        "\n",
        "# Render the graph to a file or display it inline\n",
        "graph.render(\"iris_decision_tree\")  # Save as PDF\n",
        "graph # Display in Colab"
      ],
      "metadata": {
        "colab": {
          "base_uri": "https://localhost:8080/",
          "height": 916
        },
        "id": "4Y-ZBGBW3jFD",
        "outputId": "2c9ebee0-5050-472a-f573-10010cbd678b"
      },
      "execution_count": null,
      "outputs": [
        {
          "output_type": "execute_result",
          "data": {
            "image/svg+xml": "<?xml version=\"1.0\" encoding=\"UTF-8\" standalone=\"no\"?>\n<!DOCTYPE svg PUBLIC \"-//W3C//DTD SVG 1.1//EN\"\n \"http://www.w3.org/Graphics/SVG/1.1/DTD/svg11.dtd\">\n<!-- Generated by graphviz version 2.43.0 (0)\n -->\n<!-- Title: Tree Pages: 1 -->\n<svg width=\"852pt\" height=\"671pt\"\n viewBox=\"0.00 0.00 852.00 671.00\" xmlns=\"http://www.w3.org/2000/svg\" xmlns:xlink=\"http://www.w3.org/1999/xlink\">\n<g id=\"graph0\" class=\"graph\" transform=\"scale(1 1) rotate(0) translate(4 667)\">\n<title>Tree</title>\n<polygon fill=\"white\" stroke=\"transparent\" points=\"-4,4 -4,-667 848,-667 848,4 -4,4\"/>\n<!-- 0 -->\n<g id=\"node1\" class=\"node\">\n<title>0</title>\n<path fill=\"#ffffff\" stroke=\"black\" d=\"M506.5,-663C506.5,-663 384.5,-663 384.5,-663 378.5,-663 372.5,-657 372.5,-651 372.5,-651 372.5,-592 372.5,-592 372.5,-586 378.5,-580 384.5,-580 384.5,-580 506.5,-580 506.5,-580 512.5,-580 518.5,-586 518.5,-592 518.5,-592 518.5,-651 518.5,-651 518.5,-657 512.5,-663 506.5,-663\"/>\n<text text-anchor=\"start\" x=\"380.5\" y=\"-647.8\" font-family=\"Helvetica,sans-Serif\" font-size=\"14.00\">petal width (cm) ≤ 0.8</text>\n<text text-anchor=\"start\" x=\"410\" y=\"-632.8\" font-family=\"Helvetica,sans-Serif\" font-size=\"14.00\">gini = 0.664</text>\n<text text-anchor=\"start\" x=\"400.5\" y=\"-617.8\" font-family=\"Helvetica,sans-Serif\" font-size=\"14.00\">samples = 105</text>\n<text text-anchor=\"start\" x=\"387.5\" y=\"-602.8\" font-family=\"Helvetica,sans-Serif\" font-size=\"14.00\">value = [31, 37, 37]</text>\n<text text-anchor=\"start\" x=\"393\" y=\"-587.8\" font-family=\"Helvetica,sans-Serif\" font-size=\"14.00\">class = versicolor</text>\n</g>\n<!-- 1 -->\n<g id=\"node2\" class=\"node\">\n<title>1</title>\n<path fill=\"#e58139\" stroke=\"black\" d=\"M415,-536.5C415,-536.5 322,-536.5 322,-536.5 316,-536.5 310,-530.5 310,-524.5 310,-524.5 310,-480.5 310,-480.5 310,-474.5 316,-468.5 322,-468.5 322,-468.5 415,-468.5 415,-468.5 421,-468.5 427,-474.5 427,-480.5 427,-480.5 427,-524.5 427,-524.5 427,-530.5 421,-536.5 415,-536.5\"/>\n<text text-anchor=\"start\" x=\"340.5\" y=\"-521.3\" font-family=\"Helvetica,sans-Serif\" font-size=\"14.00\">gini = 0.0</text>\n<text text-anchor=\"start\" x=\"327.5\" y=\"-506.3\" font-family=\"Helvetica,sans-Serif\" font-size=\"14.00\">samples = 31</text>\n<text text-anchor=\"start\" x=\"318\" y=\"-491.3\" font-family=\"Helvetica,sans-Serif\" font-size=\"14.00\">value = [31, 0, 0]</text>\n<text text-anchor=\"start\" x=\"325\" y=\"-476.3\" font-family=\"Helvetica,sans-Serif\" font-size=\"14.00\">class = setosa</text>\n</g>\n<!-- 0&#45;&gt;1 -->\n<g id=\"edge1\" class=\"edge\">\n<title>0&#45;&gt;1</title>\n<path fill=\"none\" stroke=\"black\" d=\"M418.79,-579.91C411.38,-568.65 403.33,-556.42 395.88,-545.11\"/>\n<polygon fill=\"black\" stroke=\"black\" points=\"398.75,-543.1 390.33,-536.67 392.9,-546.94 398.75,-543.1\"/>\n<text text-anchor=\"middle\" x=\"385.28\" y=\"-557.45\" font-family=\"Helvetica,sans-Serif\" font-size=\"14.00\">True</text>\n</g>\n<!-- 2 -->\n<g id=\"node3\" class=\"node\">\n<title>2</title>\n<path fill=\"#ffffff\" stroke=\"black\" d=\"M587.5,-544C587.5,-544 457.5,-544 457.5,-544 451.5,-544 445.5,-538 445.5,-532 445.5,-532 445.5,-473 445.5,-473 445.5,-467 451.5,-461 457.5,-461 457.5,-461 587.5,-461 587.5,-461 593.5,-461 599.5,-467 599.5,-473 599.5,-473 599.5,-532 599.5,-532 599.5,-538 593.5,-544 587.5,-544\"/>\n<text text-anchor=\"start\" x=\"453.5\" y=\"-528.8\" font-family=\"Helvetica,sans-Serif\" font-size=\"14.00\">petal width (cm) ≤ 1.75</text>\n<text text-anchor=\"start\" x=\"494.5\" y=\"-513.8\" font-family=\"Helvetica,sans-Serif\" font-size=\"14.00\">gini = 0.5</text>\n<text text-anchor=\"start\" x=\"481.5\" y=\"-498.8\" font-family=\"Helvetica,sans-Serif\" font-size=\"14.00\">samples = 74</text>\n<text text-anchor=\"start\" x=\"468\" y=\"-483.8\" font-family=\"Helvetica,sans-Serif\" font-size=\"14.00\">value = [0, 37, 37]</text>\n<text text-anchor=\"start\" x=\"470\" y=\"-468.8\" font-family=\"Helvetica,sans-Serif\" font-size=\"14.00\">class = versicolor</text>\n</g>\n<!-- 0&#45;&gt;2 -->\n<g id=\"edge2\" class=\"edge\">\n<title>0&#45;&gt;2</title>\n<path fill=\"none\" stroke=\"black\" d=\"M472.21,-579.91C478.01,-571.1 484.2,-561.7 490.18,-552.61\"/>\n<polygon fill=\"black\" stroke=\"black\" points=\"493.26,-554.3 495.83,-544.02 487.41,-550.45 493.26,-554.3\"/>\n<text text-anchor=\"middle\" x=\"500.88\" y=\"-564.81\" font-family=\"Helvetica,sans-Serif\" font-size=\"14.00\">False</text>\n</g>\n<!-- 3 -->\n<g id=\"node4\" class=\"node\">\n<title>3</title>\n<path fill=\"#54e992\" stroke=\"black\" d=\"M478,-425C478,-425 343,-425 343,-425 337,-425 331,-419 331,-413 331,-413 331,-354 331,-354 331,-348 337,-342 343,-342 343,-342 478,-342 478,-342 484,-342 490,-348 490,-354 490,-354 490,-413 490,-413 490,-419 484,-425 478,-425\"/>\n<text text-anchor=\"start\" x=\"339\" y=\"-409.8\" font-family=\"Helvetica,sans-Serif\" font-size=\"14.00\">petal length (cm) ≤ 4.95</text>\n<text text-anchor=\"start\" x=\"375\" y=\"-394.8\" font-family=\"Helvetica,sans-Serif\" font-size=\"14.00\">gini = 0.214</text>\n<text text-anchor=\"start\" x=\"369.5\" y=\"-379.8\" font-family=\"Helvetica,sans-Serif\" font-size=\"14.00\">samples = 41</text>\n<text text-anchor=\"start\" x=\"360\" y=\"-364.8\" font-family=\"Helvetica,sans-Serif\" font-size=\"14.00\">value = [0, 36, 5]</text>\n<text text-anchor=\"start\" x=\"358\" y=\"-349.8\" font-family=\"Helvetica,sans-Serif\" font-size=\"14.00\">class = versicolor</text>\n</g>\n<!-- 2&#45;&gt;3 -->\n<g id=\"edge3\" class=\"edge\">\n<title>2&#45;&gt;3</title>\n<path fill=\"none\" stroke=\"black\" d=\"M483.64,-460.91C474.87,-451.74 465.47,-441.93 456.44,-432.49\"/>\n<polygon fill=\"black\" stroke=\"black\" points=\"458.73,-429.82 449.29,-425.02 453.68,-434.66 458.73,-429.82\"/>\n</g>\n<!-- 12 -->\n<g id=\"node13\" class=\"node\">\n<title>12</title>\n<path fill=\"#853fe6\" stroke=\"black\" d=\"M702,-425C702,-425 567,-425 567,-425 561,-425 555,-419 555,-413 555,-413 555,-354 555,-354 555,-348 561,-342 567,-342 567,-342 702,-342 702,-342 708,-342 714,-348 714,-354 714,-354 714,-413 714,-413 714,-419 708,-425 702,-425\"/>\n<text text-anchor=\"start\" x=\"563\" y=\"-409.8\" font-family=\"Helvetica,sans-Serif\" font-size=\"14.00\">petal length (cm) ≤ 4.85</text>\n<text text-anchor=\"start\" x=\"599\" y=\"-394.8\" font-family=\"Helvetica,sans-Serif\" font-size=\"14.00\">gini = 0.059</text>\n<text text-anchor=\"start\" x=\"593.5\" y=\"-379.8\" font-family=\"Helvetica,sans-Serif\" font-size=\"14.00\">samples = 33</text>\n<text text-anchor=\"start\" x=\"584\" y=\"-364.8\" font-family=\"Helvetica,sans-Serif\" font-size=\"14.00\">value = [0, 1, 32]</text>\n<text text-anchor=\"start\" x=\"586\" y=\"-349.8\" font-family=\"Helvetica,sans-Serif\" font-size=\"14.00\">class = virginica</text>\n</g>\n<!-- 2&#45;&gt;12 -->\n<g id=\"edge12\" class=\"edge\">\n<title>2&#45;&gt;12</title>\n<path fill=\"none\" stroke=\"black\" d=\"M561.36,-460.91C570.13,-451.74 579.53,-441.93 588.56,-432.49\"/>\n<polygon fill=\"black\" stroke=\"black\" points=\"591.32,-434.66 595.71,-425.02 586.27,-429.82 591.32,-434.66\"/>\n</g>\n<!-- 4 -->\n<g id=\"node5\" class=\"node\">\n<title>4</title>\n<path fill=\"#3fe685\" stroke=\"black\" d=\"M256.5,-306C256.5,-306 134.5,-306 134.5,-306 128.5,-306 122.5,-300 122.5,-294 122.5,-294 122.5,-235 122.5,-235 122.5,-229 128.5,-223 134.5,-223 134.5,-223 256.5,-223 256.5,-223 262.5,-223 268.5,-229 268.5,-235 268.5,-235 268.5,-294 268.5,-294 268.5,-300 262.5,-306 256.5,-306\"/>\n<text text-anchor=\"start\" x=\"130.5\" y=\"-290.8\" font-family=\"Helvetica,sans-Serif\" font-size=\"14.00\">petal width (cm) ≤ 1.6</text>\n<text text-anchor=\"start\" x=\"160\" y=\"-275.8\" font-family=\"Helvetica,sans-Serif\" font-size=\"14.00\">gini = 0.056</text>\n<text text-anchor=\"start\" x=\"154.5\" y=\"-260.8\" font-family=\"Helvetica,sans-Serif\" font-size=\"14.00\">samples = 35</text>\n<text text-anchor=\"start\" x=\"145\" y=\"-245.8\" font-family=\"Helvetica,sans-Serif\" font-size=\"14.00\">value = [0, 34, 1]</text>\n<text text-anchor=\"start\" x=\"143\" y=\"-230.8\" font-family=\"Helvetica,sans-Serif\" font-size=\"14.00\">class = versicolor</text>\n</g>\n<!-- 3&#45;&gt;4 -->\n<g id=\"edge4\" class=\"edge\">\n<title>3&#45;&gt;4</title>\n<path fill=\"none\" stroke=\"black\" d=\"M335.91,-341.91C317.06,-331.65 296.72,-320.58 277.53,-310.14\"/>\n<polygon fill=\"black\" stroke=\"black\" points=\"278.97,-306.94 268.51,-305.23 275.62,-313.09 278.97,-306.94\"/>\n</g>\n<!-- 7 -->\n<g id=\"node8\" class=\"node\">\n<title>7</title>\n<path fill=\"#c09cf2\" stroke=\"black\" d=\"M475.5,-306C475.5,-306 345.5,-306 345.5,-306 339.5,-306 333.5,-300 333.5,-294 333.5,-294 333.5,-235 333.5,-235 333.5,-229 339.5,-223 345.5,-223 345.5,-223 475.5,-223 475.5,-223 481.5,-223 487.5,-229 487.5,-235 487.5,-235 487.5,-294 487.5,-294 487.5,-300 481.5,-306 475.5,-306\"/>\n<text text-anchor=\"start\" x=\"341.5\" y=\"-290.8\" font-family=\"Helvetica,sans-Serif\" font-size=\"14.00\">petal width (cm) ≤ 1.55</text>\n<text text-anchor=\"start\" x=\"375\" y=\"-275.8\" font-family=\"Helvetica,sans-Serif\" font-size=\"14.00\">gini = 0.444</text>\n<text text-anchor=\"start\" x=\"373\" y=\"-260.8\" font-family=\"Helvetica,sans-Serif\" font-size=\"14.00\">samples = 6</text>\n<text text-anchor=\"start\" x=\"363.5\" y=\"-245.8\" font-family=\"Helvetica,sans-Serif\" font-size=\"14.00\">value = [0, 2, 4]</text>\n<text text-anchor=\"start\" x=\"362\" y=\"-230.8\" font-family=\"Helvetica,sans-Serif\" font-size=\"14.00\">class = virginica</text>\n</g>\n<!-- 3&#45;&gt;7 -->\n<g id=\"edge7\" class=\"edge\">\n<title>3&#45;&gt;7</title>\n<path fill=\"none\" stroke=\"black\" d=\"M410.5,-341.91C410.5,-333.65 410.5,-324.86 410.5,-316.3\"/>\n<polygon fill=\"black\" stroke=\"black\" points=\"414,-316.02 410.5,-306.02 407,-316.02 414,-316.02\"/>\n</g>\n<!-- 5 -->\n<g id=\"node6\" class=\"node\">\n<title>5</title>\n<path fill=\"#39e581\" stroke=\"black\" d=\"M109,-179.5C109,-179.5 12,-179.5 12,-179.5 6,-179.5 0,-173.5 0,-167.5 0,-167.5 0,-123.5 0,-123.5 0,-117.5 6,-111.5 12,-111.5 12,-111.5 109,-111.5 109,-111.5 115,-111.5 121,-117.5 121,-123.5 121,-123.5 121,-167.5 121,-167.5 121,-173.5 115,-179.5 109,-179.5\"/>\n<text text-anchor=\"start\" x=\"32.5\" y=\"-164.3\" font-family=\"Helvetica,sans-Serif\" font-size=\"14.00\">gini = 0.0</text>\n<text text-anchor=\"start\" x=\"19.5\" y=\"-149.3\" font-family=\"Helvetica,sans-Serif\" font-size=\"14.00\">samples = 34</text>\n<text text-anchor=\"start\" x=\"10\" y=\"-134.3\" font-family=\"Helvetica,sans-Serif\" font-size=\"14.00\">value = [0, 34, 0]</text>\n<text text-anchor=\"start\" x=\"8\" y=\"-119.3\" font-family=\"Helvetica,sans-Serif\" font-size=\"14.00\">class = versicolor</text>\n</g>\n<!-- 4&#45;&gt;5 -->\n<g id=\"edge5\" class=\"edge\">\n<title>4&#45;&gt;5</title>\n<path fill=\"none\" stroke=\"black\" d=\"M148.66,-222.91C135.04,-211.1 120.17,-198.22 106.6,-186.45\"/>\n<polygon fill=\"black\" stroke=\"black\" points=\"108.62,-183.57 98.77,-179.67 104.03,-188.86 108.62,-183.57\"/>\n</g>\n<!-- 6 -->\n<g id=\"node7\" class=\"node\">\n<title>6</title>\n<path fill=\"#8139e5\" stroke=\"black\" d=\"M240,-179.5C240,-179.5 151,-179.5 151,-179.5 145,-179.5 139,-173.5 139,-167.5 139,-167.5 139,-123.5 139,-123.5 139,-117.5 145,-111.5 151,-111.5 151,-111.5 240,-111.5 240,-111.5 246,-111.5 252,-117.5 252,-123.5 252,-123.5 252,-167.5 252,-167.5 252,-173.5 246,-179.5 240,-179.5\"/>\n<text text-anchor=\"start\" x=\"167.5\" y=\"-164.3\" font-family=\"Helvetica,sans-Serif\" font-size=\"14.00\">gini = 0.0</text>\n<text text-anchor=\"start\" x=\"158\" y=\"-149.3\" font-family=\"Helvetica,sans-Serif\" font-size=\"14.00\">samples = 1</text>\n<text text-anchor=\"start\" x=\"148.5\" y=\"-134.3\" font-family=\"Helvetica,sans-Serif\" font-size=\"14.00\">value = [0, 0, 1]</text>\n<text text-anchor=\"start\" x=\"147\" y=\"-119.3\" font-family=\"Helvetica,sans-Serif\" font-size=\"14.00\">class = virginica</text>\n</g>\n<!-- 4&#45;&gt;6 -->\n<g id=\"edge6\" class=\"edge\">\n<title>4&#45;&gt;6</title>\n<path fill=\"none\" stroke=\"black\" d=\"M195.5,-222.91C195.5,-212.2 195.5,-200.62 195.5,-189.78\"/>\n<polygon fill=\"black\" stroke=\"black\" points=\"199,-189.67 195.5,-179.67 192,-189.67 199,-189.67\"/>\n</g>\n<!-- 8 -->\n<g id=\"node9\" class=\"node\">\n<title>8</title>\n<path fill=\"#8139e5\" stroke=\"black\" d=\"M371,-179.5C371,-179.5 282,-179.5 282,-179.5 276,-179.5 270,-173.5 270,-167.5 270,-167.5 270,-123.5 270,-123.5 270,-117.5 276,-111.5 282,-111.5 282,-111.5 371,-111.5 371,-111.5 377,-111.5 383,-117.5 383,-123.5 383,-123.5 383,-167.5 383,-167.5 383,-173.5 377,-179.5 371,-179.5\"/>\n<text text-anchor=\"start\" x=\"298.5\" y=\"-164.3\" font-family=\"Helvetica,sans-Serif\" font-size=\"14.00\">gini = 0.0</text>\n<text text-anchor=\"start\" x=\"289\" y=\"-149.3\" font-family=\"Helvetica,sans-Serif\" font-size=\"14.00\">samples = 3</text>\n<text text-anchor=\"start\" x=\"279.5\" y=\"-134.3\" font-family=\"Helvetica,sans-Serif\" font-size=\"14.00\">value = [0, 0, 3]</text>\n<text text-anchor=\"start\" x=\"278\" y=\"-119.3\" font-family=\"Helvetica,sans-Serif\" font-size=\"14.00\">class = virginica</text>\n</g>\n<!-- 7&#45;&gt;8 -->\n<g id=\"edge8\" class=\"edge\">\n<title>7&#45;&gt;8</title>\n<path fill=\"none\" stroke=\"black\" d=\"M381.36,-222.91C373.28,-211.65 364.49,-199.42 356.37,-188.11\"/>\n<polygon fill=\"black\" stroke=\"black\" points=\"358.99,-185.75 350.31,-179.67 353.3,-189.83 358.99,-185.75\"/>\n</g>\n<!-- 9 -->\n<g id=\"node10\" class=\"node\">\n<title>9</title>\n<path fill=\"#9cf2c0\" stroke=\"black\" d=\"M548,-187C548,-187 413,-187 413,-187 407,-187 401,-181 401,-175 401,-175 401,-116 401,-116 401,-110 407,-104 413,-104 413,-104 548,-104 548,-104 554,-104 560,-110 560,-116 560,-116 560,-175 560,-175 560,-181 554,-187 548,-187\"/>\n<text text-anchor=\"start\" x=\"409\" y=\"-171.8\" font-family=\"Helvetica,sans-Serif\" font-size=\"14.00\">petal length (cm) ≤ 5.45</text>\n<text text-anchor=\"start\" x=\"445\" y=\"-156.8\" font-family=\"Helvetica,sans-Serif\" font-size=\"14.00\">gini = 0.444</text>\n<text text-anchor=\"start\" x=\"443\" y=\"-141.8\" font-family=\"Helvetica,sans-Serif\" font-size=\"14.00\">samples = 3</text>\n<text text-anchor=\"start\" x=\"433.5\" y=\"-126.8\" font-family=\"Helvetica,sans-Serif\" font-size=\"14.00\">value = [0, 2, 1]</text>\n<text text-anchor=\"start\" x=\"428\" y=\"-111.8\" font-family=\"Helvetica,sans-Serif\" font-size=\"14.00\">class = versicolor</text>\n</g>\n<!-- 7&#45;&gt;9 -->\n<g id=\"edge9\" class=\"edge\">\n<title>7&#45;&gt;9</title>\n<path fill=\"none\" stroke=\"black\" d=\"M434.79,-222.91C440.05,-214.1 445.68,-204.7 451.12,-195.61\"/>\n<polygon fill=\"black\" stroke=\"black\" points=\"454.13,-197.4 456.26,-187.02 448.12,-193.81 454.13,-197.4\"/>\n</g>\n<!-- 10 -->\n<g id=\"node11\" class=\"node\">\n<title>10</title>\n<path fill=\"#39e581\" stroke=\"black\" d=\"M461,-68C461,-68 364,-68 364,-68 358,-68 352,-62 352,-56 352,-56 352,-12 352,-12 352,-6 358,0 364,0 364,0 461,0 461,0 467,0 473,-6 473,-12 473,-12 473,-56 473,-56 473,-62 467,-68 461,-68\"/>\n<text text-anchor=\"start\" x=\"384.5\" y=\"-52.8\" font-family=\"Helvetica,sans-Serif\" font-size=\"14.00\">gini = 0.0</text>\n<text text-anchor=\"start\" x=\"375\" y=\"-37.8\" font-family=\"Helvetica,sans-Serif\" font-size=\"14.00\">samples = 2</text>\n<text text-anchor=\"start\" x=\"365.5\" y=\"-22.8\" font-family=\"Helvetica,sans-Serif\" font-size=\"14.00\">value = [0, 2, 0]</text>\n<text text-anchor=\"start\" x=\"360\" y=\"-7.8\" font-family=\"Helvetica,sans-Serif\" font-size=\"14.00\">class = versicolor</text>\n</g>\n<!-- 9&#45;&gt;10 -->\n<g id=\"edge10\" class=\"edge\">\n<title>9&#45;&gt;10</title>\n<path fill=\"none\" stroke=\"black\" d=\"M455.18,-103.73C449.74,-94.97 443.99,-85.7 438.52,-76.91\"/>\n<polygon fill=\"black\" stroke=\"black\" points=\"441.43,-74.95 433.18,-68.3 435.48,-78.64 441.43,-74.95\"/>\n</g>\n<!-- 11 -->\n<g id=\"node12\" class=\"node\">\n<title>11</title>\n<path fill=\"#8139e5\" stroke=\"black\" d=\"M592,-68C592,-68 503,-68 503,-68 497,-68 491,-62 491,-56 491,-56 491,-12 491,-12 491,-6 497,0 503,0 503,0 592,0 592,0 598,0 604,-6 604,-12 604,-12 604,-56 604,-56 604,-62 598,-68 592,-68\"/>\n<text text-anchor=\"start\" x=\"519.5\" y=\"-52.8\" font-family=\"Helvetica,sans-Serif\" font-size=\"14.00\">gini = 0.0</text>\n<text text-anchor=\"start\" x=\"510\" y=\"-37.8\" font-family=\"Helvetica,sans-Serif\" font-size=\"14.00\">samples = 1</text>\n<text text-anchor=\"start\" x=\"500.5\" y=\"-22.8\" font-family=\"Helvetica,sans-Serif\" font-size=\"14.00\">value = [0, 0, 1]</text>\n<text text-anchor=\"start\" x=\"499\" y=\"-7.8\" font-family=\"Helvetica,sans-Serif\" font-size=\"14.00\">class = virginica</text>\n</g>\n<!-- 9&#45;&gt;11 -->\n<g id=\"edge11\" class=\"edge\">\n<title>9&#45;&gt;11</title>\n<path fill=\"none\" stroke=\"black\" d=\"M505.45,-103.73C510.81,-94.97 516.48,-85.7 521.86,-76.91\"/>\n<polygon fill=\"black\" stroke=\"black\" points=\"524.89,-78.66 527.12,-68.3 518.92,-75 524.89,-78.66\"/>\n</g>\n<!-- 13 -->\n<g id=\"node14\" class=\"node\">\n<title>13</title>\n<path fill=\"#c09cf2\" stroke=\"black\" d=\"M697,-306C697,-306 572,-306 572,-306 566,-306 560,-300 560,-294 560,-294 560,-235 560,-235 560,-229 566,-223 572,-223 572,-223 697,-223 697,-223 703,-223 709,-229 709,-235 709,-235 709,-294 709,-294 709,-300 703,-306 697,-306\"/>\n<text text-anchor=\"start\" x=\"568\" y=\"-290.8\" font-family=\"Helvetica,sans-Serif\" font-size=\"14.00\">sepal width (cm) ≤ 3.1</text>\n<text text-anchor=\"start\" x=\"599\" y=\"-275.8\" font-family=\"Helvetica,sans-Serif\" font-size=\"14.00\">gini = 0.444</text>\n<text text-anchor=\"start\" x=\"597\" y=\"-260.8\" font-family=\"Helvetica,sans-Serif\" font-size=\"14.00\">samples = 3</text>\n<text text-anchor=\"start\" x=\"587.5\" y=\"-245.8\" font-family=\"Helvetica,sans-Serif\" font-size=\"14.00\">value = [0, 1, 2]</text>\n<text text-anchor=\"start\" x=\"586\" y=\"-230.8\" font-family=\"Helvetica,sans-Serif\" font-size=\"14.00\">class = virginica</text>\n</g>\n<!-- 12&#45;&gt;13 -->\n<g id=\"edge13\" class=\"edge\">\n<title>12&#45;&gt;13</title>\n<path fill=\"none\" stroke=\"black\" d=\"M634.5,-341.91C634.5,-333.65 634.5,-324.86 634.5,-316.3\"/>\n<polygon fill=\"black\" stroke=\"black\" points=\"638,-316.02 634.5,-306.02 631,-316.02 638,-316.02\"/>\n</g>\n<!-- 16 -->\n<g id=\"node17\" class=\"node\">\n<title>16</title>\n<path fill=\"#8139e5\" stroke=\"black\" d=\"M832,-298.5C832,-298.5 739,-298.5 739,-298.5 733,-298.5 727,-292.5 727,-286.5 727,-286.5 727,-242.5 727,-242.5 727,-236.5 733,-230.5 739,-230.5 739,-230.5 832,-230.5 832,-230.5 838,-230.5 844,-236.5 844,-242.5 844,-242.5 844,-286.5 844,-286.5 844,-292.5 838,-298.5 832,-298.5\"/>\n<text text-anchor=\"start\" x=\"757.5\" y=\"-283.3\" font-family=\"Helvetica,sans-Serif\" font-size=\"14.00\">gini = 0.0</text>\n<text text-anchor=\"start\" x=\"744.5\" y=\"-268.3\" font-family=\"Helvetica,sans-Serif\" font-size=\"14.00\">samples = 30</text>\n<text text-anchor=\"start\" x=\"735\" y=\"-253.3\" font-family=\"Helvetica,sans-Serif\" font-size=\"14.00\">value = [0, 0, 30]</text>\n<text text-anchor=\"start\" x=\"737\" y=\"-238.3\" font-family=\"Helvetica,sans-Serif\" font-size=\"14.00\">class = virginica</text>\n</g>\n<!-- 12&#45;&gt;16 -->\n<g id=\"edge16\" class=\"edge\">\n<title>12&#45;&gt;16</title>\n<path fill=\"none\" stroke=\"black\" d=\"M686.89,-341.91C702.27,-329.99 719.07,-316.98 734.37,-305.12\"/>\n<polygon fill=\"black\" stroke=\"black\" points=\"736.93,-307.56 742.69,-298.67 732.65,-302.03 736.93,-307.56\"/>\n</g>\n<!-- 14 -->\n<g id=\"node15\" class=\"node\">\n<title>14</title>\n<path fill=\"#8139e5\" stroke=\"black\" d=\"M679,-179.5C679,-179.5 590,-179.5 590,-179.5 584,-179.5 578,-173.5 578,-167.5 578,-167.5 578,-123.5 578,-123.5 578,-117.5 584,-111.5 590,-111.5 590,-111.5 679,-111.5 679,-111.5 685,-111.5 691,-117.5 691,-123.5 691,-123.5 691,-167.5 691,-167.5 691,-173.5 685,-179.5 679,-179.5\"/>\n<text text-anchor=\"start\" x=\"606.5\" y=\"-164.3\" font-family=\"Helvetica,sans-Serif\" font-size=\"14.00\">gini = 0.0</text>\n<text text-anchor=\"start\" x=\"597\" y=\"-149.3\" font-family=\"Helvetica,sans-Serif\" font-size=\"14.00\">samples = 2</text>\n<text text-anchor=\"start\" x=\"587.5\" y=\"-134.3\" font-family=\"Helvetica,sans-Serif\" font-size=\"14.00\">value = [0, 0, 2]</text>\n<text text-anchor=\"start\" x=\"586\" y=\"-119.3\" font-family=\"Helvetica,sans-Serif\" font-size=\"14.00\">class = virginica</text>\n</g>\n<!-- 13&#45;&gt;14 -->\n<g id=\"edge14\" class=\"edge\">\n<title>13&#45;&gt;14</title>\n<path fill=\"none\" stroke=\"black\" d=\"M634.5,-222.91C634.5,-212.2 634.5,-200.62 634.5,-189.78\"/>\n<polygon fill=\"black\" stroke=\"black\" points=\"638,-189.67 634.5,-179.67 631,-189.67 638,-189.67\"/>\n</g>\n<!-- 15 -->\n<g id=\"node16\" class=\"node\">\n<title>15</title>\n<path fill=\"#39e581\" stroke=\"black\" d=\"M818,-179.5C818,-179.5 721,-179.5 721,-179.5 715,-179.5 709,-173.5 709,-167.5 709,-167.5 709,-123.5 709,-123.5 709,-117.5 715,-111.5 721,-111.5 721,-111.5 818,-111.5 818,-111.5 824,-111.5 830,-117.5 830,-123.5 830,-123.5 830,-167.5 830,-167.5 830,-173.5 824,-179.5 818,-179.5\"/>\n<text text-anchor=\"start\" x=\"741.5\" y=\"-164.3\" font-family=\"Helvetica,sans-Serif\" font-size=\"14.00\">gini = 0.0</text>\n<text text-anchor=\"start\" x=\"732\" y=\"-149.3\" font-family=\"Helvetica,sans-Serif\" font-size=\"14.00\">samples = 1</text>\n<text text-anchor=\"start\" x=\"722.5\" y=\"-134.3\" font-family=\"Helvetica,sans-Serif\" font-size=\"14.00\">value = [0, 1, 0]</text>\n<text text-anchor=\"start\" x=\"717\" y=\"-119.3\" font-family=\"Helvetica,sans-Serif\" font-size=\"14.00\">class = versicolor</text>\n</g>\n<!-- 13&#45;&gt;15 -->\n<g id=\"edge15\" class=\"edge\">\n<title>13&#45;&gt;15</title>\n<path fill=\"none\" stroke=\"black\" d=\"M681.34,-222.91C694.96,-211.1 709.83,-198.22 723.4,-186.45\"/>\n<polygon fill=\"black\" stroke=\"black\" points=\"725.97,-188.86 731.23,-179.67 721.38,-183.57 725.97,-188.86\"/>\n</g>\n</g>\n</svg>\n",
            "text/plain": [
              "<graphviz.sources.Source at 0x7a9b82953490>"
            ]
          },
          "metadata": {},
          "execution_count": 6
        }
      ]
    },
    {
      "cell_type": "markdown",
      "source": [
        "#21.Write a python program to train a Decision Tree Classifier with a maximum depth of 3 and compare its accuracy with a fully grown tree."
      ],
      "metadata": {
        "id": "U_Pw1GnZ3mXO"
      }
    },
    {
      "cell_type": "code",
      "source": [
        "from sklearn.datasets import load_iris\n",
        "from sklearn.model_selection import train_test_split\n",
        "from sklearn.tree import DecisionTreeClassifier\n",
        "from sklearn.metrics import accuracy_score\n",
        "\n",
        "# Load the iris dataset\n",
        "iris = load_iris()\n",
        "\n",
        "# Split the data into training and testing sets\n",
        "X_train, X_test, y_train, y_test = train_test_split(iris.data, iris.target, test_size=0.3, random_state=42)\n",
        "\n",
        "# Create a Decision Tree Classifier with maximum depth of 3\n",
        "clf_limited_depth = DecisionTreeClassifier(max_depth=3)\n",
        "\n",
        "# Create a fully grown Decision Tree Classifier\n",
        "clf_full_depth = DecisionTreeClassifier()\n",
        "\n",
        "# Train the models\n",
        "clf_limited_depth.fit(X_train, y_train)\n",
        "clf_full_depth.fit(X_train, y_train)\n",
        "\n",
        "# Make predictions\n",
        "y_pred_limited_depth = clf_limited_depth.predict(X_test)\n",
        "y_pred_full_depth = clf_full_depth.predict(X_test)\n",
        "\n",
        "# Calculate accuracy scores\n",
        "accuracy_limited_depth = accuracy_score(y_test, y_pred_limited_depth)\n",
        "accuracy_full_depth = accuracy_score(y_test, y_pred_full_depth)\n",
        "\n",
        "# Print the accuracy scores\n",
        "print(\"Accuracy (Limited Depth):\", accuracy_limited_depth)\n",
        "print(\"Accuracy (Full Depth):\", accuracy_full_depth)"
      ],
      "metadata": {
        "colab": {
          "base_uri": "https://localhost:8080/"
        },
        "id": "Wo9gB0g54XMQ",
        "outputId": "e8d6ace4-9110-48f4-ff66-77f712479c51"
      },
      "execution_count": null,
      "outputs": [
        {
          "output_type": "stream",
          "name": "stdout",
          "text": [
            "Accuracy (Limited Depth): 1.0\n",
            "Accuracy (Full Depth): 1.0\n"
          ]
        }
      ]
    },
    {
      "cell_type": "markdown",
      "source": [
        "#23.Write a python Program to apply feature scaling before training a Decision Tree Classifier and Compare its accuracy with unscaled data."
      ],
      "metadata": {
        "id": "DuYcMyeV4ZI4"
      }
    },
    {
      "cell_type": "code",
      "source": [
        "from sklearn.datasets import load_iris\n",
        "from sklearn.model_selection import train_test_split\n",
        "from sklearn.tree import DecisionTreeClassifier\n",
        "from sklearn.preprocessing import StandardScaler\n",
        "from sklearn.metrics import accuracy_score\n",
        "\n",
        "# Load the iris dataset\n",
        "iris = load_iris()\n",
        "X, y = iris.data, iris.target\n",
        "\n",
        "# Split the data into training and testing sets\n",
        "X_train, X_test, y_train, y_test = train_test_split(X, y, test_size=0.3, random_state=42)\n",
        "\n",
        "# Create a StandardScaler object for feature scaling\n",
        "scaler = StandardScaler()\n",
        "\n",
        "# Apply feature scaling to the training data\n",
        "X_train_scaled = scaler.fit_transform(X_train)\n",
        "\n",
        "# Apply the same scaling to the testing data\n",
        "X_test_scaled = scaler.transform(X_test)\n",
        "\n",
        "# Create and train a Decision Tree Classifier with scaled data\n",
        "clf_scaled = DecisionTreeClassifier()\n",
        "clf_scaled.fit(X_train_scaled, y_train)\n",
        "\n",
        "# Create and train a Decision Tree Classifier with unscaled data\n",
        "clf_unscaled = DecisionTreeClassifier()\n",
        "clf_unscaled.fit(X_train, y_train)\n",
        "\n",
        "# Make predictions\n",
        "y_pred_scaled = clf_scaled.predict(X_test_scaled)\n",
        "y_pred_unscaled = clf_unscaled.predict(X_test)\n",
        "\n",
        "# Calculate accuracy scores\n",
        "accuracy_scaled = accuracy_score(y_test, y_pred_scaled)\n",
        "accuracy_unscaled = accuracy_score(y_test, y_pred_unscaled)\n",
        "\n",
        "# Print the accuracy scores\n",
        "print(\"Accuracy (Scaled Data):\", accuracy_scaled)\n",
        "print(\"Accuracy (Unscaled Data):\", accuracy_unscaled)"
      ],
      "metadata": {
        "colab": {
          "base_uri": "https://localhost:8080/"
        },
        "id": "XztS14eG4-JB",
        "outputId": "84ab421f-80db-4fac-ff65-5a33afde2d76"
      },
      "execution_count": null,
      "outputs": [
        {
          "output_type": "stream",
          "name": "stdout",
          "text": [
            "Accuracy (Scaled Data): 1.0\n",
            "Accuracy (Unscaled Data): 1.0\n"
          ]
        }
      ]
    },
    {
      "cell_type": "markdown",
      "source": [
        "#24.Write a python Program to train a Decision Tree Classifier using One-vs-Rest(OvR) Stretegy for multiclass classification."
      ],
      "metadata": {
        "id": "JKSIKltl5B_B"
      }
    },
    {
      "cell_type": "code",
      "source": [
        "from sklearn.datasets import load_iris\n",
        "from sklearn.model_selection import train_test_split\n",
        "from sklearn.tree import DecisionTreeClassifier\n",
        "from sklearn.multiclass import OneVsRestClassifier\n",
        "from sklearn.metrics import accuracy_score\n",
        "\n",
        "# Load the iris dataset\n",
        "iris = load_iris()\n",
        "X, y = iris.data, iris.target\n",
        "\n",
        "# Split the data into training and testing sets\n",
        "X_train, X_test, y_train, y_test = train_test_split(X, y, test_size=0.3, random_state=42)\n",
        "\n",
        "# Create a Decision Tree Classifier as the base estimator\n",
        "base_estimator = DecisionTreeClassifier()\n",
        "\n",
        "# Create a OneVsRestClassifier using the Decision Tree Classifier\n",
        "ovr_classifier = OneVsRestClassifier(estimator=base_estimator)\n",
        "\n",
        "# Train the OneVsRestClassifier\n",
        "ovr_classifier.fit(X_train, y_train)\n",
        "\n",
        "# Make predictions on the testing data\n",
        "y_pred = ovr_classifier.predict(X_test)\n",
        "\n",
        "# Calculate the accuracy of the model\n",
        "accuracy = accuracy_score(y_test, y_pred)\n",
        "\n",
        "# Print the accuracy\n",
        "print(\"Accuracy (One-vs-Rest):\", accuracy)"
      ],
      "metadata": {
        "colab": {
          "base_uri": "https://localhost:8080/"
        },
        "id": "jVuZR5sM5_gn",
        "outputId": "a52b14c6-9c28-4bd1-ed41-dc6e713ad510"
      },
      "execution_count": null,
      "outputs": [
        {
          "output_type": "stream",
          "name": "stdout",
          "text": [
            "Accuracy (One-vs-Rest): 1.0\n"
          ]
        }
      ]
    },
    {
      "cell_type": "markdown",
      "source": [
        "#25.Write a python program to train a Decision Tree Classifier and display the feature importance scores."
      ],
      "metadata": {
        "id": "l596AF5g6BeO"
      }
    },
    {
      "cell_type": "code",
      "source": [
        "from sklearn.datasets import load_iris\n",
        "from sklearn.model_selection import train_test_split\n",
        "from sklearn.tree import DecisionTreeClassifier\n",
        "\n",
        "# Load the iris dataset\n",
        "iris = load_iris()\n",
        "X, y = iris.data, iris.target\n",
        "\n",
        "# Split the data into training and testing sets\n",
        "X_train, X_test, y_train, y_test = train_test_split(X, y, test_size=0.3, random_state=42)\n",
        "\n",
        "# Create and train a Decision Tree Classifier\n",
        "clf = DecisionTreeClassifier()\n",
        "clf.fit(X_train, y_train)\n",
        "\n",
        "# Get feature importance scores\n",
        "importance_scores = clf.feature_importances_\n",
        "\n",
        "# Display feature importance scores along with feature names\n",
        "for feature_name, importance_score in zip(iris.feature_names, importance_scores):\n",
        "    print(f\"{feature_name}: {importance_score}\")"
      ],
      "metadata": {
        "colab": {
          "base_uri": "https://localhost:8080/"
        },
        "id": "zhGFdfT46sl2",
        "outputId": "fd9ff0ed-98f2-4530-a877-b46e5d438b67"
      },
      "execution_count": null,
      "outputs": [
        {
          "output_type": "stream",
          "name": "stdout",
          "text": [
            "sepal length (cm): 0.0\n",
            "sepal width (cm): 0.01911001911001911\n",
            "petal length (cm): 0.8932635518001373\n",
            "petal width (cm): 0.08762642908984374\n"
          ]
        }
      ]
    },
    {
      "cell_type": "markdown",
      "source": [
        "#26.Write a python program to train a Decision Tree Regressor with max_depth=5 and compare its performance with an unrestricted tree."
      ],
      "metadata": {
        "id": "6kalnfCZ6zkj"
      }
    },
    {
      "cell_type": "code",
      "source": [
        "from sklearn.datasets import fetch_california_housing\n",
        "from sklearn.tree import DecisionTreeRegressor\n",
        "from sklearn.model_selection import train_test_split\n",
        "from sklearn.metrics import mean_squared_error\n",
        "\n",
        "# Load the California housing dataset\n",
        "california = fetch_california_housing()\n",
        "X, y = california.data, california.target\n",
        "\n",
        "# Split the data into training and testing sets\n",
        "X_train, X_test, y_train, y_test = train_test_split(X, y, test_size=0.2, random_state=42)\n",
        "\n",
        "# Create and train a Decision Tree Regressor with max_depth=5\n",
        "regressor_depth5 = DecisionTreeRegressor(max_depth=5)\n",
        "regressor_depth5.fit(X_train, y_train)\n",
        "\n",
        "# Create and train an unrestricted Decision Tree Regressor\n",
        "regressor_unrestricted = DecisionTreeRegressor()\n",
        "regressor_unrestricted.fit(X_train, y_train)\n",
        "\n",
        "# Make predictions on the testing data\n",
        "y_pred_depth5 = regressor_depth5.predict(X_test)\n",
        "y_pred_unrestricted = regressor_unrestricted.predict(X_test)\n",
        "\n",
        "# Evaluate the models using Mean Squared Error (MSE)\n",
        "mse_depth5 = mean_squared_error(y_test, y_pred_depth5)\n",
        "mse_unrestricted = mean_squared_error(y_test, y_pred_unrestricted)\n",
        "\n",
        "# Print the results\n",
        "print(\"Decision Tree with max_depth=5:\")\n",
        "print(\"Mean Squared Error (MSE):\", mse_depth5)\n",
        "print(\"\\nUnrestricted Decision Tree:\")\n",
        "print(\"Mean Squared Error (MSE):\", mse_unrestricted)\n",
        "\n",
        "# Compare the results\n",
        "if mse_depth5 < mse_unrestricted:\n",
        "    print(\"\\nDecision Tree with max_depth=5 performs better.\")\n",
        "else:\n",
        "    print(\"\\nUnrestricted Decision Tree performs better.\")"
      ],
      "metadata": {
        "colab": {
          "base_uri": "https://localhost:8080/"
        },
        "id": "DcQpBP9A72pi",
        "outputId": "b4d7e2df-a85c-472b-f8d0-14995f2103ec"
      },
      "execution_count": null,
      "outputs": [
        {
          "output_type": "stream",
          "name": "stdout",
          "text": [
            "Decision Tree with max_depth=5:\n",
            "Mean Squared Error (MSE): 0.5245146178314736\n",
            "\n",
            "Unrestricted Decision Tree:\n",
            "Mean Squared Error (MSE): 0.5017159621065406\n",
            "\n",
            "Unrestricted Decision Tree performs better.\n"
          ]
        }
      ]
    },
    {
      "cell_type": "markdown",
      "source": [
        "#27.Write a python Program to train a Decision Tree Classifier,apply cost complexity pruning (CCP),and visualize its effect on accuracy."
      ],
      "metadata": {
        "id": "d_23paKX8fjJ"
      }
    },
    {
      "cell_type": "code",
      "source": [
        "import matplotlib.pyplot as plt\n",
        "from sklearn.datasets import load_breast_cancer\n",
        "from sklearn.model_selection import train_test_split\n",
        "from sklearn.tree import DecisionTreeClassifier\n",
        "from sklearn.metrics import accuracy_score\n",
        "\n",
        "# Load the breast cancer dataset\n",
        "data = load_breast_cancer()\n",
        "X, y = data.data, data.target\n",
        "\n",
        "# Split the data into training and testing sets\n",
        "X_train, X_test, y_train, y_test = train_test_split(X, y, test_size=0.2, random_state=42)\n",
        "\n",
        "# Train a Decision Tree Classifier with no pruning\n",
        "clf = DecisionTreeClassifier(random_state=42)\n",
        "clf.fit(X_train, y_train)\n",
        "y_pred = clf.predict(X_test)\n",
        "accuracy_no_pruning = accuracy_score(y_test, y_pred)\n",
        "print(f\"Accuracy without pruning: {accuracy_no_pruning:.4f}\")\n",
        "\n",
        "# Apply cost complexity pruning (CCP)\n",
        "path = clf.cost_complexity_pruning_path(X_train, y_train)\n",
        "ccp_alphas, impurities = path.ccp_alphas, path.impurities\n",
        "\n",
        "# Train and evaluate models with different CCP alpha values\n",
        "accuracies = []\n",
        "for ccp_alpha in ccp_alphas:\n",
        "    clf_pruned = DecisionTreeClassifier(random_state=42, ccp_alpha=ccp_alpha)\n",
        "    clf_pruned.fit(X_train, y_train)\n",
        "    y_pred_pruned = clf_pruned.predict(X_test)\n",
        "    accuracy_pruned = accuracy_score(y_test, y_pred_pruned)\n",
        "    accuracies.append(accuracy_pruned)\n",
        "\n",
        "# Visualize the effect of CCP alpha on accuracy\n",
        "plt.figure(figsize=(10, 6))\n",
        "plt.plot(ccp_alphas, accuracies, marker='o', drawstyle=\"steps-post\")\n",
        "plt.xlabel(\"ccp_alpha\")\n",
        "plt.ylabel(\"Accuracy\")\n",
        "plt.title(\"Accuracy vs. ccp_alpha for Decision Tree\")\n",
        "plt.grid(True)\n",
        "plt.show()"
      ],
      "metadata": {
        "colab": {
          "base_uri": "https://localhost:8080/",
          "height": 581
        },
        "id": "QGje7Y7o9cJu",
        "outputId": "f1ee95c6-44fa-4d52-c187-97356d153b69"
      },
      "execution_count": null,
      "outputs": [
        {
          "output_type": "stream",
          "name": "stdout",
          "text": [
            "Accuracy without pruning: 0.9474\n"
          ]
        },
        {
          "output_type": "display_data",
          "data": {
            "text/plain": [
              "<Figure size 1000x600 with 1 Axes>"
            ],
            "image/png": "[encoded data removed]"
          },
          "metadata": {}
        }
      ]
    },
    {
      "cell_type": "markdown",
      "source": [
        "#28.Write a python program to train a Decision Tree Classifier and evaluate its percformance using Precision Recall,and F1-score."
      ],
      "metadata": {
        "id": "BtIjBVvNDwix"
      }
    },
    {
      "cell_type": "code",
      "source": [
        "import pandas as pd\n",
        "from sklearn.datasets import load_breast_cancer\n",
        "from sklearn.model_selection import train_test_split\n",
        "from sklearn.tree import DecisionTreeClassifier\n",
        "from sklearn.metrics import accuracy_score, precision_score, recall_score, f1_score\n",
        "\n",
        "\n",
        "# Load the breast cancer dataset\n",
        "breast_cancer = load_breast_cancer()\n",
        "X, y = breast_cancer.data, breast_cancer.target\n",
        "\n",
        "# Split the data into training and testing sets\n",
        "X_train, X_test, y_train, y_test = train_test_split(X, y, test_size=0.2, random_state=42)\n",
        "\n",
        "# Create and train the Decision Tree Classifier\n",
        "classifier = DecisionTreeClassifier()\n",
        "classifier.fit(X_train, y_train)\n",
        "\n",
        "# Make predictions on the test set\n",
        "y_pred = classifier.predict(X_test)\n",
        "\n",
        "# Evaluate the model\n",
        "accuracy = accuracy_score(y_test, y_pred)\n",
        "precision = precision_score(y_test, y_pred)\n",
        "recall = recall_score(y_test, y_pred)\n",
        "f1 = f1_score(y_test, y_pred)\n",
        "\n",
        "# Print the evaluation metrics\n",
        "print(f\"Accuracy: {accuracy}\")\n",
        "print(f\"Precision: {precision}\")\n",
        "print(f\"Recall: {recall}\")\n",
        "print(f\"F1-score: {f1}\")"
      ],
      "metadata": {
        "colab": {
          "base_uri": "https://localhost:8080/"
        },
        "id": "RrhuWbflFSfv",
        "outputId": "c163dd4e-1a0a-4c1f-9745-87a435024085"
      },
      "execution_count": 1,
      "outputs": [
        {
          "output_type": "stream",
          "name": "stdout",
          "text": [
            "Accuracy: 0.9385964912280702\n",
            "Precision: 0.9444444444444444\n",
            "Recall: 0.9577464788732394\n",
            "F1-score: 0.951048951048951\n"
          ]
        }
      ]
    },
    {
      "cell_type": "markdown",
      "source": [
        "#29.Write a python program to train a Decision Tree Classifier and visualize the confusion matrix using seaborn."
      ],
      "metadata": {
        "id": "qvAf3DLlFWnl"
      }
    },
    {
      "cell_type": "code",
      "source": [
        "import seaborn as sns\n",
        "import matplotlib.pyplot as plt\n",
        "from sklearn.model_selection import train_test_split\n",
        "from sklearn.tree import DecisionTreeClassifier\n",
        "from sklearn.metrics import confusion_matrix\n",
        "# Load the breast cancer dataset\n",
        "from sklearn.datasets import load_breast_cancer\n",
        "breast_cancer = load_breast_cancer()\n",
        "X, y = breast_cancer.data, breast_cancer.target\n",
        "\n",
        "# Split the data into training and testing sets\n",
        "X_train, X_test, y_train, y_test = train_test_split(X, y, test_size=0.2, random_state=42)  # Adjust test_size and random_state as needed\n",
        "\n",
        "# Create and train the Decision Tree Classifier\n",
        "classifier = DecisionTreeClassifier()\n",
        "classifier.fit(X_train, y_train)\n",
        "\n",
        "# Make predictions on the test set\n",
        "y_pred = classifier.predict(X_test)\n",
        "\n",
        "# Generate the confusion matrix\n",
        "cm = confusion_matrix(y_test, y_pred)\n",
        "\n",
        "# Visualize the confusion matrix using seaborn\n",
        "sns.heatmap(cm, annot=True, fmt='d', cmap='Blues')  # 'd' for integers, 'Blues' for colormap\n",
        "plt.xlabel('Predicted')\n",
        "plt.ylabel('Actual')\n",
        "plt.title('Confusion Matrix')\n",
        "plt.show()  # Display the plot"
      ],
      "metadata": {
        "colab": {
          "base_uri": "https://localhost:8080/",
          "height": 472
        },
        "id": "y76YyX-LF2-m",
        "outputId": "60a0c1fa-60c9-43d6-f196-a43f2cd07c8d"
      },
      "execution_count": 2,
      "outputs": [
        {
          "output_type": "display_data",
          "data": {
            "text/plain": [
              "<Figure size 640x480 with 2 Axes>"
            ],
            "image/png": "[encoded data removed]"
          },
          "metadata": {}
        }
      ]
    },
    {
      "cell_type": "markdown",
      "source": [
        "#30.Write a python program to train a Decision Tree Classifier and use GridsearchCV to find the optimal values for max_depth and min_samples_split."
      ],
      "metadata": {
        "id": "rYRSNVp0F5aV"
      }
    },
    {
      "cell_type": "code",
      "source": [
        "from sklearn.datasets import load_breast_cancer\n",
        "from sklearn.model_selection import train_test_split, GridSearchCV\n",
        "from sklearn.tree import DecisionTreeClassifier\n",
        "from sklearn.metrics import accuracy_score\n",
        "\n",
        "\n",
        "# Load the breast cancer dataset\n",
        "breast_cancer = load_breast_cancer()\n",
        "X, y = breast_cancer.data, breast_cancer.target\n",
        "\n",
        "# Split the data into training and testing sets\n",
        "X_train, X_test, y_train, y_test = train_test_split(X, y, test_size=0.2, random_state=42)\n",
        "\n",
        "# Define the parameter grid for GridSearchCV\n",
        "param_grid = {\n",
        "    'max_depth': [2, 3, 4, 5, 6, 7, 8, 9, 10],  # Explore different values for max_depth\n",
        "    'min_samples_split': [2, 3, 4, 5, 6, 7, 8, 9, 10]  # Explore different values for min_samples_split\n",
        "}\n",
        "\n",
        "# Create a Decision Tree Classifier object\n",
        "classifier = DecisionTreeClassifier()\n",
        "\n",
        "# Create a GridSearchCV object\n",
        "grid_search = GridSearchCV(classifier, param_grid, cv=5, scoring='accuracy')  # cv=5 for 5-fold cross-validation\n",
        "\n",
        "# Fit the GridSearchCV object to the training data\n",
        "grid_search.fit(X_train, y_train)\n",
        "\n",
        "# Get the best hyperparameters\n",
        "best_max_depth = grid_search.best_params_['max_depth']\n",
        "best_min_samples_split = grid_search.best_params_['min_samples_split']\n",
        "\n",
        "# Print the best hyperparameters\n",
        "print(f\"Best max_depth: {best_max_depth}\")\n",
        "print(f\"Best min_samples_split: {best_min_samples_split}\")\n",
        "\n",
        "# Train a new Decision Tree Classifier with the best hyperparameters\n",
        "best_classifier = DecisionTreeClassifier(max_depth=best_max_depth, min_samples_split=best_min_samples_split)\n",
        "best_classifier.fit(X_train, y_train)\n",
        "\n",
        "# Make predictions on the test set\n",
        "y_pred = best_classifier.predict(X_test)\n",
        "\n",
        "# Evaluate the model\n",
        "accuracy = accuracy_score(y_test, y_pred)\n",
        "\n",
        "# Print the accuracy\n",
        "print(f\"Accuracy with best hyperparameters: {accuracy}\")"
      ],
      "metadata": {
        "colab": {
          "base_uri": "https://localhost:8080/"
        },
        "id": "izEWHqlPGuHU",
        "outputId": "b8395013-3377-43e9-e8fa-33f621d3bcf5"
      },
      "execution_count": 3,
      "outputs": [
        {
          "output_type": "stream",
          "name": "stdout",
          "text": [
            "Best max_depth: 5\n",
            "Best min_samples_split: 9\n",
            "Accuracy with best hyperparameters: 0.9385964912280702\n"
          ]
        }
      ]
    }
  ]
}